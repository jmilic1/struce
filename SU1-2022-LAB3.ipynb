{
 "cells":[
  {
   "cell_type":"markdown",
   "source":[
    "Sveučilište u Zagrebu  \n",
    "Fakultet elektrotehnike i računarstva  \n",
    "  \n",
    "## Strojno učenje 1 2022\/2023  \n",
    "http:\/\/www.fer.unizg.hr\/predmet\/struce1"
   ],
   "attachments":{
    
   },
   "metadata":{
    "datalore":{
     "node_id":"oiB0mUDqbBFHH2jGHMHaA4",
     "type":"MD",
     "hide_input_from_viewers":false,
     "hide_output_from_viewers":false,
     "report_properties":{
      
     }
    }
   }
  },
  {
   "cell_type":"markdown",
   "source":[
    "------------------------------\n",
    "\n",
    "### Treća laboratorijska vježba: Stroj potpornih vektora i neparametarske metode\n",
    "\n",
    "*Verzija: 1.0 \n",
    "Zadnji put ažurirano: 1. listopada 2021.*\n",
    "\n",
    "(c) 2015-2022 Jan Šnajder, Domagoj Alagić  \n",
    "\n",
    "Rok za predaju: **11. prosinca 2022. u 23:59h**  \n",
    "\n",
    "------------------------------"
   ],
   "attachments":{
    
   },
   "metadata":{
    "datalore":{
     "node_id":"7eDTREQ09WP9wbdsOYjlqY",
     "type":"MD",
     "hide_input_from_viewers":false,
     "hide_output_from_viewers":false,
     "report_properties":{
      
     }
    }
   }
  },
  {
   "cell_type":"markdown",
   "source":[
    "### Upute\n",
    "\n",
    "Treća laboratorijska vježba sastoji se od osam zadataka. U nastavku slijedite upute navedene u ćelijama s tekstom. Rješavanje vježbe svodi se na **dopunjavanje ove bilježnice**: umetanja ćelije ili više njih **ispod** teksta zadatka, pisanja odgovarajućeg kôda te evaluiranja ćelija. \n",
    "\n",
    "Osigurajte da u potpunosti **razumijete** kôd koji ste napisali. Kod predaje vježbe, morate biti u stanju na zahtjev asistenta (ili demonstratora) preinačiti i ponovno evaluirati Vaš kôd. Nadalje, morate razumjeti teorijske osnove onoga što radite, u okvirima onoga što smo obradili na predavanju. Ispod nekih zadataka možete naći i pitanja koja služe kao smjernice za bolje razumijevanje gradiva (**nemojte pisati** odgovore na pitanja u bilježnicu). Stoga se nemojte ograničiti samo na to da riješite zadatak, nego slobodno eksperimentirajte. To upravo i jest svrha ovih vježbi.\n",
    "\n",
    "Vježbe trebate raditi **samostalno**. Možete se konzultirati s drugima o načelnom načinu rješavanja, ali u konačnici morate sami odraditi vježbu. U protivnome vježba nema smisla."
   ],
   "attachments":{
    
   },
   "metadata":{
    "datalore":{
     "node_id":"WNmvr863pIGTFQSfWgYkmn",
     "type":"MD",
     "hide_input_from_viewers":false,
     "hide_output_from_viewers":false,
     "report_properties":{
      
     }
    }
   }
  },
  {
   "cell_type":"code",
   "source":[
    "import numpy as np\n",
    "import pandas as pd\n",
    "import matplotlib.pyplot as plt\n",
    "from sklearn.datasets import make_classification\n",
    "%pylab inline"
   ],
   "execution_count":3,
   "outputs":[
    {
     "name":"stdout",
     "text":[
      "Populating the interactive namespace from numpy and matplotlib\n"
     ],
     "output_type":"stream"
    }
   ],
   "metadata":{
    "datalore":{
     "node_id":"qh61XbeJD5N5uEHe5x1d23",
     "type":"CODE",
     "hide_input_from_viewers":false,
     "hide_output_from_viewers":false,
     "report_properties":{
      
     }
    }
   }
  },
  {
   "cell_type":"code",
   "source":[
    "def plot_2d_svc_problem(X, y, svc=None):\n",
    "    '''\n",
    "    Plots a two-dimensional labeled dataset (X,y) and, if SVC object is given, \n",
    "    the decision surfaces (with margin as well).\n",
    "    '''\n",
    "    assert X.shape[1] == 2, \"Dataset is not two-dimensional\"\n",
    "    if svc!=None : \n",
    "        # Create a mesh to plot in\n",
    "        r = 0.03  # mesh resolution\n",
    "        x_min, x_max = X[:, 0].min() - 1, X[:, 0].max() + 1\n",
    "        y_min, y_max = X[:, 1].min() - 1, X[:, 1].max() + 1\n",
    "        xx, yy = np.meshgrid(np.arange(x_min, x_max, r),\n",
    "                             np.arange(y_min, y_max, r))\n",
    "        XX=np.c_[xx.ravel(), yy.ravel()]\n",
    "        Z = np.array([svc_predict(svc, x) for x in XX])\n",
    "        # Put the result into a color plot\n",
    "        Z = Z.reshape(xx.shape)\n",
    "        plt.contourf(xx, yy, Z, cmap=plt.cm.Pastel1)\n",
    "\n",
    "    # Plot the dataset\n",
    "    plt.scatter(X[:,0],X[:,1], c=y, cmap=plt.cm.Paired, marker='o', s=50)\n",
    "    \n",
    "def plot_2d_clf_problem(X, y, h=None):\n",
    "    '''\n",
    "    Plots a two-dimensional labeled dataset (X,y) and, if function h(x) is given, \n",
    "    the decision surfaces.\n",
    "    '''\n",
    "    assert X.shape[1] == 2, \"Dataset is not two-dimensional\"\n",
    "    if h!=None : \n",
    "        # Create a mesh to plot in\n",
    "        r = 0.03  # mesh resolution\n",
    "        x_min, x_max = X[:, 0].min() - 1, X[:, 0].max() + 1\n",
    "        y_min, y_max = X[:, 1].min() - 1, X[:, 1].max() + 1\n",
    "        xx, yy = np.meshgrid(np.arange(x_min, x_max, r),\n",
    "                             np.arange(y_min, y_max, r))\n",
    "        XX=np.c_[xx.ravel(), yy.ravel()]\n",
    "        try:\n",
    "            Z_test = h(XX)\n",
    "            if Z_test.shape == ():\n",
    "                # h returns a scalar when applied to a matrix; map explicitly\n",
    "                Z = np.array(list(map(h,XX)))\n",
    "            else :\n",
    "                Z = Z_test\n",
    "        except ValueError:\n",
    "            # can't apply to a matrix; map explicitly\n",
    "            Z = np.array(list(map(h,XX)))\n",
    "        # Put the result into a color plot\n",
    "        Z = Z.reshape(xx.shape)\n",
    "        plt.contourf(xx, yy, Z, cmap=plt.cm.Pastel1)\n",
    "\n",
    "    # Plot the dataset\n",
    "    plt.scatter(X[:,0],X[:,1], c=y, cmap=plt.cm.tab20b, marker='o', s=50);\n",
    "\n",
    "def svc_predict(svc, x) : \n",
    "    h = svc.decision_function([x])\n",
    "    if np.isclose(h, 0, atol=0.03):\n",
    "        return 5\n",
    "    elif (h >= -1 and h < -0.03) or (h > 0.03 and h <= 1):\n",
    "        return 0.5\n",
    "    else: \n",
    "        return max(-1, min(1, h))\n",
    "    \n",
    "def plot_error_surface(err, c_range=(0,5), g_range=(0,5)):\n",
    "    c1, c2 = c_range[0], c_range[1]\n",
    "    g1, g2 = g_range[0], g_range[1]\n",
    "    plt.xticks(range(0,g2-g1+1,5),range(g1,g2+1,5)); plt.xlabel(\"gamma\")\n",
    "    plt.yticks(range(0,c2-c1+1,5),range(c1,c2+1,5)); plt.ylabel(\"C\")\n",
    "    p = plt.contour(err);\n",
    "    plt.imshow(1-err, interpolation='bilinear', origin='lower',cmap=plt.cm.gray)\n",
    "    plt.clabel(p, inline=1, fontsize=10)\n",
    "\n",
    "def knn_eval(n_instances=100, n_features=2, n_classes=2, n_informative=2, \n",
    "             test_size=0.3, k_range=(1, 20), n_trials=40):\n",
    "    \n",
    "    train_errors = []\n",
    "    test_errors = []\n",
    "    ks = list(range(k_range[0], k_range[1] + 1))\n",
    "\n",
    "    for i in range(0, n_trials):\n",
    "        X, y = make_classification(n_instances, n_features, n_classes=n_classes, \n",
    "                                   n_informative=n_informative, n_redundant=0, n_clusters_per_class=1)\n",
    "        X_train, X_test, y_train, y_test = train_test_split(X, y, test_size=test_size)\n",
    "        train = []\n",
    "        test = []\n",
    "        for k in ks:\n",
    "            knn = KNeighborsClassifier(n_neighbors=k)\n",
    "            knn.fit(X_train, y_train)\n",
    "            train.append(1 - knn.score(X_train, y_train))\n",
    "            test.append(1 - knn.score(X_test, y_test))\n",
    "        train_errors.append(train)\n",
    "        test_errors.append(test)\n",
    "        \n",
    "    train_errors = np.mean(np.array(train_errors), axis=0)\n",
    "    test_errors = np.mean(np.array(test_errors), axis=0)\n",
    "    best_k = ks[np.argmin(test_errors)]\n",
    "    \n",
    "    return ks, best_k, train_errors, test_errors"
   ],
   "execution_count":4,
   "outputs":[
    
   ],
   "metadata":{
    "datalore":{
     "node_id":"WHO5KgghtnZZEZLaDSuzNC",
     "type":"CODE",
     "hide_input_from_viewers":false,
     "hide_output_from_viewers":false,
     "report_properties":{
      
     }
    }
   }
  },
  {
   "cell_type":"markdown",
   "source":[
    "### 1. Klasifikator stroja potpornih vektora (SVM)"
   ],
   "attachments":{
    
   },
   "metadata":{
    "datalore":{
     "node_id":"UzlSnR93FD8Mi0r26LQlUb",
     "type":"MD",
     "hide_input_from_viewers":false,
     "hide_output_from_viewers":false,
     "report_properties":{
      
     }
    }
   }
  },
  {
   "cell_type":"markdown",
   "source":[
    "#### (a)"
   ],
   "attachments":{
    
   },
   "metadata":{
    "datalore":{
     "node_id":"fX6pAvOQLiZOW9qB0DeHHd",
     "type":"MD",
     "hide_input_from_viewers":false,
     "hide_output_from_viewers":false,
     "report_properties":{
      
     }
    }
   }
  },
  {
   "cell_type":"markdown",
   "source":[
    "Upoznajte se s razredom [`svm.SVC`](http:\/\/scikit-learn.org\/stable\/modules\/generated\/sklearn.svm.SVC.html), koja ustvari implementira sučelje prema implementaciji [`libsvm`](http:\/\/www.csie.ntu.edu.tw\/~cjlin\/libsvm\/). Primijenite model `SVC` s linearnom jezgrenom funkcijom (tj. bez preslikavanja primjera u prostor značajki) na skup podataka `seven` (dan niže) s $N=7$ primjera. Ispišite koeficijente $w_0$ i $\\mathbf{w}$. Ispišite dualne koeficijente i potporne vektore. Završno, koristeći funkciju `plot_2d_svc_problem` iscrtajte podatke, decizijsku granicu i marginu. Funkcija prima podatke, oznake i klasifikator (objekt klase `SVC`). "
   ],
   "attachments":{
    
   },
   "metadata":{
    "datalore":{
     "node_id":"RHY2MmqUOCiFVTUSki7FCG",
     "type":"MD",
     "hide_input_from_viewers":false,
     "hide_output_from_viewers":false,
     "report_properties":{
      
     }
    }
   }
  },
  {
   "cell_type":"code",
   "source":[
    "from sklearn.svm import SVC\n",
    "\n",
    "seven_X = np.array([[2,1], [2,3], [1,2], [3,2], [5,2], [5,4], [6,3]])\n",
    "seven_y = np.array([1, 1, 1, 1, -1, -1, -1])"
   ],
   "execution_count":5,
   "outputs":[
    
   ],
   "metadata":{
    "datalore":{
     "node_id":"55f89bXVdWOUT3z4bG6QJK",
     "type":"CODE",
     "hide_input_from_viewers":false,
     "hide_output_from_viewers":false,
     "report_properties":{
      
     }
    }
   }
  },
  {
   "cell_type":"code",
   "source":[
    "clf = SVC(kernel='linear')\n",
    "clf.fit(seven_X, seven_y)\n",
    "\n",
    "plot_2d_svc_problem(seven_X, seven_y, clf)"
   ],
   "execution_count":6,
   "outputs":[
    {
     "data":{
      "image\/png":"[encoded data removed]"
     },
     "metadata":{
      "image\/png":{
       
      }
     },
     "output_type":"display_data"
    }
   ],
   "metadata":{
    "datalore":{
     "node_id":"AxXGPI4pbSJI62P0V3x1gB",
     "type":"CODE",
     "hide_input_from_viewers":false,
     "hide_output_from_viewers":false,
     "report_properties":{
      
     }
    }
   }
  },
  {
   "cell_type":"markdown",
   "source":[
    "**Q:** Koji primjeri su potporni vektori i zašto?"
   ],
   "attachments":{
    
   },
   "metadata":{
    "datalore":{
     "node_id":"furyBzn0xZRE3jZxq8yRdn",
     "type":"MD",
     "hide_input_from_viewers":false,
     "hide_output_from_viewers":false,
     "report_properties":{
      
     }
    }
   }
  },
  {
   "cell_type":"markdown",
   "source":[
    "#### (b)"
   ],
   "attachments":{
    
   },
   "metadata":{
    "datalore":{
     "node_id":"Bd817amxXiJYhz4bjpYtPv",
     "type":"MD",
     "hide_input_from_viewers":false,
     "hide_output_from_viewers":false,
     "report_properties":{
      
     }
    }
   }
  },
  {
   "cell_type":"markdown",
   "source":[
    "Definirajte funkciju `hinge(model, x, y)` koja izračunava gubitak zglobnice modela SVM na primjeru `x`. Izračunajte gubitke modela naučenog na skupu `seven` za primjere $\\mathbf{x}^{(2)}=(3,2)$ i $\\mathbf{x}^{(1)}=(3.5,2)$ koji su označeni pozitivno ($y=1$) te za $\\mathbf{x}^{(3)}=(4,2)$ koji je označen negativno ($y=-1$). Također, izračunajte prosječni gubitak SVM-a na skupu `seven`. Uvjerite se da je rezultat identičan onome koji biste dobili primjenom ugrađene funkcije [`metrics.hinge_loss`](http:\/\/scikit-learn.org\/stable\/modules\/generated\/sklearn.metrics.hinge_loss.html)."
   ],
   "attachments":{
    
   },
   "metadata":{
    "datalore":{
     "node_id":"LFwmODbfrekFjraXrnMzNU",
     "type":"MD",
     "hide_input_from_viewers":false,
     "hide_output_from_viewers":false,
     "report_properties":{
      
     }
    }
   }
  },
  {
   "cell_type":"code",
   "source":[
    "from sklearn.metrics import hinge_loss\n",
    "\n",
    "def hinge(model, x, y):\n",
    "    return max(0, 1 - y * model.decision_function(x))\n",
    "\n",
    "test_ys = [1, 1, -1]\n",
    "test_xs = [[3,2], [3.5,2], [4,2]]\n",
    "\n",
    "for i in range(len(test_ys)):\n",
    "    print(\"x =\", test_xs[i])\n",
    "    print(\"y =\", test_ys[i])\n",
    "    print(\"custom hinge:\", hinge(clf, [test_xs[i]], test_ys[i])[0])\n",
    "    print(\"hinge_loss:\", 2 - hinge_loss([test_ys[i]], clf.decision_function([test_xs[i]])))\n",
    "    print(\"###\")\n",
    "\n",
    "sum = 0\n",
    "for i in range(len(seven_y)):\n",
    "    sum += hinge(clf, [seven_X[i]], seven_y[i])\n",
    "\n",
    "print(sum\/7)\n",
    "print(hinge_loss(seven_y, clf.decision_function(seven_X)))"
   ],
   "execution_count":27,
   "outputs":[
    {
     "name":"stdout",
     "text":[
      "x = [3, 2]\n",
      "y = 1\n",
      "custom hinge: 0.00019531249999893419\n",
      "hinge_loss: 0.00019531249999893419\n",
      "###\n",
      "x = [3.5, 2]\n",
      "y = 1\n",
      "custom hinge: 0.5000488281249984\n",
      "hinge_loss: 0.5000488281249984\n",
      "###\n",
      "x = [4, 2]\n",
      "y = -1\n",
      "custom hinge: 1.0000976562500012\n",
      "hinge_loss: 0.9999023437499988\n",
      "###\n",
      "[8.37053571e-05]\n",
      "8.37053571429079e-05\n"
     ],
     "output_type":"stream"
    }
   ],
   "metadata":{
    "datalore":{
     "node_id":"LBiwZOmaAaeRIWZX7p0hDJ",
     "type":"CODE",
     "hide_input_from_viewers":false,
     "hide_output_from_viewers":false,
     "report_properties":{
      
     }
    }
   }
  },
  {
   "cell_type":"markdown",
   "source":[
    "#### (c)"
   ],
   "attachments":{
    
   },
   "metadata":{
    "datalore":{
     "node_id":"3xAR6iubMxMfZUNVAqU2ne",
     "type":"MD",
     "hide_input_from_viewers":false,
     "hide_output_from_viewers":false,
     "report_properties":{
      
     }
    }
   }
  },
  {
   "cell_type":"markdown",
   "source":[
    "Vratit ćemo se na skupove podataka `outlier` ($N=8$) i `unsep` ($N=8$) iz prošle laboratorijske vježbe (dani niže) i pogledati kako se model SVM-a nosi s njima. Naučite ugrađeni model SVM-a (s linearnom jezgrom) na ovim podatcima i iscrtajte decizijsku granicu (skupa s marginom). Također ispišite točnost modela korištenjem funkcije [`metrics.accuracy_score`](http:\/\/scikit-learn.org\/stable\/modules\/generated\/sklearn.metrics.accuracy_score.html)."
   ],
   "attachments":{
    
   },
   "metadata":{
    "datalore":{
     "node_id":"Y1diz95ynXKpaDLOgEypZU",
     "type":"MD",
     "hide_input_from_viewers":false,
     "hide_output_from_viewers":false,
     "report_properties":{
      
     }
    }
   }
  },
  {
   "cell_type":"code",
   "source":[
    "from sklearn.metrics import accuracy_score\n",
    "\n",
    "outlier_X = np.append(seven_X, [[12,8]], axis=0)\n",
    "outlier_y = np.append(seven_y, -1)\n",
    "\n",
    "unsep_X = np.append(seven_X, [[2,2]], axis=0)\n",
    "unsep_y = np.append(seven_y, -1)"
   ],
   "execution_count":29,
   "outputs":[
    
   ],
   "metadata":{
    "datalore":{
     "node_id":"V6BYv0pGBNeibsNYcDkY5F",
     "type":"CODE",
     "hide_input_from_viewers":false,
     "hide_output_from_viewers":false,
     "report_properties":{
      
     }
    }
   }
  },
  {
   "cell_type":"code",
   "source":[
    "clf = SVC(kernel='linear')\n",
    "clf.fit(outlier_X, outlier_y)\n",
    "\n",
    "print(accuracy_score(outlier_y, clf.predict(outlier_X)))\n",
    "\n",
    "plot_2d_svc_problem(outlier_X, outlier_y, clf)"
   ],
   "execution_count":30,
   "outputs":[
    {
     "name":"stdout",
     "text":[
      "1.0\n"
     ],
     "output_type":"stream"
    },
    {
     "data":{
      "image\/png":"[encoded data removed]"
     },
     "metadata":{
      "image\/png":{
       
      }
     },
     "output_type":"display_data"
    }
   ],
   "metadata":{
    "datalore":{
     "node_id":"JRJsnCN9NQ6o5f6FwQ6dRM",
     "type":"CODE",
     "hide_input_from_viewers":false,
     "hide_output_from_viewers":false,
     "report_properties":{
      
     }
    }
   }
  },
  {
   "cell_type":"code",
   "source":[
    "clf = SVC(kernel='linear')\n",
    "clf.fit(unsep_X, unsep_y)\n",
    "\n",
    "print(accuracy_score(unsep_y, clf.predict(unsep_X)))\n",
    "\n",
    "plot_2d_svc_problem(unsep_X, unsep_y, clf)"
   ],
   "execution_count":31,
   "outputs":[
    {
     "name":"stdout",
     "text":[
      "0.875\n"
     ],
     "output_type":"stream"
    },
    {
     "data":{
      "image\/png":"[encoded data removed]"
     },
     "metadata":{
      "image\/png":{
       
      }
     },
     "output_type":"display_data"
    }
   ],
   "metadata":{
    "datalore":{
     "node_id":"UkwspNpiV8ygX1cF150Szy",
     "type":"CODE",
     "hide_input_from_viewers":true,
     "hide_output_from_viewers":true
    }
   }
  },
  {
   "cell_type":"markdown",
   "source":[
    "**Q:** Kako stršeća vrijednost utječe na SVM?  \n",
    "**Q:** Kako se linearan SVM nosi s linearno neodvojivim skupom podataka?"
   ],
   "attachments":{
    
   },
   "metadata":{
    "datalore":{
     "node_id":"N0ihK2iHpaYnaGuCM29lIj",
     "type":"MD",
     "hide_input_from_viewers":false,
     "hide_output_from_viewers":false,
     "report_properties":{
      
     }
    }
   }
  },
  {
   "cell_type":"markdown",
   "source":[
    "### 2. Nelinearan SVM"
   ],
   "attachments":{
    
   },
   "metadata":{
    "datalore":{
     "node_id":"FpcQuiYgJKWbfjsMNj0QbA",
     "type":"MD",
     "hide_input_from_viewers":false,
     "hide_output_from_viewers":false,
     "report_properties":{
      
     }
    }
   }
  },
  {
   "cell_type":"markdown",
   "source":[
    "Ovaj zadatak pokazat će kako odabir jezgre utječe na kapacitet SVM-a. Na skupu `unsep` iz prošlog zadatka trenirajte tri modela SVM-a s različitim jezgrenim funkcijama: linearnom, polinomijalnom i radijalnom baznom (RBF) funkcijom. Varirajte hiperparametar $C$ po vrijednostima $C\\in\\{10^{-2},1,10^2\\}$, dok za ostale hiperparametre (stupanj polinoma za polinomijalnu jezgru odnosno hiperparametar $\\gamma$ za jezgru RBF) koristite podrazumijevane vrijednosti. Prikažite granice između klasa (i margine) na grafikonu organiziranome u polje $3x3$, gdje su stupci različite jezgre, a retci različite vrijednosti parametra $C$."
   ],
   "attachments":{
    
   },
   "metadata":{
    "datalore":{
     "node_id":"xkzutOsH3yjMDaWmT0ISCM",
     "type":"MD",
     "hide_input_from_viewers":false,
     "hide_output_from_viewers":false,
     "report_properties":{
      
     }
    }
   }
  },
  {
   "cell_type":"code",
   "source":[
    "def plot_2d_svc_problem_mine(X, y, ax, svc=None):\n",
    "    '''\n",
    "    Plots a two-dimensional labeled dataset (X,y) and, if SVC object is given, \n",
    "    the decision surfaces (with margin as well).\n",
    "    '''\n",
    "    assert X.shape[1] == 2, \"Dataset is not two-dimensional\"\n",
    "    if svc!=None : \n",
    "        # Create a mesh to plot in\n",
    "        r = 0.03  # mesh resolution\n",
    "        x_min, x_max = X[:, 0].min() - 1, X[:, 0].max() + 1\n",
    "        y_min, y_max = X[:, 1].min() - 1, X[:, 1].max() + 1\n",
    "        xx, yy = np.meshgrid(np.arange(x_min, x_max, r),\n",
    "                             np.arange(y_min, y_max, r))\n",
    "        XX=np.c_[xx.ravel(), yy.ravel()]\n",
    "        Z = np.array([svc_predict(svc, x) for x in XX])\n",
    "        # Put the result into a color plot\n",
    "        Z = Z.reshape(xx.shape)\n",
    "        ax.contourf(xx,yy,Z,cmap=plt.cm.Pastel1)\n",
    "        # plt.contourf(xx, yy, Z, cmap=plt.cm.Pastel1)\n",
    "\n",
    "    # Plot the dataset\n",
    "    ax.scatter(X[:,0],X[:,1], c=y, cmap=plt.cm.Paired, marker='o', s=50)\n",
    "\n",
    "import matplotlib.pyplot as plt\n",
    "kernels = ['linear', 'poly', 'rbf']\n",
    "cs = [0.01, 1, 100]\n",
    "\n",
    "fig, axs = plt.subplots(3, 3)\n",
    "i = 0\n",
    "for c in cs:\n",
    "    j=0\n",
    "    for kernel in kernels:\n",
    "        clf = SVC(kernel=kernel, C=c)\n",
    "        clf.fit(unsep_X, unsep_y)\n",
    "\n",
    "        plot_2d_svc_problem_mine(unsep_X, unsep_y, axs[i][j], clf)\n",
    "        j += 1\n",
    "    i+=1"
   ],
   "execution_count":33,
   "outputs":[
    {
     "data":{
      "image\/png":"[encoded data removed]"
     },
     "metadata":{
      "image\/png":{
       
      }
     },
     "output_type":"display_data"
    }
   ],
   "metadata":{
    "datalore":{
     "node_id":"6QJHNxrq7IZzR6921uuZ9o",
     "type":"CODE",
     "hide_input_from_viewers":false,
     "hide_output_from_viewers":false,
     "report_properties":{
      
     }
    }
   }
  },
  {
   "cell_type":"markdown",
   "source":[
    "### 3. Optimizacija hiperparametara SVM-a"
   ],
   "attachments":{
    
   },
   "metadata":{
    "datalore":{
     "node_id":"JXmXOOMvTYJx1aFIYjWlN3",
     "type":"MD",
     "hide_input_from_viewers":false,
     "hide_output_from_viewers":false,
     "report_properties":{
      
     }
    }
   }
  },
  {
   "cell_type":"markdown",
   "source":[
    "Pored hiperparametra $C$, model SVM s jezgrenom funkcijom RBF ima i dodatni hiperparametar $\\gamma=\\frac{1}{2\\sigma^2}$ (preciznost). Taj parametar također određuje složenost modela: velika vrijednost za $\\gamma$ znači da će RBF biti uska, primjeri će biti preslikani u prostor u kojem su (prema skalarnome produktu) međusobno vrlo različiti, što će rezultirati složenijim modelima. Obrnuto, mala vrijednost za $\\gamma$ znači da će RBF biti široka, primjeri će biti međusobno sličniji, što će rezultirati jednostavnijim modelima. To ujedno znači da, ako odabremo veći $\\gamma$, trebamo jače regularizirati model, tj. trebamo odabrati manji $C$, kako bismo spriječili prenaučenost. Zbog toga je potrebno zajednički optimirati hiperparametre $C$ i $\\gamma$, što se tipično radi iscrpnim pretraživanjem po rešetci (engl. *grid search*). Ovakav pristup primjenjuje se kod svih modela koji sadrže više od jednog hiperparametra."
   ],
   "attachments":{
    
   },
   "metadata":{
    "datalore":{
     "node_id":"VZckVLCtlQ5voWzjTW2EmR",
     "type":"MD",
     "hide_input_from_viewers":false,
     "hide_output_from_viewers":false,
     "report_properties":{
      
     }
    }
   }
  },
  {
   "cell_type":"markdown",
   "source":[
    "#### (a)"
   ],
   "attachments":{
    
   },
   "metadata":{
    "datalore":{
     "node_id":"nwRnY1JEdQN98lOtnFONId",
     "type":"MD",
     "hide_input_from_viewers":false,
     "hide_output_from_viewers":false,
     "report_properties":{
      
     }
    }
   }
  },
  {
   "cell_type":"markdown",
   "source":[
    "Definirajte funkciju \n",
    "\n",
    "> `grid_search(X_train, X_validate, y_train, y_validate, c_range=(c1,c2), g_range=(g1,g2), error_surface=False)` \n",
    "\n",
    "koja optimizira parametre $C$ i $\\gamma$ pretraživanjem po rešetci. Funkcija treba pretražiti hiperparametre $C\\in\\{2^{c_1},2^{c_1+1},\\dots,2^{c_2}\\}$ i $\\gamma\\in\\{2^{g_1},2^{g_1+1},\\dots,2^{g_2}\\}$. Funkcija treba vratiti optimalne hiperparametre $(C^*,\\gamma^*)$, tj. one za koje na skupu za provjeru model ostvaruju najmanju pogrešku. Dodatno, ako je `surface=True`, funkcija treba vratiti matrice (tipa `ndarray`) pogreške modela (očekivanje gubitka 0-1) na skupu za učenje i skupu za provjeru. Svaka je matrica dimenzija $(c_2-c_1+1)\\times(g_2-g_1+1)$ (retci odgovaraju različitim vrijednostima za $C$, a stupci različitim vrijednostima za $\\gamma$)."
   ],
   "attachments":{
    
   },
   "metadata":{
    "datalore":{
     "node_id":"uQNsBu3MuwfeqrChhXJsYP",
     "type":"MD",
     "hide_input_from_viewers":false,
     "hide_output_from_viewers":false,
     "report_properties":{
      
     }
    }
   }
  },
  {
   "cell_type":"code",
   "source":[
    "from sklearn.metrics import accuracy_score, zero_one_loss\n",
    "import math\n",
    "\n",
    "def grid_search(X_train, X_validate, y_train, y_validate, c_range=(0,5), g_range=(0,5), error_surface=False):\n",
    "    err_train = np.empty((c_range[1] - c_range[0] + 1, g_range[1] - g_range[0] + 1))\n",
    "    err_test = np.empty((c_range[1] - c_range[0] + 1, g_range[1] - g_range[0] + 1))\n",
    "    min_err = None\n",
    "    best_c = None\n",
    "    best_gamma = None\n",
    "\n",
    "    for c in range(c_range[0], c_range[1] + 1):\n",
    "        for gamma in range(g_range[0], g_range[1] + 1):\n",
    "            clf = SVC(C = 2 ** c, gamma = 2 ** gamma)\n",
    "            clf.fit(X_train, y_train)\n",
    "        \n",
    "            err_train[c, gamma] = zero_one_loss(y_train, clf.predict(X_train))\n",
    "\n",
    "            err = zero_one_loss(y_validate, clf.predict(X_validate))\n",
    "            err_test[c, gamma] = err\n",
    "            if min_err is None or min_err > err:\n",
    "                min_err = err\n",
    "                best_c = c\n",
    "                best_gamma = gamma\n",
    "    \n",
    "    if error_surface:\n",
    "        return best_c, best_gamma, err_train, err_test\n",
    "    return best_c, best_gamma"
   ],
   "execution_count":34,
   "outputs":[
    
   ],
   "metadata":{
    "datalore":{
     "node_id":"Ol61GgsTm7gBEQZMJqUuLN",
     "type":"CODE",
     "hide_input_from_viewers":false,
     "hide_output_from_viewers":false,
     "report_properties":{
      
     }
    }
   }
  },
  {
   "cell_type":"markdown",
   "source":[
    "#### (b)"
   ],
   "attachments":{
    
   },
   "metadata":{
    "datalore":{
     "node_id":"s8E0mL9vqrMVHN9O38VYuT",
     "type":"MD",
     "hide_input_from_viewers":false,
     "hide_output_from_viewers":false,
     "report_properties":{
      
     }
    }
   }
  },
  {
   "cell_type":"markdown",
   "source":[
    "Pomoću funkcije [`datasets.make_classification`](http:\/\/scikit-learn.org\/stable\/modules\/generated\/sklearn.datasets.make_classification.html) generirajte **dva** skupa podataka od $N=200$ primjera: jedan s $n=2$ dimenzije i drugi s $n=100$ dimenzija. Primjeri neka dolaze iz dviju klasa, s time da svakoj klasi odgovaraju dvije grupe (`n_clusters_per_class=2`), kako bi problem bio nešto složeniji, tj. nelinearniji. Neka sve značajke budu informativne. Podijelite skup primjera na skup za učenje i skup za ispitivanje u omjeru 1:1.\n",
    "\n",
    "Na oba skupa optimirajte SVM s jezgrenom funkcijom RBF, u rešetci $C\\in\\{2^{-5},2^{-4},\\dots,2^{15}\\}$ i $\\gamma\\in\\{2^{-15},2^{-14},\\dots,2^{3}\\}$. Prikažite površinu pogreške modela na skupu za učenje i skupu za provjeru, i to na oba skupa podataka (ukupno četiri grafikona) te ispišite optimalne kombinacije hiperparametara. Za prikaz površine pogreške modela možete koristiti funkciju `mlutils.plot_error_surface`."
   ],
   "attachments":{
    
   },
   "metadata":{
    "datalore":{
     "node_id":"Q9Fb7TjXzhDmjSoQuJcjpQ",
     "type":"MD",
     "hide_input_from_viewers":false,
     "hide_output_from_viewers":false,
     "report_properties":{
      
     }
    }
   }
  },
  {
   "cell_type":"code",
   "source":[
    "from sklearn.datasets import make_classification\n",
    "from sklearn.model_selection import train_test_split\n",
    "\n",
    "first_X, first_y = make_classification(n_samples=200, n_features=2, n_redundant=0, n_clusters_per_class=2)\n",
    "second_X, second_y = make_classification(n_samples=200, n_features=100, n_redundant=0, n_clusters_per_class=2)\n",
    "\n",
    "first_train_X, first_test_X, first_train_y, first_test_y = train_test_split(first_X, first_y, test_size=0.5)\n",
    "second_train_X, second_test_X, second_train_y, second_test_y = train_test_split(second_X, second_y, test_size=0.5)\n",
    "\n",
    "c_range = (-5, 15)\n",
    "g_range = (-15, 3)\n",
    "first_c, first_gamma, first_train_error, first_test_error = grid_search(first_train_X, first_test_X, first_train_y, first_test_y, c_range, g_range, True)\n",
    "second_c, second_gamma, second_train_error, second_test_error = grid_search(second_train_X, second_test_X, second_train_y, second_test_y, c_range, g_range, True)\n",
    "\n",
    "print(\"c: \",first_c, \", gamma:\", first_gamma)\n",
    "print(second_c, second_gamma)\n",
    "\n",
    "plot_error_surface(first_train_error, c_range, g_range)"
   ],
   "execution_count":35,
   "outputs":[
    {
     "name":"stdout",
     "text":[
      "c:  -1 , gamma: 0\n",
      "7 -12\n"
     ],
     "output_type":"stream"
    },
    {
     "data":{
      "image\/png":"[encoded data removed]"
     },
     "metadata":{
      "image\/png":{
       
      }
     },
     "output_type":"display_data"
    }
   ],
   "metadata":{
    "datalore":{
     "node_id":"QXVZhHv6pNcXNFCDAS3Li2",
     "type":"CODE",
     "hide_input_from_viewers":false,
     "hide_output_from_viewers":false,
     "report_properties":{
      
     }
    }
   }
  },
  {
   "cell_type":"markdown",
   "source":[
    "**Q:** Razlikuje li se površina pogreške na skupu za učenje i skupu za ispitivanje? Zašto?  \n",
    "**Q:** U prikazu površine pogreške, koji dio površine odgovara prenaučenosti, a koji podnaučenosti? Zašto?  \n",
    "**Q:** Kako broj dimenzija $n$ utječe na površinu pogreške, odnosno na optimalne hiperparametre $(C^*, \\gamma^*)$?  \n",
    "**Q:** Preporuka je da povećanje vrijednosti za $\\gamma$ treba biti popraćeno smanjenjem vrijednosti za $C$. Govore li vaši rezultati u prilog toj preporuci? Obrazložite.  "
   ],
   "attachments":{
    
   },
   "metadata":{
    "datalore":{
     "node_id":"MrzghZzodsBPxMjh7iRp2I",
     "type":"MD",
     "hide_input_from_viewers":false,
     "hide_output_from_viewers":false,
     "report_properties":{
      
     }
    }
   }
  },
  {
   "cell_type":"markdown",
   "source":[
    "### 4. Utjecaj standardizacije značajki kod SVM-a"
   ],
   "attachments":{
    
   },
   "metadata":{
    "datalore":{
     "node_id":"lke57SwxkaOhA4RmIuU1El",
     "type":"MD",
     "hide_input_from_viewers":false,
     "hide_output_from_viewers":false,
     "report_properties":{
      
     }
    }
   }
  },
  {
   "cell_type":"markdown",
   "source":[
    "Iz laboratorijske vježbe na temu regresije, sjećamo se da značajke različitih skala mogu onemogućiti interpretaciju naučenog modela linearne regresije. Međutim, ovaj problem javlja se kod mnogih modela pa je tako skoro uvijek bitno prije treniranja skalirati značajke, kako bi se spriječilo da značajke s većim numeričkim rasponima dominiraju nad onima s manjim numeričkim rasponima. To vrijedi i za SVM, kod kojega skaliranje nerijetko može znatno poboljšati rezultate. Svrha ovog zadataka jest eksperimentalno utvrditi utjecaj skaliranja značajki na točnost SVM-a.\n",
    "\n",
    "Generirat ćemo dvoklasni skup od $N=500$ primjera s $n=2$ značajke, tako da je dimenzija $x_1$ većeg iznosa i većeg raspona od dimenzije $x_0$, te ćemo dodati jedan primjer koji vrijednošću značajke $x_1$ odskače od ostalih primjera:"
   ],
   "attachments":{
    
   },
   "metadata":{
    "datalore":{
     "node_id":"ekg05WhyQFaz6h4iaycJ9U",
     "type":"MD",
     "hide_input_from_viewers":false,
     "hide_output_from_viewers":false,
     "report_properties":{
      
     }
    }
   }
  },
  {
   "cell_type":"code",
   "source":[
    "from sklearn.datasets import make_classification\n",
    "\n",
    "X, y = make_classification(n_samples=500,n_features=2,n_classes=2,n_redundant=0,n_clusters_per_class=1, random_state=69)\n",
    "X[:,1] = X[:,1]*100+1000\n",
    "X[0,1] = 3000\n",
    "\n",
    "plot_2d_svc_problem(X, y)"
   ],
   "execution_count":36,
   "outputs":[
    {
     "data":{
      "image\/png":"[encoded data removed]"
     },
     "metadata":{
      "image\/png":{
       
      }
     },
     "output_type":"display_data"
    }
   ],
   "metadata":{
    "datalore":{
     "node_id":"u2KlkeUtmgiduHIvNf1UBe",
     "type":"CODE",
     "hide_input_from_viewers":false,
     "hide_output_from_viewers":false,
     "report_properties":{
      
     }
    }
   }
  },
  {
   "cell_type":"markdown",
   "source":[
    "#### (a)"
   ],
   "attachments":{
    
   },
   "metadata":{
    "datalore":{
     "node_id":"jm34jjgbJ76Ff4D28M3Gtb",
     "type":"MD",
     "hide_input_from_viewers":false,
     "hide_output_from_viewers":false,
     "report_properties":{
      
     }
    }
   }
  },
  {
   "cell_type":"markdown",
   "source":[
    "Proučite funkciju za iscrtavanje histograma [`hist`](http:\/\/matplotlib.org\/api\/pyplot_api.html#matplotlib.pyplot.hist). Prikažite histograme vrijednosti značajki $x_0$ i $x_1$ (ovdje i u sljedećim zadatcima koristite `bins=50`)."
   ],
   "attachments":{
    
   },
   "metadata":{
    "datalore":{
     "node_id":"gMxo8OzhBoMhzRSuPhdP8N",
     "type":"MD",
     "hide_input_from_viewers":false,
     "hide_output_from_viewers":false,
     "report_properties":{
      
     }
    }
   }
  },
  {
   "cell_type":"code",
   "source":[
    "plt.hist(X[:,0], bins=50)"
   ],
   "execution_count":37,
   "outputs":[
    {
     "data":{
      "text\/plain":[
       "(array([ 2.,  0.,  1.,  0.,  0.,  1.,  1.,  2.,  0.,  0.,  1.,  4.,  3.,\n",
       "         6.,  2.,  4., 14.,  4., 15., 12., 10., 14.,  7., 10., 15.,  9.,\n",
       "         9., 13., 15.,  7., 12.,  9., 17., 20., 24., 39., 27., 27., 32.,\n",
       "        32., 15., 20., 19.,  9.,  7.,  6.,  1.,  2.,  0.,  1.]),\n",
       " array([-4.52370727, -4.37882986, -4.23395246, -4.08907506, -3.94419766,\n",
       "        -3.79932025, -3.65444285, -3.50956545, -3.36468805, -3.21981065,\n",
       "        -3.07493324, -2.93005584, -2.78517844, -2.64030104, -2.49542363,\n",
       "        -2.35054623, -2.20566883, -2.06079143, -1.91591402, -1.77103662,\n",
       "        -1.62615922, -1.48128182, -1.33640441, -1.19152701, -1.04664961,\n",
       "        -0.90177221, -0.75689481, -0.6120174 , -0.46714   , -0.3222626 ,\n",
       "        -0.1773852 , -0.03250779,  0.11236961,  0.25724701,  0.40212441,\n",
       "         0.54700182,  0.69187922,  0.83675662,  0.98163402,  1.12651143,\n",
       "         1.27138883,  1.41626623,  1.56114363,  1.70602103,  1.85089844,\n",
       "         1.99577584,  2.14065324,  2.28553064,  2.43040805,  2.57528545,\n",
       "         2.72016285]),\n",
       " <BarContainer object of 50 artists>)"
      ]
     },
     "metadata":{
      
     },
     "output_type":"display_data"
    },
    {
     "data":{
      "image\/png":"[encoded data removed]"
     },
     "metadata":{
      "image\/png":{
       
      }
     },
     "output_type":"display_data"
    }
   ],
   "metadata":{
    "datalore":{
     "node_id":"fHWVx44a7UzOfvxT5x3F3E",
     "type":"CODE",
     "hide_input_from_viewers":false,
     "hide_output_from_viewers":false,
     "report_properties":{
      
     }
    }
   }
  },
  {
   "cell_type":"code",
   "source":[
    "plt.hist(X[:,1], bins=50)"
   ],
   "execution_count":38,
   "outputs":[
    {
     "data":{
      "text\/plain":[
       "(array([ 10.,  89., 109.,  42.,  13.,  47.,  87.,  73.,  27.,   2.,   0.,\n",
       "          0.,   0.,   0.,   0.,   0.,   0.,   0.,   0.,   0.,   0.,   0.,\n",
       "          0.,   0.,   0.,   0.,   0.,   0.,   0.,   0.,   0.,   0.,   0.,\n",
       "          0.,   0.,   0.,   0.,   0.,   0.,   0.,   0.,   0.,   0.,   0.,\n",
       "          0.,   0.,   0.,   0.,   0.,   1.]),\n",
       " array([ 805.60651176,  849.49438153,  893.38225129,  937.27012106,\n",
       "         981.15799082, 1025.04586058, 1068.93373035, 1112.82160011,\n",
       "        1156.70946988, 1200.59733964, 1244.48520941, 1288.37307917,\n",
       "        1332.26094894, 1376.1488187 , 1420.03668847, 1463.92455823,\n",
       "        1507.812428  , 1551.70029776, 1595.58816753, 1639.47603729,\n",
       "        1683.36390706, 1727.25177682, 1771.13964659, 1815.02751635,\n",
       "        1858.91538612, 1902.80325588, 1946.69112565, 1990.57899541,\n",
       "        2034.46686517, 2078.35473494, 2122.2426047 , 2166.13047447,\n",
       "        2210.01834423, 2253.906214  , 2297.79408376, 2341.68195353,\n",
       "        2385.56982329, 2429.45769306, 2473.34556282, 2517.23343259,\n",
       "        2561.12130235, 2605.00917212, 2648.89704188, 2692.78491165,\n",
       "        2736.67278141, 2780.56065118, 2824.44852094, 2868.33639071,\n",
       "        2912.22426047, 2956.11213024, 3000.        ]),\n",
       " <BarContainer object of 50 artists>)"
      ]
     },
     "metadata":{
      
     },
     "output_type":"display_data"
    },
    {
     "data":{
      "image\/png":"[encoded data removed]"
     },
     "metadata":{
      "image\/png":{
       
      }
     },
     "output_type":"display_data"
    }
   ],
   "metadata":{
    "datalore":{
     "node_id":"cCVmUp7PWvm6FnTu2mQzMg",
     "type":"CODE",
     "hide_input_from_viewers":true,
     "hide_output_from_viewers":true
    }
   }
  },
  {
   "cell_type":"markdown",
   "source":[
    "#### (b)"
   ],
   "attachments":{
    
   },
   "metadata":{
    "datalore":{
     "node_id":"sq1XAmUBUMais2mfICbMDu",
     "type":"MD",
     "hide_input_from_viewers":false,
     "hide_output_from_viewers":false,
     "report_properties":{
      
     }
    }
   }
  },
  {
   "cell_type":"markdown",
   "source":[
    "Proučite razred [`preprocessing.MinMaxScaler`](http:\/\/scikit-learn.org\/stable\/modules\/generated\/sklearn.preprocessing.MinMaxScaler.html). Prikažite histograme vrijednosti značajki $x_0$ i $x_1$ ako su iste skalirane min-max skaliranjem (ukupno dva histograma)."
   ],
   "attachments":{
    
   },
   "metadata":{
    "datalore":{
     "node_id":"CSKYMxy5SCuL640ZLym9Js",
     "type":"MD",
     "hide_input_from_viewers":false,
     "hide_output_from_viewers":false,
     "report_properties":{
      
     }
    }
   }
  },
  {
   "cell_type":"code",
   "source":[
    "from sklearn.preprocessing import MinMaxScaler\n",
    "\n",
    "scaler = MinMaxScaler()\n",
    "scaler = scaler.fit(X)\n",
    "scaled_X = scaler.transform(X)\n",
    "\n",
    "plt.hist(scaled_X[:,0], bins=50)"
   ],
   "execution_count":39,
   "outputs":[
    {
     "data":{
      "text\/plain":[
       "(array([ 2.,  0.,  1.,  0.,  0.,  1.,  1.,  2.,  0.,  0.,  1.,  4.,  3.,\n",
       "         6.,  2.,  4., 14.,  4., 15., 12., 10., 14.,  7., 10., 15.,  9.,\n",
       "         9., 13., 15.,  7., 12.,  9., 17., 20., 24., 39., 27., 27., 32.,\n",
       "        32., 15., 20., 19.,  9.,  7.,  6.,  1.,  2.,  0.,  1.]),\n",
       " array([0.  , 0.02, 0.04, 0.06, 0.08, 0.1 , 0.12, 0.14, 0.16, 0.18, 0.2 ,\n",
       "        0.22, 0.24, 0.26, 0.28, 0.3 , 0.32, 0.34, 0.36, 0.38, 0.4 , 0.42,\n",
       "        0.44, 0.46, 0.48, 0.5 , 0.52, 0.54, 0.56, 0.58, 0.6 , 0.62, 0.64,\n",
       "        0.66, 0.68, 0.7 , 0.72, 0.74, 0.76, 0.78, 0.8 , 0.82, 0.84, 0.86,\n",
       "        0.88, 0.9 , 0.92, 0.94, 0.96, 0.98, 1.  ]),\n",
       " <BarContainer object of 50 artists>)"
      ]
     },
     "metadata":{
      
     },
     "output_type":"display_data"
    },
    {
     "data":{
      "image\/png":"[encoded data removed]"
     },
     "metadata":{
      "image\/png":{
       
      }
     },
     "output_type":"display_data"
    }
   ],
   "metadata":{
    "datalore":{
     "node_id":"IzPwJzXmDuGf6tiZtxHnZ5",
     "type":"CODE",
     "hide_input_from_viewers":false,
     "hide_output_from_viewers":false,
     "report_properties":{
      
     }
    }
   }
  },
  {
   "cell_type":"code",
   "source":[
    "plt.hist(scaled_X[:,1], bins=50)"
   ],
   "execution_count":40,
   "outputs":[
    {
     "data":{
      "text\/plain":[
       "(array([ 10.,  89., 109.,  42.,  13.,  47.,  87.,  73.,  27.,   2.,   0.,\n",
       "          0.,   0.,   0.,   0.,   0.,   0.,   0.,   0.,   0.,   0.,   0.,\n",
       "          0.,   0.,   0.,   0.,   0.,   0.,   0.,   0.,   0.,   0.,   0.,\n",
       "          0.,   0.,   0.,   0.,   0.,   0.,   0.,   0.,   0.,   0.,   0.,\n",
       "          0.,   0.,   0.,   0.,   0.,   1.]),\n",
       " array([0.  , 0.02, 0.04, 0.06, 0.08, 0.1 , 0.12, 0.14, 0.16, 0.18, 0.2 ,\n",
       "        0.22, 0.24, 0.26, 0.28, 0.3 , 0.32, 0.34, 0.36, 0.38, 0.4 , 0.42,\n",
       "        0.44, 0.46, 0.48, 0.5 , 0.52, 0.54, 0.56, 0.58, 0.6 , 0.62, 0.64,\n",
       "        0.66, 0.68, 0.7 , 0.72, 0.74, 0.76, 0.78, 0.8 , 0.82, 0.84, 0.86,\n",
       "        0.88, 0.9 , 0.92, 0.94, 0.96, 0.98, 1.  ]),\n",
       " <BarContainer object of 50 artists>)"
      ]
     },
     "metadata":{
      
     },
     "output_type":"display_data"
    },
    {
     "data":{
      "image\/png":"[encoded data removed]"
     },
     "metadata":{
      "image\/png":{
       
      }
     },
     "output_type":"display_data"
    }
   ],
   "metadata":{
    "datalore":{
     "node_id":"FldgjcMKsVTzN1mxwUWNb4",
     "type":"CODE",
     "hide_input_from_viewers":true,
     "hide_output_from_viewers":true
    }
   }
  },
  {
   "cell_type":"markdown",
   "source":[
    "**Q:** Kako radi ovo skaliranje? <br>\n",
    "**Q:** Dobiveni histogrami su vrlo slični. U čemu je razlika? <br>"
   ],
   "attachments":{
    
   },
   "metadata":{
    "datalore":{
     "node_id":"WumlZemNq2qAmfcKpacFib",
     "type":"MD",
     "hide_input_from_viewers":false,
     "hide_output_from_viewers":false,
     "report_properties":{
      
     }
    }
   }
  },
  {
   "cell_type":"markdown",
   "source":[
    "#### (c)"
   ],
   "attachments":{
    
   },
   "metadata":{
    "datalore":{
     "node_id":"RMXdRZnCVmH7OG6dbRUnA6",
     "type":"MD",
     "hide_input_from_viewers":false,
     "hide_output_from_viewers":false,
     "report_properties":{
      
     }
    }
   }
  },
  {
   "cell_type":"markdown",
   "source":[
    "Proučite razred [`preprocessing.StandardScaler`](http:\/\/scikit-learn.org\/stable\/modules\/generated\/sklearn.preprocessing.StandardScaler.html). Prikažite histograme vrijednosti značajki $x_0$ i $x_1$ ako su iste skalirane standardnim skaliranjem (ukupno dva histograma)."
   ],
   "attachments":{
    
   },
   "metadata":{
    "datalore":{
     "node_id":"8EOq7uJZCjiFXrlpBppuMQ",
     "type":"MD",
     "hide_input_from_viewers":false,
     "hide_output_from_viewers":false,
     "report_properties":{
      
     }
    }
   }
  },
  {
   "cell_type":"code",
   "source":[
    "from sklearn.preprocessing import StandardScaler\n",
    "\n",
    "scaler = StandardScaler()\n",
    "scaler = scaler.fit(X)\n",
    "scaled_X = scaler.transform(X)\n",
    "\n",
    "plt.hist(scaled_X[:,0], bins=50)"
   ],
   "execution_count":41,
   "outputs":[
    {
     "data":{
      "text\/plain":[
       "(array([ 2.,  0.,  1.,  0.,  0.,  1.,  1.,  2.,  0.,  0.,  1.,  4.,  3.,\n",
       "         6.,  2.,  4., 14.,  4., 15., 12., 10., 14.,  7., 10., 15.,  9.,\n",
       "         9., 13., 15.,  7., 12.,  9., 17., 20., 24., 39., 27., 27., 32.,\n",
       "        32., 15., 20., 19.,  9.,  7.,  6.,  1.,  2.,  0.,  1.]),\n",
       " array([-3.4546444 , -3.34552113, -3.23639785, -3.12727457, -3.01815129,\n",
       "        -2.90902801, -2.79990473, -2.69078145, -2.58165817, -2.47253489,\n",
       "        -2.36341161, -2.25428833, -2.14516505, -2.03604177, -1.92691849,\n",
       "        -1.81779521, -1.70867193, -1.59954865, -1.49042537, -1.38130209,\n",
       "        -1.27217881, -1.16305553, -1.05393225, -0.94480897, -0.83568569,\n",
       "        -0.72656241, -0.61743913, -0.50831585, -0.39919257, -0.29006929,\n",
       "        -0.18094601, -0.07182273,  0.03730055,  0.14642383,  0.25554711,\n",
       "         0.36467039,  0.47379367,  0.58291695,  0.69204023,  0.80116351,\n",
       "         0.91028679,  1.01941007,  1.12853335,  1.23765663,  1.34677991,\n",
       "         1.45590319,  1.56502647,  1.67414975,  1.78327303,  1.89239631,\n",
       "         2.00151959]),\n",
       " <BarContainer object of 50 artists>)"
      ]
     },
     "metadata":{
      
     },
     "output_type":"display_data"
    },
    {
     "data":{
      "image\/png":"[encoded data removed]"
     },
     "metadata":{
      "image\/png":{
       
      }
     },
     "output_type":"display_data"
    }
   ],
   "metadata":{
    "datalore":{
     "node_id":"9kPpkwYVxymw31L5hPzscs",
     "type":"CODE",
     "hide_input_from_viewers":false,
     "hide_output_from_viewers":false,
     "report_properties":{
      
     }
    }
   }
  },
  {
   "cell_type":"code",
   "source":[
    "plt.hist(scaled_X[:,1], bins=50)"
   ],
   "execution_count":42,
   "outputs":[
    {
     "data":{
      "text\/plain":[
       "(array([ 10.,  89., 109.,  42.,  13.,  47.,  87.,  73.,  27.,   2.,   0.,\n",
       "          0.,   0.,   0.,   0.,   0.,   0.,   0.,   0.,   0.,   0.,   0.,\n",
       "          0.,   0.,   0.,   0.,   0.,   0.,   0.,   0.,   0.,   0.,   0.,\n",
       "          0.,   0.,   0.,   0.,   0.,   0.,   0.,   0.,   0.,   0.,   0.,\n",
       "          0.,   0.,   0.,   0.,   0.,   1.]),\n",
       " array([-1.43844406, -1.12241838, -0.8063927 , -0.49036702, -0.17434135,\n",
       "         0.14168433,  0.45771001,  0.77373568,  1.08976136,  1.40578704,\n",
       "         1.72181271,  2.03783839,  2.35386407,  2.66988975,  2.98591542,\n",
       "         3.3019411 ,  3.61796678,  3.93399245,  4.25001813,  4.56604381,\n",
       "         4.88206948,  5.19809516,  5.51412084,  5.83014652,  6.14617219,\n",
       "         6.46219787,  6.77822355,  7.09424922,  7.4102749 ,  7.72630058,\n",
       "         8.04232625,  8.35835193,  8.67437761,  8.99040329,  9.30642896,\n",
       "         9.62245464,  9.93848032, 10.25450599, 10.57053167, 10.88655735,\n",
       "        11.20258302, 11.5186087 , 11.83463438, 12.15066006, 12.46668573,\n",
       "        12.78271141, 13.09873709, 13.41476276, 13.73078844, 14.04681412,\n",
       "        14.36283979]),\n",
       " <BarContainer object of 50 artists>)"
      ]
     },
     "metadata":{
      
     },
     "output_type":"display_data"
    },
    {
     "data":{
      "image\/png":"[encoded data removed]"
     },
     "metadata":{
      "image\/png":{
       
      }
     },
     "output_type":"display_data"
    }
   ],
   "metadata":{
    "datalore":{
     "node_id":"nOa1aPb8g8JpLLQePWxrv7",
     "type":"CODE",
     "hide_input_from_viewers":true,
     "hide_output_from_viewers":true
    }
   }
  },
  {
   "cell_type":"markdown",
   "source":[
    "**Q:** Kako radi ovo skaliranje? <br>\n",
    "**Q:** Dobiveni histogrami su vrlo slični. U čemu je razlika? <br>"
   ],
   "attachments":{
    
   },
   "metadata":{
    "datalore":{
     "node_id":"DFxgZwvlMCSUX1HkjTiFxl",
     "type":"MD",
     "hide_input_from_viewers":false,
     "hide_output_from_viewers":false,
     "report_properties":{
      
     }
    }
   }
  },
  {
   "cell_type":"markdown",
   "source":[
    "#### (d)"
   ],
   "attachments":{
    
   },
   "metadata":{
    "datalore":{
     "node_id":"4baxsTmgrBFxaBNEzy6Xqm",
     "type":"MD",
     "hide_input_from_viewers":false,
     "hide_output_from_viewers":false,
     "report_properties":{
      
     }
    }
   }
  },
  {
   "cell_type":"markdown",
   "source":[
    "Podijelite skup primjera na skup za učenje i skup za ispitivanje u omjeru 1:1. Trenirajte SVM s jezgrenom funkcijom RBF na skupu za učenje i ispitajte točnost modela na skupu za ispitivanje, koristeći tri varijante gornjeg skupa: neskalirane značajke, standardizirane značajke i min-max skaliranje. Koristite podrazumijevane vrijednosti za $C$ i $\\gamma$. Izmjerite točnost svakog od triju modela na skupu za učenje i skupu za ispitivanje. Ponovite postupak više puta (npr. 30) te uprosječite rezultate (u svakom ponavljanju generirajte podatke kao što je dano na početku ovog zadatka).\n",
    "\n",
    "**NB:** Na skupu za učenje treba najprije izračunati parametre skaliranja te zatim primijeniti skaliranje (funkcija `fit_transform`), dok na skupu za ispitivanje treba samo primijeniti skaliranje s parametrima koji su dobiveni na skupu za učenje (funkcija `transform`)."
   ],
   "attachments":{
    
   },
   "metadata":{
    "datalore":{
     "node_id":"huzzQ7IfcIkMkKBdUBG6Wp",
     "type":"MD",
     "hide_input_from_viewers":false,
     "hide_output_from_viewers":false,
     "report_properties":{
      
     }
    }
   }
  },
  {
   "cell_type":"code",
   "source":[
    "loss = [[], []]\n",
    "loss_standardized = [[], []]\n",
    "loss_min_max = [[], []]\n",
    "\n",
    "for i in range(30):\n",
    "    X, y = make_classification(n_samples=500,n_features=2,n_classes=2,n_redundant=0,n_clusters_per_class=1)\n",
    "    X[:,1] = X[:,1]*100+1000\n",
    "    X[0,1] = 3000\n",
    "\n",
    "    X_train, X_test, y_train, y_test = train_test_split(X, y, test_size=0.5)\n",
    "\n",
    "    clf = SVC()\n",
    "    clf.fit(X_train, y_train)\n",
    "\n",
    "    loss[0].append(zero_one_loss(y_train, clf.predict(X_train)))\n",
    "    loss[1].append(zero_one_loss(y_test, clf.predict(X_test)))\n",
    "\n",
    "    scaler = StandardScaler()\n",
    "    scaler.fit(X_train)\n",
    "    X_scaled_train = scaler.transform(X_train)\n",
    "    X_scaled_test = scaler.transform(X_test)\n",
    "\n",
    "    clf = SVC()\n",
    "    clf.fit(X_scaled_train, y_train)\n",
    "\n",
    "    loss_standardized[0].append(zero_one_loss(y_train, clf.predict(X_scaled_train)))\n",
    "    loss_standardized[1].append(zero_one_loss(y_test, clf.predict(X_scaled_test)))\n",
    "\n",
    "    scaler = MinMaxScaler()\n",
    "    scaler.fit(X_train)\n",
    "    X_scaled_train = scaler.transform(X_train)\n",
    "    X_scaled_test = scaler.transform(X_test)\n",
    "    \n",
    "    clf = SVC()\n",
    "    clf.fit(X_scaled_train, y_train)\n",
    "\n",
    "    loss_min_max[0].append(zero_one_loss(y_train, clf.predict(X_scaled_train)))\n",
    "    loss_min_max[1].append(zero_one_loss(y_test, clf.predict(X_scaled_test)))\n",
    "\n",
    "print(\"non-scaled:    \", np.average(loss[0]), np.average(loss[1]))\n",
    "print(\"standardized:  \", np.average(loss_standardized[0]), np.average(loss_standardized[1]))\n",
    "print(\"min-max:       \", np.average(loss_min_max[0]), np.average(loss_min_max[1]))"
   ],
   "execution_count":43,
   "outputs":[
    {
     "name":"stdout",
     "text":[
      "non-scaled:     0.176 0.18186666666666665\n",
      "standardized:   0.04520000000000001 0.05133333333333335\n",
      "min-max:        0.04840000000000001 0.05440000000000002\n"
     ],
     "output_type":"stream"
    }
   ],
   "metadata":{
    "datalore":{
     "node_id":"cWr7U1cljrqyN9wl8iL6PM",
     "type":"CODE",
     "hide_input_from_viewers":false,
     "hide_output_from_viewers":false,
     "report_properties":{
      
     }
    }
   }
  },
  {
   "cell_type":"markdown",
   "source":[
    "**Q:** Jesu li rezultati očekivani? Obrazložite. <br>\n",
    "**Q:** Bi li bilo dobro kada bismo funkciju `fit_transform` primijenili na cijelom skupu podataka? Zašto? Bi li bilo dobro kada bismo tu funkciju primijenili zasebno na skupu za učenje i zasebno na skupu za ispitivanje? Zašto?"
   ],
   "attachments":{
    
   },
   "metadata":{
    "datalore":{
     "node_id":"Hi2MTnlYDgrJgNPKAIPqPe",
     "type":"MD",
     "hide_input_from_viewers":false,
     "hide_output_from_viewers":false,
     "report_properties":{
      
     }
    }
   }
  },
  {
   "cell_type":"markdown",
   "source":[
    "### 5. Algoritam k-najbližih susjeda"
   ],
   "attachments":{
    
   },
   "metadata":{
    "datalore":{
     "node_id":"S41sYbWX82KaWlOJL01a07",
     "type":"MD",
     "hide_input_from_viewers":false,
     "hide_output_from_viewers":false,
     "report_properties":{
      
     }
    }
   }
  },
  {
   "cell_type":"markdown",
   "source":[
    "U ovom zadatku promatrat ćemo jednostavan klasifikacijski model imena **algoritam k-najbližih susjeda**. Najprije ćete ga samostalno isprogramirati kako biste se detaljno upoznali s radom ovog modela, a zatim ćete prijeći na analizu njegovih hiperparametara (koristeći ugrađeni razred, radi efikasnosti)."
   ],
   "attachments":{
    
   },
   "metadata":{
    "datalore":{
     "node_id":"vxZnAKACTxfFCAPavR7l0G",
     "type":"MD",
     "hide_input_from_viewers":false,
     "hide_output_from_viewers":false,
     "report_properties":{
      
     }
    }
   }
  },
  {
   "cell_type":"markdown",
   "source":[
    "#### (a)"
   ],
   "attachments":{
    
   },
   "metadata":{
    "datalore":{
     "node_id":"jmkFylRtKelKrqLWcz2Hf4",
     "type":"MD",
     "hide_input_from_viewers":false,
     "hide_output_from_viewers":false,
     "report_properties":{
      
     }
    }
   }
  },
  {
   "cell_type":"markdown",
   "source":[
    "Implementirajte klasu `KNN`, koja implementira algoritam $k$ najbližih susjeda. Neobavezan parametar konstruktora jest broj susjeda `n_neighbours` ($k$), čija je podrazumijevana vrijednost 3. Definirajte metode `fit(X, y)` i `predict(X)`, koje služe za učenje modela odnosno predikciju. Kao mjeru udaljenosti koristite euklidsku udaljenost ([`numpy.linalg.norm`](https:\/\/numpy.org\/doc\/stable\/reference\/generated\/numpy.linalg.norm.html); pripazite na parametar `axis`). Nije potrebno implementirati nikakvu težinsku funkciju."
   ],
   "attachments":{
    
   },
   "metadata":{
    "datalore":{
     "node_id":"37I7SzJUmPN8LuGX2SKmJy",
     "type":"MD",
     "hide_input_from_viewers":false,
     "hide_output_from_viewers":false,
     "report_properties":{
      
     }
    }
   }
  },
  {
   "cell_type":"code",
   "source":[
    "from numpy.linalg import norm\n",
    "from scipy import stats\n",
    "\n",
    "class KNN:\n",
    "    def __init__(self, n_neighbors=3):\n",
    "        self.k=n_neighbors\n",
    "        self.Xs = None\n",
    "        self.ys = None\n",
    "                \n",
    "    def fit(self, X_train, y_train):\n",
    "        self.Xs = X_train\n",
    "        self.ys = y_train\n",
    "        \n",
    "    def predict(self, X_test):\n",
    "        distances = np.linalg.norm(self.Xs - X_test, axis=1)\n",
    "        nearest_neighbor_ids = distances.argsort()[:self.k]\n",
    "        nearest_neighbor_rings = self.ys[nearest_neighbor_ids]\n",
    "        result, smth = stats.mode(nearest_neighbor_rings)\n",
    "        return result[0]"
   ],
   "execution_count":47,
   "outputs":[
    
   ],
   "metadata":{
    "datalore":{
     "node_id":"EPw7ypnLYERlDHFZcUW0sE",
     "type":"CODE",
     "hide_input_from_viewers":false,
     "hide_output_from_viewers":false,
     "report_properties":{
      
     }
    }
   }
  },
  {
   "cell_type":"markdown",
   "source":[
    "#### (b)"
   ],
   "attachments":{
    
   },
   "metadata":{
    "datalore":{
     "node_id":"qVF6TMNeQMbAosBVvVAtp3",
     "type":"MD",
     "hide_input_from_viewers":false,
     "hide_output_from_viewers":false,
     "report_properties":{
      
     }
    }
   }
  },
  {
   "cell_type":"markdown",
   "source":[
    "Kako biste se uvjerili da je Vaša implementacija ispravna, usporedite ju s onom u razredu [`neighbors.KNeighborsClassifier`](http:\/\/scikit-learn.org\/stable\/modules\/generated\/sklearn.neighbors.KNeighborsClassifier.html). Budući da spomenuti razred koristi razne optimizacijske trikove pri pronalasku najbližih susjeda, obavezno postavite parametar `algorithm=brute`, jer bi se u protivnom moglo dogoditi da vam se predikcije razlikuju. Usporedite modele na danom (umjetnom) skupu podataka (prisjetite se kako se uspoređuju polja; [`numpy.all`](https:\/\/numpy.org\/doc\/stable\/reference\/generated\/numpy.all.html))."
   ],
   "attachments":{
    
   },
   "metadata":{
    "datalore":{
     "node_id":"ISmBqqhUaVzTjyutwjIlNL",
     "type":"MD",
     "hide_input_from_viewers":false,
     "hide_output_from_viewers":false,
     "report_properties":{
      
     }
    }
   }
  },
  {
   "cell_type":"code",
   "source":[
    "from sklearn.datasets import make_classification\n",
    "X_art, y_art = make_classification(n_samples=100, n_features=2, n_classes=2, \n",
    "                                   n_redundant=0, n_clusters_per_class=2,\n",
    "                                   random_state=69)\n",
    "plot_2d_clf_problem(X_art, y_art)"
   ],
   "execution_count":48,
   "outputs":[
    {
     "data":{
      "image\/png":"[encoded data removed]"
     },
     "metadata":{
      "image\/png":{
       
      }
     },
     "output_type":"display_data"
    }
   ],
   "metadata":{
    "datalore":{
     "node_id":"uI1hIWtuOdUirpxgeXJUnl",
     "type":"CODE",
     "hide_input_from_viewers":false,
     "hide_output_from_viewers":false,
     "report_properties":{
      
     }
    }
   }
  },
  {
   "cell_type":"code",
   "source":[
    "from sklearn.neighbors import KNeighborsClassifier\n",
    "\n",
    "knn = KNN()\n",
    "knn.fit(X_art, y_art)\n",
    "plot_2d_clf_problem(X_art, y_art, knn.predict)"
   ],
   "execution_count":49,
   "outputs":[
    {
     "data":{
      "image\/png":"[encoded data removed]"
     },
     "metadata":{
      "image\/png":{
       
      }
     },
     "output_type":"display_data"
    }
   ],
   "metadata":{
    "datalore":{
     "node_id":"Tyo7qEkDYsOX9kcn1RMWQ2",
     "type":"CODE",
     "hide_input_from_viewers":false,
     "hide_output_from_viewers":false,
     "report_properties":{
      
     }
    }
   }
  },
  {
   "cell_type":"code",
   "source":[
    "neigh = KNeighborsClassifier(n_neighbors=3, algorithm='brute')\n",
    "neigh.fit(X_art, y_art)\n",
    "plot_2d_clf_problem(X_art, y_art, neigh.predict)"
   ],
   "execution_count":50,
   "outputs":[
    {
     "data":{
      "image\/png":"[encoded data removed]"
     },
     "metadata":{
      "image\/png":{
       
      }
     },
     "output_type":"display_data"
    }
   ],
   "metadata":{
    "datalore":{
     "node_id":"2dbyZtO2KGCfbAThK9RMii",
     "type":"CODE",
     "hide_input_from_viewers":true,
     "hide_output_from_viewers":true
    }
   }
  },
  {
   "cell_type":"markdown",
   "source":[
    "### 6. Utjecaj hiperparametra *k*"
   ],
   "attachments":{
    
   },
   "metadata":{
    "datalore":{
     "node_id":"XbykMCrPtggWclG6lHqFwu",
     "type":"MD",
     "hide_input_from_viewers":false,
     "hide_output_from_viewers":false,
     "report_properties":{
      
     }
    }
   }
  },
  {
   "cell_type":"markdown",
   "source":[
    "Algoritam k-nn ima hiperparametar $k$ (broj susjeda). Taj hiperparametar izravno utječe na složenost algoritma, pa je stoga izrazito važno dobro odabrati njegovu vrijednost. Kao i kod mnogih drugih algoritama, tako i kod algoritma k-nn optimalna vrijednost hiperametra $k$ ovisi o konkretnom problemu, uključivo broju primjera $N$, broju značajki (dimenzija) $n$ te broju klasa $K$. \n",
    "\n",
    "Kako bismo dobili pouzdanije rezultate, potrebno je neke od eksperimenata ponoviti na različitim skupovima podataka i zatim uprosječiti dobivene vrijednosti pogrešaka. Koristite funkciju: `knn_eval` koja trenira i ispituje model k-najbližih susjeda na ukupno `n_instances` primjera, i to tako da za svaku vrijednost hiperparametra iz zadanog intervala `k_range` ponovi `n_trials` mjerenja, generirajući za svako od njih nov skup podataka i dijeleći ga na skup za učenje i skup za ispitivanje. Udio skupa za ispitivanje definiran je parametrom `test_size`. Povratna vrijednost funkcije jest četvorka `(ks, best_k, train_errors, test_errors)`. Vrijednost `best_k` je optimalna vrijednost hiperparametra $k$ (vrijednost za koju je pogreška na skupu za ispitivanje najmanja). Vrijednosti `train_errors` i `test_errors`  liste su pogrešaka na skupu za učenja odnosno skupu za testiranje za sve razmatrane vrijednosti hiperparametra $k$, dok `ks` upravo pohranjuje sve razmatrane vrijednosti hiperparametra $k$."
   ],
   "attachments":{
    
   },
   "metadata":{
    "datalore":{
     "node_id":"7ulLRDJ98XFn6MpwdjzZOw",
     "type":"MD",
     "hide_input_from_viewers":false,
     "hide_output_from_viewers":false,
     "report_properties":{
      
     }
    }
   }
  },
  {
   "cell_type":"markdown",
   "source":[
    "#### (a)\n",
    "\n",
    "Na podatcima iz zadatka 5, pomoću funkcije `plot_2d_clf_problem` iscrtajte prostor primjera i područja koja odgovaraju prvoj odnosno drugoj klasi. Ponovite ovo za $k\\in[1, 5, 20, 100]$. \n",
    "\n",
    "**NB:** Implementacija algoritma `KNeighborsClassifier` iz paketa `scikit-learn` vjerojatno će raditi brže od Vaše implementacije, pa u preostalim eksperimentima koristite nju."
   ],
   "attachments":{
    
   },
   "metadata":{
    "datalore":{
     "node_id":"KL3g4AsTsQ5MnFwL8rkHuy",
     "type":"MD",
     "hide_input_from_viewers":false,
     "hide_output_from_viewers":false,
     "report_properties":{
      
     }
    }
   }
  },
  {
   "cell_type":"code",
   "source":[
    "neigh = KNeighborsClassifier(n_neighbors=1, algorithm='brute')\n",
    "neigh.fit(X_art, y_art)\n",
    "plot_2d_clf_problem(X_art, y_art, neigh.predict)"
   ],
   "execution_count":51,
   "outputs":[
    {
     "data":{
      "image\/png":"[encoded data removed]"
     },
     "metadata":{
      "image\/png":{
       
      }
     },
     "output_type":"display_data"
    }
   ],
   "metadata":{
    "datalore":{
     "node_id":"iVWwAEeiGbvXLnpMSI9EyF",
     "type":"CODE",
     "hide_input_from_viewers":false,
     "hide_output_from_viewers":false,
     "report_properties":{
      
     }
    }
   }
  },
  {
   "cell_type":"code",
   "source":[
    "neigh = KNeighborsClassifier(n_neighbors=5, algorithm='brute')\n",
    "neigh.fit(X_art, y_art)\n",
    "plot_2d_clf_problem(X_art, y_art, neigh.predict)"
   ],
   "execution_count":52,
   "outputs":[
    {
     "data":{
      "image\/png":"[encoded data removed]"
     },
     "metadata":{
      "image\/png":{
       
      }
     },
     "output_type":"display_data"
    }
   ],
   "metadata":{
    "datalore":{
     "node_id":"PNWYaOd4aZWvvbbk0MfYkU",
     "type":"CODE",
     "hide_input_from_viewers":true,
     "hide_output_from_viewers":true
    }
   }
  },
  {
   "cell_type":"code",
   "source":[
    "neigh = KNeighborsClassifier(n_neighbors=20, algorithm='brute')\n",
    "neigh.fit(X_art, y_art)\n",
    "plot_2d_clf_problem(X_art, y_art, neigh.predict)"
   ],
   "execution_count":53,
   "outputs":[
    {
     "data":{
      "image\/png":"[encoded data removed]"
     },
     "metadata":{
      "image\/png":{
       
      }
     },
     "output_type":"display_data"
    }
   ],
   "metadata":{
    "datalore":{
     "node_id":"VqsezQn2RtQq45BqGfzO2H",
     "type":"CODE",
     "hide_input_from_viewers":true,
     "hide_output_from_viewers":true
    }
   }
  },
  {
   "cell_type":"code",
   "source":[
    "neigh = KNeighborsClassifier(n_neighbors=100, algorithm='brute')\n",
    "neigh.fit(X_art, y_art)\n",
    "plot_2d_clf_problem(X_art, y_art, neigh.predict)"
   ],
   "execution_count":54,
   "outputs":[
    {
     "data":{
      "image\/png":"[encoded data removed]"
     },
     "metadata":{
      "image\/png":{
       
      }
     },
     "output_type":"display_data"
    }
   ],
   "metadata":{
    "datalore":{
     "node_id":"cLjVS3hlB8EZBxAfKMohqt",
     "type":"CODE",
     "hide_input_from_viewers":true,
     "hide_output_from_viewers":true
    }
   }
  },
  {
   "cell_type":"markdown",
   "source":[
    "**Q:** Kako $k$ utječe na izgled granice između klasa?  \n",
    "**Q:** Kako se algoritam ponaša u ekstremnim situacijama: $k=1$ i $k=100$?"
   ],
   "attachments":{
    
   },
   "metadata":{
    "datalore":{
     "node_id":"f1E9TujwRfeUd63ZJ6QOSJ",
     "type":"MD",
     "hide_input_from_viewers":false,
     "hide_output_from_viewers":false,
     "report_properties":{
      
     }
    }
   }
  },
  {
   "cell_type":"markdown",
   "source":[
    "#### (b)"
   ],
   "attachments":{
    
   },
   "metadata":{
    "datalore":{
     "node_id":"HrD3BaftnZJOeZitZmuYDt",
     "type":"MD",
     "hide_input_from_viewers":false,
     "hide_output_from_viewers":false,
     "report_properties":{
      
     }
    }
   }
  },
  {
   "cell_type":"markdown",
   "source":[
    "Pomoću funkcije `knn_eval`, iscrtajte pogreške učenja i ispitivanja kao funkcije hiperparametra $k\\in\\{1,\\dots,20\\}$, za $N=\\{100, 250, 750\\}$ primjera. Načinite 3 zasebna grafikona. Za svaki ispišite optimalnu vrijednost hiperparametra $k$ (najlakše kao naslov grafikona; vidi [`plt.title`](https:\/\/matplotlib.org\/devdocs\/api\/_as_gen\/matplotlib.pyplot.title.html))."
   ],
   "attachments":{
    
   },
   "metadata":{
    "datalore":{
     "node_id":"xyXNaVVxdhyw5brT7Qzu4Q",
     "type":"MD",
     "hide_input_from_viewers":false,
     "hide_output_from_viewers":false,
     "report_properties":{
      
     }
    }
   }
  },
  {
   "cell_type":"code",
   "source":[
    "ks, best_k, train_errors, test_errors = knn_eval(n_instances=100, k_range=(1, 20))\n",
    "plt.plot(ks, train_errors, label='train_error')\n",
    "plt.plot(ks, test_errors, label='test_error')\n",
    "plt.legend()"
   ],
   "execution_count":55,
   "outputs":[
    {
     "data":{
      "text\/plain":[
       "<matplotlib.legend.Legend at 0x7f9d3a950e50>"
      ]
     },
     "metadata":{
      
     },
     "output_type":"display_data"
    },
    {
     "data":{
      "image\/png":"[encoded data removed]"
     },
     "metadata":{
      "image\/png":{
       
      }
     },
     "output_type":"display_data"
    }
   ],
   "metadata":{
    "datalore":{
     "node_id":"inr2GqUdUDlbktLoAFIm3j",
     "type":"CODE",
     "hide_input_from_viewers":false,
     "hide_output_from_viewers":false,
     "report_properties":{
      
     }
    }
   }
  },
  {
   "cell_type":"code",
   "source":[
    "ks, best_k, train_errors, test_errors = knn_eval(n_instances=250, k_range=(1, 20))\n",
    "plt.plot(ks, train_errors, label='train_error')\n",
    "plt.plot(ks, test_errors, label='test_error')\n",
    "plt.legend()"
   ],
   "execution_count":56,
   "outputs":[
    {
     "data":{
      "text\/plain":[
       "<matplotlib.legend.Legend at 0x7f9d3a927f70>"
      ]
     },
     "metadata":{
      
     },
     "output_type":"display_data"
    },
    {
     "data":{
      "image\/png":"[encoded data removed]"
     },
     "metadata":{
      "image\/png":{
       
      }
     },
     "output_type":"display_data"
    }
   ],
   "metadata":{
    "datalore":{
     "node_id":"PLyVico9g1XwqjeJRPEV7U",
     "type":"CODE",
     "hide_input_from_viewers":true,
     "hide_output_from_viewers":true
    }
   }
  },
  {
   "cell_type":"code",
   "source":[
    "ks, best_k, train_errors, test_errors = knn_eval(n_instances=750, k_range=(1, 20))\n",
    "plt.plot(ks, train_errors, label='train_error')\n",
    "plt.plot(ks, test_errors, label='test_error')\n",
    "plt.legend()"
   ],
   "execution_count":57,
   "outputs":[
    {
     "data":{
      "text\/plain":[
       "<matplotlib.legend.Legend at 0x7f9d3a847fd0>"
      ]
     },
     "metadata":{
      
     },
     "output_type":"display_data"
    },
    {
     "data":{
      "image\/png":"[encoded data removed]"
     },
     "metadata":{
      "image\/png":{
       
      }
     },
     "output_type":"display_data"
    }
   ],
   "metadata":{
    "datalore":{
     "node_id":"3pBKO5tvs8D9m9vJXGNJoE",
     "type":"CODE",
     "hide_input_from_viewers":true,
     "hide_output_from_viewers":true
    }
   }
  },
  {
   "cell_type":"markdown",
   "source":[
    "**Q:** Kako se mijenja optimalna vrijednost hiperparametra $k$ s obzirom na broj primjera $N$? Zašto?  \n",
    "**Q:** Kojem području odgovara prenaučenost, a kojem podnaučenost modela? Zašto?  \n",
    "**Q:** Je li uvijek moguće doseći pogrešku od 0 na skupu za učenje?"
   ],
   "attachments":{
    
   },
   "metadata":{
    "datalore":{
     "node_id":"SYW07bv5pAWBi9Aq6BS2ao",
     "type":"MD",
     "hide_input_from_viewers":false,
     "hide_output_from_viewers":false,
     "report_properties":{
      
     }
    }
   }
  },
  {
   "cell_type":"markdown",
   "source":[
    "### 7. Nebitne značajke"
   ],
   "attachments":{
    
   },
   "metadata":{
    "datalore":{
     "node_id":"Dzg3VLzQYKG4wZrN3enfgr",
     "type":"MD",
     "hide_input_from_viewers":false,
     "hide_output_from_viewers":false,
     "report_properties":{
      
     }
    }
   }
  },
  {
   "cell_type":"markdown",
   "source":[
    "Kako bismo provjerili u kojoj je mjeri algoritam k-najbližih susjeda osjetljiv na prisustvo nebitnih značajki, možemo iskoristiti funkciju [`datasets.make_classification`](http:\/\/scikit-learn.org\/stable\/modules\/generated\/sklearn.datasets.make_classification.html) kako bismo generirali skup primjera kojemu su neke od značajki nebitne. Naime, parametar `n_informative` određuje broj bitnih značajki, dok parametar `n_features` određuje ukupan broj značajki. Ako je `n_features > n_informative`, onda će neke od značajki biti nebitne. Umjesto da izravno upotrijebimo funkciju `make_classification`, upotrijebit ćemo funkciju `knn_eval`, koja samo preuzime ove parametre, ali nam omogućuje pouzdanije procjene.\n",
    "\n",
    "Koristite funkciju `mlutils.knn_eval` na dva načina. U oba koristite $N=1000$ primjera, $n=10$ značajki i $K=5$ klasa, ali za prvi neka su svih 10 značajki bitne, a za drugi neka je bitno samo 5 od 10 značajki. Ispišite pogreške učenja i ispitivanja za oba modela za optimalnu vrijednost $k$ (vrijednost za koju je ispitna pogreška najmanja)."
   ],
   "attachments":{
    
   },
   "metadata":{
    "datalore":{
     "node_id":"rkIjNdXZGr6Xwm0izKIiFw",
     "type":"MD",
     "hide_input_from_viewers":false,
     "hide_output_from_viewers":false,
     "report_properties":{
      
     }
    }
   }
  },
  {
   "cell_type":"code",
   "source":[
    "ks, best_k, train_errors, test_errors = knn_eval(n_instances=1000, n_features=10, n_classes=2, n_informative=10, k_range=(1,20))\n",
    "print(\"all informative\")\n",
    "print(\"best_k:\", best_k)\n",
    "print(\"train_errors:\", train_errors)\n",
    "print(\"test_errors:\", test_errors)\n",
    "\n",
    "print()\n",
    "print(\"========\")\n",
    "print()\n",
    "\n",
    "ks, best_k, train_errors, test_errors = knn_eval(n_instances=1000, n_features=10, n_classes=2, n_informative=5, k_range=(1,20))\n",
    "print(\"half informative\")\n",
    "print(\"best_k:\", best_k)\n",
    "print(\"train_errors:\", train_errors)\n",
    "print(\"test_errors:\", test_errors)"
   ],
   "execution_count":58,
   "outputs":[
    {
     "name":"stdout",
     "text":[
      "all informative\n",
      "best_k: 5\n",
      "train_errors: [0.         0.02       0.01675    0.02139286 0.01967857 0.02282143\n",
      " 0.02171429 0.02389286 0.02303571 0.02457143 0.02435714 0.02578571\n",
      " 0.02560714 0.02714286 0.02646429 0.02682143 0.02717857 0.02814286\n",
      " 0.02857143 0.02864286]\n",
      "test_errors: [0.03833333 0.04616667 0.02875    0.03283333 0.02866667 0.03225\n",
      " 0.02875    0.03175    0.02883333 0.03075    0.03025    0.03175\n",
      " 0.03066667 0.03266667 0.03216667 0.0335     0.033      0.0335\n",
      " 0.03133333 0.03375   ]\n",
      "\n",
      "========\n",
      "\n",
      "half informative\n",
      "best_k: 18\n",
      "train_errors: [0.         0.03567857 0.03292857 0.04017857 0.03957143 0.04271429\n",
      " 0.04353571 0.04557143 0.04535714 0.04678571 0.04778571 0.04842857\n",
      " 0.05017857 0.05039286 0.051      0.05135714 0.05207143 0.05303571\n",
      " 0.05378571 0.05392857]\n",
      "test_errors: [0.07958333 0.08566667 0.066      0.06716667 0.06183333 0.06333333\n",
      " 0.06066667 0.061      0.06058333 0.06033333 0.061      0.06\n",
      " 0.05958333 0.0595     0.05933333 0.05941667 0.05825    0.05808333\n",
      " 0.05833333 0.059     ]\n"
     ],
     "output_type":"stream"
    }
   ],
   "metadata":{
    "datalore":{
     "node_id":"dfQ04HXYkki3ToIUy8nR7a",
     "type":"CODE",
     "hide_input_from_viewers":false,
     "hide_output_from_viewers":false,
     "report_properties":{
      
     }
    }
   }
  },
  {
   "cell_type":"markdown",
   "source":[
    "**Q:** Je li algoritam k-najbližih susjeda osjetljiv na nebitne značajke? Zašto?  \n",
    "**Q:** Je li ovaj problem izražen i kod ostalih modela koje smo dosad radili (npr. logistička regresija)?  \n",
    "**Q:** Kako bi se model k-najbližih susjeda ponašao na skupu podataka sa značajkama različitih skala? Detaljno pojasnite."
   ],
   "attachments":{
    
   },
   "metadata":{
    "datalore":{
     "node_id":"NXGXIW5u5XXW47sEtvqnDg",
     "type":"MD",
     "hide_input_from_viewers":false,
     "hide_output_from_viewers":false,
     "report_properties":{
      
     }
    }
   }
  },
  {
   "cell_type":"markdown",
   "source":[
    "### 8. \"Prokletstvo dimenzionalnosti\""
   ],
   "attachments":{
    
   },
   "metadata":{
    "datalore":{
     "node_id":"aVneW2LMIqyDno3VJPKqhQ",
     "type":"MD",
     "hide_input_from_viewers":false,
     "hide_output_from_viewers":false,
     "report_properties":{
      
     }
    }
   }
  },
  {
   "cell_type":"markdown",
   "source":[
    "\"Prokletstvo dimenzionalnosti\" zbirni je naziv za niz fenomena povezanih s visokodimenzijskim prostorima. Ti fenomeni, koji se uglavnom protive našoj intuiciji, u većini slučajeva dovode do toga da se s porastom broja dimenzija (značajki) smanjenje točnost modela."
   ],
   "attachments":{
    
   },
   "metadata":{
    "datalore":{
     "node_id":"nCtNVBXtz5SRlO7B2ZhbhX",
     "type":"MD",
     "hide_input_from_viewers":false,
     "hide_output_from_viewers":false,
     "report_properties":{
      
     }
    }
   }
  },
  {
   "cell_type":"markdown",
   "source":[
    "Općenito, povećanje dimenzija dovodi do toga da sve točke u ulaznome prostoru postaju (u smislu euklidske udaljenosti) sve udaljenije jedne od drugih te se, posljedično, gube razlike u udaljenostima između točaka. Eksperimentalno ćemo provjeriti da je to doista slučaj. Proučite funkciju [`metrics.pairwise_distances`](http:\/\/scikit-learn.org\/stable\/modules\/generated\/sklearn.metrics.pairwise_distances.html). Generirajte 100 slučajnih vektora u različitim dimenzijama $n\\in[1,2,\\ldots,50]$ dimenzija te izračunajte *prosječnu* euklidsku udaljenost između svih parova tih vektora. Za generiranje slučajnih vektora koristite funkciju [`numpy.random.random`](https:\/\/numpy.org\/doc\/stable\/reference\/random\/generated\/numpy.random.random.html). Na istom grafu skicirajte i krivulju za prosječne kosinusne udaljenosti (parametar `metric`)."
   ],
   "attachments":{
    
   },
   "metadata":{
    "datalore":{
     "node_id":"Dgm7y5HlOTNMQPl2pjiW9R",
     "type":"MD",
     "hide_input_from_viewers":false,
     "hide_output_from_viewers":false,
     "report_properties":{
      
     }
    }
   }
  },
  {
   "cell_type":"code",
   "source":[
    "from sklearn.metrics.pairwise import pairwise_distances\n",
    "\n",
    "averageArr = []\n",
    "for n in range(1,50):\n",
    "    X = np.empty([100, n])\n",
    "    for i in range(0, 100):\n",
    "        X[i] = np.random.random(n)\n",
    "    result = pairwise_distances(X)\n",
    "    average = 0\n",
    "    for i in result:\n",
    "        for j in i:\n",
    "            average += j\n",
    "    averageArr.append(average \/ (len(result) * len(result[0])))\n",
    "\n",
    "plt.plot(range(1,50), averageArr, label='euclidian')\n",
    "\n",
    "averageArr = []\n",
    "for n in range(1,50):\n",
    "    X = np.empty([100, n])\n",
    "    for i in range(0, 100):\n",
    "        X[i] = np.random.random(n)\n",
    "    result = pairwise_distances(X, metric='cosine')\n",
    "    average = 0\n",
    "    for i in result:\n",
    "        for j in i:\n",
    "            average += j\n",
    "    averageArr.append(average \/ (len(result) * len(result[0])))\n",
    "\n",
    "plt.plot(range(1,50), averageArr, label='cosine')\n",
    "plt.legend()"
   ],
   "execution_count":59,
   "outputs":[
    {
     "data":{
      "text\/plain":[
       "<matplotlib.legend.Legend at 0x7f9d3a5d5ee0>"
      ]
     },
     "metadata":{
      
     },
     "output_type":"display_data"
    },
    {
     "data":{
      "image\/png":"[encoded data removed]"
     },
     "metadata":{
      "image\/png":{
       
      }
     },
     "output_type":"display_data"
    }
   ],
   "metadata":{
    "datalore":{
     "node_id":"rDpr86ewW6g4ncq6hdaJYN",
     "type":"CODE",
     "hide_input_from_viewers":false,
     "hide_output_from_viewers":false,
     "report_properties":{
      
     }
    }
   }
  },
  {
   "cell_type":"markdown",
   "source":[
    "**Q:** Pokušajte objasniti razlike u rezultatima. Koju biste od ovih dviju mjera koristili za klasifikaciju visokodimenzijskih podataka?  \n",
    "**Q:** Zašto je ovaj problem osobito izražen kod algoritma k-najbližih susjeda?"
   ],
   "attachments":{
    
   },
   "metadata":{
    "datalore":{
     "node_id":"lV6Bin5jnSRymLmtElSFBg",
     "type":"MD",
     "hide_input_from_viewers":false,
     "hide_output_from_viewers":false,
     "report_properties":{
      
     }
    }
   }
  }
 ],
 "metadata":{
  "kernelspec":{
   "display_name":"Python",
   "language":"python",
   "name":"python"
  },
  "datalore":{
   "version":1,
   "computation_mode":"JUPYTER",
   "package_manager":"pip",
   "base_environment":"default",
   "packages":[
    
   ]
  }
 },
 "nbformat":4,
 "nbformat_minor":4
}