{
 "cells":[
  {
   "cell_type":"markdown",
   "source":[
    "Sveučilište u Zagrebu  \n",
    "Fakultet elektrotehnike i računarstva  \n",
    "  \n",
    "## Strojno učenje 1 2022\/2023  \n",
    "http:\/\/www.fer.unizg.hr\/predmet\/struce1"
   ],
   "attachments":{
    
   },
   "metadata":{
    "datalore":{
     "node_id":"cAozkQ9rACS0vPDw1mz2zT",
     "type":"MD",
     "hide_input_from_viewers":false,
     "hide_output_from_viewers":false,
     "report_properties":{
      
     }
    }
   }
  },
  {
   "cell_type":"markdown",
   "source":[
    "------------------------------\n",
    "\n",
    "### Druga laboratorijska vježba: Linearni diskriminativni modeli i logistička regresija\n",
    "\n",
    "*Verzija: 1.1 (ispravljena greška u tekstu prvog zadatka)  \n",
    "Zadnji put ažurirano: 1. 10. 2021.*\n",
    "\n",
    "(c) 2015-2022 Jan Šnajder, Domagoj Alagić  \n",
    "\n",
    "Rok za predaju: **6. studenog 2022. u 23:59h**\n",
    "\n",
    "------------------------------"
   ],
   "attachments":{
    
   },
   "metadata":{
    "datalore":{
     "node_id":"L54CSPJI6MwCDgMUofLMko",
     "type":"MD",
     "hide_input_from_viewers":false,
     "hide_output_from_viewers":false,
     "report_properties":{
      
     }
    }
   }
  },
  {
   "cell_type":"markdown",
   "source":[
    "### Upute\n",
    "\n",
    "Druga laboratorijska vježba sastoji se od šest zadataka. U nastavku slijedite upute navedene u ćelijama s tekstom. Rješavanje vježbe svodi se na **dopunjavanje ove bilježnice**: umetanja ćelije ili više njih **ispod** teksta zadatka, pisanja odgovarajućeg kôda te evaluiranja ćelija. \n",
    "\n",
    "Osigurajte da u potpunosti **razumijete** kôd koji ste napisali. Kod predaje vježbe, morate biti u stanju na zahtjev asistenta (ili demonstratora) preinačiti i ponovno evaluirati Vaš kôd. Nadalje, morate razumjeti teorijske osnove onoga što radite, u okvirima onoga što smo obradili na predavanju. Ispod nekih zadataka možete naći i pitanja koja služe kao smjernice za bolje razumijevanje gradiva (**nemojte pisati** odgovore na pitanja u bilježnicu). Stoga se nemojte ograničiti samo na to da riješite zadatak, nego slobodno eksperimentirajte. To upravo i jest svrha ovih vježbi.\n",
    "\n",
    "Vježbe trebate raditi **samostalno**. Možete se konzultirati s drugima o načelnom načinu rješavanja, ali u konačnici morate sami odraditi vježbu. U protivnome vježba nema smisla."
   ],
   "attachments":{
    
   },
   "metadata":{
    "datalore":{
     "node_id":"dLkVmtPzQSbGjMehNl71BH",
     "type":"MD",
     "hide_input_from_viewers":false,
     "hide_output_from_viewers":false,
     "report_properties":{
      
     }
    }
   }
  },
  {
   "cell_type":"code",
   "source":[
    "# Učitaj osnovne biblioteke...\n",
    "import sklearn\n",
    "import matplotlib.pyplot as plt\n",
    "%pylab inline"
   ],
   "execution_count":1,
   "outputs":[
    {
     "name":"stdout",
     "text":[
      "Populating the interactive namespace from numpy and matplotlib\n"
     ],
     "output_type":"stream"
    }
   ],
   "metadata":{
    "datalore":{
     "node_id":"FTrQXjzbGYyGRMessyJq8t",
     "type":"CODE",
     "hide_input_from_viewers":false,
     "hide_output_from_viewers":false,
     "report_properties":{
      
     }
    }
   }
  },
  {
   "cell_type":"code",
   "source":[
    "def plot_2d_clf_problem(X, y, h=None):\n",
    "    '''\n",
    "    Plots a two-dimensional labeled dataset (X,y) and, if function h(x) is given, \n",
    "    the decision surfaces.\n",
    "    '''\n",
    "    assert X.shape[1] == 2, \"Dataset is not two-dimensional\"\n",
    "    if h!=None : \n",
    "        # Create a mesh to plot in\n",
    "        r = 0.04  # mesh resolution\n",
    "        x_min, x_max = X[:, 0].min() - 1, X[:, 0].max() + 1\n",
    "        y_min, y_max = X[:, 1].min() - 1, X[:, 1].max() + 1\n",
    "        xx, yy = np.meshgrid(np.arange(x_min, x_max, r),\n",
    "                             np.arange(y_min, y_max, r))\n",
    "        XX=np.c_[xx.ravel(), yy.ravel()]\n",
    "        try:\n",
    "            Z_test = h(XX)\n",
    "            if Z_test.shape == ():\n",
    "                # h returns a scalar when applied to a matrix; map explicitly\n",
    "                Z = np.array(list(map(h,XX)))\n",
    "            else :\n",
    "                Z = Z_test\n",
    "        except ValueError:\n",
    "            # can't apply to a matrix; map explicitly\n",
    "            Z = np.array(list(map(h,XX)))\n",
    "        # Put the result into a color plot\n",
    "        Z = Z.reshape(xx.shape)\n",
    "        plt.contourf(xx, yy, Z, cmap=plt.cm.Pastel1)\n",
    "\n",
    "    # Plot the dataset\n",
    "    plt.scatter(X[:,0],X[:,1], c=y, cmap=plt.cm.tab20b, marker='o', s=50);"
   ],
   "execution_count":2,
   "outputs":[
    
   ],
   "metadata":{
    "datalore":{
     "node_id":"wrt50jBfDDpHUKEWALFBQV",
     "type":"CODE",
     "hide_input_from_viewers":false,
     "hide_output_from_viewers":false,
     "report_properties":{
      
     }
    }
   }
  },
  {
   "cell_type":"markdown",
   "source":[
    "### 1. Linearna regresija kao klasifikator"
   ],
   "attachments":{
    
   },
   "metadata":{
    "datalore":{
     "node_id":"FlJNrtiT05kRnQ7LZM3TL8",
     "type":"MD",
     "hide_input_from_viewers":false,
     "hide_output_from_viewers":false,
     "report_properties":{
      
     }
    }
   }
  },
  {
   "cell_type":"markdown",
   "source":[
    "U prethodnoj laboratorijskoj vježbi koristili smo model linearne regresije za, naravno, regresiju. Međutim, model linearne regresije može se koristiti i za **klasifikaciju**. Iako zvuči pomalo kontraintuitivno, zapravo je dosta jednostavno. Naime, cilj je naučiti funkciju $f(\\mathbf{x})$ koja za pozitivne primjere predviđa vrijednost $1$, dok za negativne primjere predviđa vrijednost $0$. U tom slučaju, funkcija $f(\\mathbf{x})=0.5$ predstavlja granicu između klasa, tj. primjeri za koje vrijedi $h(\\mathbf{x})\\geq 0.5$ klasificiraju se kao pozitivni, dok se ostali klasificiraju kao negativni.\n",
    "\n",
    "Klasifikacija pomoću linearne regresije implementirana je u razredu [`RidgeClassifier`](http:\/\/scikit-learn.org\/stable\/modules\/generated\/sklearn.linear_model.RidgeClassifier.html). U sljedećim podzadatcima **istrenirajte** taj model na danim podatcima i **prikažite** dobivenu granicu između klasa. Pritom isključite regularizaciju ($\\alpha = 0$, odnosno `alpha=0`). Također i ispišite **točnost** vašeg klasifikacijskog modela (smijete koristiti funkciju [`metrics.accuracy_score`](http:\/\/scikit-learn.org\/stable\/modules\/generated\/sklearn.metrics.accuracy_score.html)). Skupove podataka vizualizirajte korištenjem pomoćne funkcije ``plot_clf_problem(X, y, h=None)`` koja je dana na početku ove bilježnice. `X` i `y` predstavljaju ulazne primjere i oznake, dok `h` predstavlja funkciju predikcije modela (npr. `model.predict`). \n",
    "\n",
    "U ovom zadatku cilj je razmotriti kako se klasifikacijski model linearne regresije ponaša na linearno odvojim i neodvojivim podatcima."
   ],
   "attachments":{
    
   },
   "metadata":{
    "datalore":{
     "node_id":"hVzAGvn4rrHfZhaXVMa1F3",
     "type":"MD",
     "hide_input_from_viewers":false,
     "hide_output_from_viewers":false,
     "report_properties":{
      
     }
    }
   }
  },
  {
   "cell_type":"code",
   "source":[
    "from sklearn.linear_model import LinearRegression, RidgeClassifier\n",
    "from sklearn.metrics import accuracy_score"
   ],
   "execution_count":3,
   "outputs":[
    
   ],
   "metadata":{
    "datalore":{
     "node_id":"zGWH4KuQj2hWxPXCAlFcC1",
     "type":"CODE",
     "hide_input_from_viewers":false,
     "hide_output_from_viewers":false,
     "report_properties":{
      
     }
    }
   }
  },
  {
   "cell_type":"markdown",
   "source":[
    "### (a)\n",
    "\n",
    "Prvo, isprobajte *ugrađeni* model na linearno odvojivom skupu podataka `seven` ($N=7$)."
   ],
   "attachments":{
    
   },
   "metadata":{
    "datalore":{
     "node_id":"lPuZ2afm0GS2tGBinnn9EU",
     "type":"MD",
     "hide_input_from_viewers":false,
     "hide_output_from_viewers":false,
     "report_properties":{
      
     }
    }
   }
  },
  {
   "cell_type":"code",
   "source":[
    "seven_X = np.array([[2,1], [2,3], [1,2], [3,2], [5,2], [5,4], [6,3]])\n",
    "seven_y = np.array([1, 1, 1, 1, 0, 0, 0])"
   ],
   "execution_count":5,
   "outputs":[
    
   ],
   "metadata":{
    "datalore":{
     "node_id":"l3bR83qDHFzMZjS94AJjM6",
     "type":"CODE",
     "hide_input_from_viewers":false,
     "hide_output_from_viewers":false,
     "report_properties":{
      
     }
    }
   }
  },
  {
   "cell_type":"code",
   "source":[
    "clf = RidgeClassifier(alpha=0).fit(seven_X, seven_y)\n",
    "\n",
    "print(\"Accuracy: \", accuracy_score(seven_y, clf.predict(seven_X)))\n",
    "plot_2d_clf_problem(seven_X, seven_y, clf.predict)"
   ],
   "execution_count":8,
   "outputs":[
    {
     "name":"stdout",
     "text":[
      "1.0\n"
     ],
     "output_type":"stream"
    },
    {
     "data":{
      "image\/png":"[encoded data removed]"
     },
     "metadata":{
      "image\/png":{
       
      }
     },
     "output_type":"display_data"
    }
   ],
   "metadata":{
    "datalore":{
     "node_id":"9RthnNgpnNwCz9FM8NEZcG",
     "type":"CODE",
     "hide_input_from_viewers":false,
     "hide_output_from_viewers":false,
     "report_properties":{
      
     }
    }
   }
  },
  {
   "cell_type":"markdown",
   "source":[
    "Kako bi se uvjerili da se u isprobanoj implementaciji ne radi o ničemu doli o običnoj linearnoj regresiji, napišite kôd koji dolazi do jednakog rješenja korištenjem isključivo razreda [`LinearRegression`](http:\/\/scikit-learn.org\/stable\/modules\/generated\/sklearn.linear_model.LinearRegression.html). Funkciju za predikciju, koju predajete kao treći argument `h` funkciji `plot_2d_clf_problem`, možete definirati lambda-izrazom: `lambda x : model.predict(x) >= 0.5`."
   ],
   "attachments":{
    
   },
   "metadata":{
    "datalore":{
     "node_id":"JuBMxvSiaEJbBFWLNVlGax",
     "type":"MD",
     "hide_input_from_viewers":false,
     "hide_output_from_viewers":false,
     "report_properties":{
      
     }
    }
   }
  },
  {
   "cell_type":"code",
   "source":[
    "reg = LinearRegression().fit(seven_X, seven_y)\n",
    "\n",
    "plot_2d_clf_problem(seven_X, seven_y, lambda x : reg.predict(x) >= 0.5)"
   ],
   "execution_count":11,
   "outputs":[
    {
     "data":{
      "image\/png":"[encoded data removed]"
     },
     "metadata":{
      "image\/png":{
       
      }
     },
     "output_type":"display_data"
    }
   ],
   "metadata":{
    "datalore":{
     "node_id":"cvgHSb7ndEE4WHVv58YByU",
     "type":"CODE",
     "hide_input_from_viewers":false,
     "hide_output_from_viewers":false,
     "report_properties":{
      
     }
    }
   }
  },
  {
   "cell_type":"markdown",
   "source":[
    "**Q:** Kako bi bila definirana granica između klasa ako bismo koristili oznake klasa $-1$ i $1$ umjesto $0$ i $1$?"
   ],
   "attachments":{
    
   },
   "metadata":{
    "datalore":{
     "node_id":"ieWiHVuyTMHoI80L2OCStV",
     "type":"MD",
     "hide_input_from_viewers":false,
     "hide_output_from_viewers":false,
     "report_properties":{
      
     }
    }
   }
  },
  {
   "cell_type":"markdown",
   "source":[
    "### (b)  \n",
    "\n",
    "Probajte isto na linearno odvojivom skupu podataka `outlier` ($N=8$):"
   ],
   "attachments":{
    
   },
   "metadata":{
    "datalore":{
     "node_id":"HfKQUoLxUTlsm2APisy6aw",
     "type":"MD",
     "hide_input_from_viewers":false,
     "hide_output_from_viewers":false,
     "report_properties":{
      
     }
    }
   }
  },
  {
   "cell_type":"code",
   "source":[
    "outlier_X = np.append(seven_X, [[12,8]], axis=0)\n",
    "outlier_y = np.append(seven_y, 0)"
   ],
   "execution_count":13,
   "outputs":[
    
   ],
   "metadata":{
    "datalore":{
     "node_id":"zw8715HUS8BYYsbJ45n9Y9",
     "type":"CODE",
     "hide_input_from_viewers":false,
     "hide_output_from_viewers":false,
     "report_properties":{
      
     }
    }
   }
  },
  {
   "cell_type":"code",
   "source":[
    "clf = RidgeClassifier(alpha=0).fit(outlier_X, outlier_y)\n",
    "\n",
    "print(\"Accuracy: \", accuracy_score(outlier_y, clf.predict(outlier_X)))\n",
    "plot_2d_clf_problem(outlier_X, outlier_y, clf.predict)"
   ],
   "execution_count":14,
   "outputs":[
    {
     "name":"stdout",
     "text":[
      "Accuracy:  0.875\n"
     ],
     "output_type":"stream"
    },
    {
     "data":{
      "image\/png":"[encoded data removed]"
     },
     "metadata":{
      "image\/png":{
       
      }
     },
     "output_type":"display_data"
    }
   ],
   "metadata":{
    "datalore":{
     "node_id":"I1fqOPCb90Sj6at9cV6IiM",
     "type":"CODE",
     "hide_input_from_viewers":false,
     "hide_output_from_viewers":false,
     "report_properties":{
      
     }
    }
   }
  },
  {
   "cell_type":"markdown",
   "source":[
    "**Q:** Zašto model ne ostvaruje potpunu točnost iako su podatci linearno odvojivi?"
   ],
   "attachments":{
    
   },
   "metadata":{
    "datalore":{
     "node_id":"JPRKxZEHf1MTmW0f0XPtpi",
     "type":"MD",
     "hide_input_from_viewers":false,
     "hide_output_from_viewers":false,
     "report_properties":{
      
     }
    }
   }
  },
  {
   "cell_type":"markdown",
   "source":[
    "### (c)  \n",
    "\n",
    "Završno, probajte isto na linearno neodvojivom skupu podataka `unsep` ($N=8$):"
   ],
   "attachments":{
    
   },
   "metadata":{
    "datalore":{
     "node_id":"RGjIMlXMjxUoo82ACLYWqG",
     "type":"MD",
     "hide_input_from_viewers":false,
     "hide_output_from_viewers":false,
     "report_properties":{
      
     }
    }
   }
  },
  {
   "cell_type":"code",
   "source":[
    "unsep_X = np.append(seven_X, [[2,2]], axis=0)\n",
    "unsep_y = np.append(seven_y, 0)"
   ],
   "execution_count":16,
   "outputs":[
    
   ],
   "metadata":{
    "datalore":{
     "node_id":"xyurhK2yQLWbf4p5S924Kb",
     "type":"CODE",
     "hide_input_from_viewers":false,
     "hide_output_from_viewers":false,
     "report_properties":{
      
     }
    }
   }
  },
  {
   "cell_type":"code",
   "source":[
    "clf = RidgeClassifier(alpha=0).fit(unsep_X, unsep_y)\n",
    "\n",
    "print(\"Accuracy: \", accuracy_score(unsep_y, clf.predict(unsep_X)))\n",
    "plot_2d_clf_problem(unsep_X, unsep_y, clf.predict)"
   ],
   "execution_count":18,
   "outputs":[
    {
     "name":"stdout",
     "text":[
      "Accuracy:  0.875\n"
     ],
     "output_type":"stream"
    },
    {
     "data":{
      "image\/png":"[encoded data removed]"
     },
     "metadata":{
      "image\/png":{
       
      }
     },
     "output_type":"display_data"
    }
   ],
   "metadata":{
    "datalore":{
     "node_id":"rB67TGcTucnLwW7n9mlnF2",
     "type":"CODE",
     "hide_input_from_viewers":false,
     "hide_output_from_viewers":false,
     "report_properties":{
      
     }
    }
   }
  },
  {
   "cell_type":"markdown",
   "source":[
    "**Q:** Očito je zašto model nije u mogućnosti postići potpunu točnost na ovom skupu podataka. Međutim, smatrate li da je problem u modelu ili u podacima? Argumentirajte svoj stav."
   ],
   "attachments":{
    
   },
   "metadata":{
    "datalore":{
     "node_id":"BUvU3quPLeaO94i8hZJFbt",
     "type":"MD",
     "hide_input_from_viewers":false,
     "hide_output_from_viewers":false,
     "report_properties":{
      
     }
    }
   }
  },
  {
   "cell_type":"markdown",
   "source":[
    "### 2. Višeklasna klasifikacija"
   ],
   "attachments":{
    
   },
   "metadata":{
    "datalore":{
     "node_id":"WA7DcAS60jOwZRadAWHoy6",
     "type":"MD",
     "hide_input_from_viewers":false,
     "hide_output_from_viewers":false,
     "report_properties":{
      
     }
    }
   }
  },
  {
   "cell_type":"markdown",
   "source":[
    "Postoji više načina kako se binarni klasifikatori mogu se upotrijebiti za višeklasnu klasifikaciju. Najčešće se koristi shema tzv. **jedan-naspram-ostali** (engl. *one-vs-rest*, OVR), u kojoj se trenira po jedan klasifikator $h_j$ za svaku od $K$ klasa. Svaki klasifikator $h_j$ trenira se da razdvaja primjere klase $j$ od primjera svih drugih klasa, a primjer se klasificira u klasu $j$ za koju je $h_j(\\mathbf{x})$ maksimalan.\n",
    "\n",
    "Pomoću funkcije [`datasets.make_classification`](http:\/\/scikit-learn.org\/stable\/modules\/generated\/sklearn.datasets.make_classification.html) generirajte slučajan dvodimenzijski skup podataka od tri klase i prikažite ga koristeći funkciju `plot_2d_clf_problem`. Radi jednostavnosti, pretpostavite da nema redundantnih značajki te da je svaka od klasa \"zbijena\" upravo u jednu grupu."
   ],
   "attachments":{
    
   },
   "metadata":{
    "datalore":{
     "node_id":"Vlep96tGZg1Pv1SblPWXuw",
     "type":"MD",
     "hide_input_from_viewers":false,
     "hide_output_from_viewers":false,
     "report_properties":{
      
     }
    }
   }
  },
  {
   "cell_type":"code",
   "source":[
    "from sklearn.datasets import make_classification\n",
    "\n",
    "X, y = make_classification(n_classes=3, n_features=2, n_redundant=0, n_clusters_per_class=1)\n",
    "plot_2d_clf_problem(X, y)"
   ],
   "execution_count":23,
   "outputs":[
    {
     "data":{
      "image\/png":"[encoded data removed]"
     },
     "metadata":{
      "image\/png":{
       
      }
     },
     "output_type":"display_data"
    }
   ],
   "metadata":{
    "datalore":{
     "node_id":"gjioNOKpsraK7UBwdZGBkh",
     "type":"CODE",
     "hide_input_from_viewers":false,
     "hide_output_from_viewers":false,
     "report_properties":{
      
     }
    }
   }
  },
  {
   "cell_type":"markdown",
   "source":[
    "Trenirajte tri binarna klasifikatora, $h_1$, $h_2$ i $h_3$ te prikažite granice između klasa (tri grafikona). Zatim definirajte $h(\\mathbf{x})=\\mathrm{argmax}_j h_j(\\mathbf{x})$  (napišite svoju funkciju `predict` koja to radi) i prikažite granice između klasa za taj model. Zatim se uvjerite da biste identičan rezultat dobili izravno primjenom modela `RidgeClassifier`, budući da taj model za višeklasan problem zapravo interno implementira shemu jedan-naspram-ostali.\n",
    "\n",
    "**Q:** Alternativna shema jest ona zvana **jedan-naspram-jedan** (engl, *one-vs-one*, OVO). Koja je prednost sheme OVR nad shemom OVO? A obratno?"
   ],
   "attachments":{
    
   },
   "metadata":{
    "datalore":{
     "node_id":"RJl9Kn8EcYsvTGOHSTnxua",
     "type":"MD",
     "hide_input_from_viewers":false,
     "hide_output_from_viewers":false,
     "report_properties":{
      
     }
    }
   }
  },
  {
   "cell_type":"code",
   "source":[
    "y_true_first = []\n",
    "y_true_second = []\n",
    "y_true_third = []\n",
    "for y_value in y:\n",
    "    if y_value == 0:\n",
    "        y_true_first.append(1)\n",
    "        y_true_second.append(0)\n",
    "        y_true_third.append(0)\n",
    "    if y_value == 1:\n",
    "        y_true_first.append(0)\n",
    "        y_true_second.append(1)\n",
    "        y_true_third.append(0)\n",
    "    if y_value == 2:\n",
    "        y_true_first.append(0)\n",
    "        y_true_second.append(0)\n",
    "        y_true_third.append(1)\n",
    "\n",
    "model_first = RidgeClassifier(alpha=0).fit(X, y_true_first)\n",
    "model_second = RidgeClassifier(alpha=0).fit(X, y_true_second)\n",
    "model_third = RidgeClassifier(alpha=0).fit(X, y_true_third)\n",
    "\n",
    "plot_2d_clf_problem(X, y_true_first, model_first.predict)"
   ],
   "execution_count":26,
   "outputs":[
    {
     "data":{
      "image\/png":"[encoded data removed]"
     },
     "metadata":{
      "image\/png":{
       
      }
     },
     "output_type":"display_data"
    }
   ],
   "metadata":{
    "datalore":{
     "node_id":"Xtmsdj6KRAicILqc9Klxw7",
     "type":"CODE",
     "hide_input_from_viewers":false,
     "hide_output_from_viewers":false,
     "report_properties":{
      
     }
    }
   }
  },
  {
   "cell_type":"code",
   "source":[
    "plot_2d_clf_problem(X, y_true_second, model_second.predict)"
   ],
   "execution_count":27,
   "outputs":[
    {
     "data":{
      "image\/png":"[encoded data removed]"
     },
     "metadata":{
      "image\/png":{
       
      }
     },
     "output_type":"display_data"
    }
   ],
   "metadata":{
    "datalore":{
     "node_id":"jCWztekklWyPw4mdOntHHO",
     "type":"CODE",
     "hide_input_from_viewers":true,
     "hide_output_from_viewers":true
    }
   }
  },
  {
   "cell_type":"code",
   "source":[
    "print(X[0])\n",
    "plot_2d_clf_problem(X, y_true_third, model_third.predict)"
   ],
   "execution_count":38,
   "outputs":[
    {
     "name":"stdout",
     "text":[
      "[-1.1453715   1.45596561]\n"
     ],
     "output_type":"stream"
    },
    {
     "data":{
      "image\/png":"[encoded data removed]"
     },
     "metadata":{
      "image\/png":{
       
      }
     },
     "output_type":"display_data"
    }
   ],
   "metadata":{
    "datalore":{
     "node_id":"cUEoM6JxpOeRao9hiAAR0t",
     "type":"CODE",
     "hide_input_from_viewers":true,
     "hide_output_from_viewers":true
    }
   }
  },
  {
   "cell_type":"code",
   "source":[
    "h_arr = [model_first, model_second, model_third]\n",
    "def predict(x):\n",
    "    index_best = -1\n",
    "    value = 0\n",
    "    for i in range(0, len(h_arr)):\n",
    "        if index_best == -1:\n",
    "            index_best = i\n",
    "            value = h_arr[i].predict(x.reshape(1, -1))\n",
    "            continue\n",
    "        h_value = h_arr[i].predict(x.reshape(1, -1))\n",
    "        if value < h_value:\n",
    "            value = h_value\n",
    "            index_best = i\n",
    "    return value\n",
    "\n",
    "plot_2d_clf_problem(X, y, predict)"
   ],
   "execution_count":46,
   "outputs":[
    {
     "data":{
      "image\/png":"[encoded data removed]"
     },
     "metadata":{
      "image\/png":{
       
      }
     },
     "output_type":"display_data"
    }
   ],
   "metadata":{
    "datalore":{
     "node_id":"kGeXB6mamJCU1rqf7T3vEY",
     "type":"CODE",
     "hide_input_from_viewers":true,
     "hide_output_from_viewers":true
    }
   }
  },
  {
   "cell_type":"code",
   "source":[
    "model_final = RidgeClassifier(alpha=0).fit(X, y)\n",
    "\n",
    "plot_2d_clf_problem(X, y, predict)"
   ],
   "execution_count":47,
   "outputs":[
    {
     "data":{
      "image\/png":"[encoded data removed]"
     },
     "metadata":{
      "image\/png":{
       
      }
     },
     "output_type":"display_data"
    }
   ],
   "metadata":{
    "datalore":{
     "node_id":"O5bNT1r3muGEXFTScdALSL",
     "type":"CODE",
     "hide_input_from_viewers":true,
     "hide_output_from_viewers":true
    }
   }
  },
  {
   "cell_type":"markdown",
   "source":[
    "### 3. Logistička regresija"
   ],
   "attachments":{
    
   },
   "metadata":{
    "datalore":{
     "node_id":"t4AqhYoW7qXpKPVZLIi6ue",
     "type":"MD",
     "hide_input_from_viewers":false,
     "hide_output_from_viewers":false,
     "report_properties":{
      
     }
    }
   }
  },
  {
   "cell_type":"markdown",
   "source":[
    "Ovaj zadatak bavi se probabilističkim diskriminativnim modelom, **logističkom regresijom**, koja je, unatoč nazivu, klasifikacijski model.\n",
    "\n",
    "Logistička regresija tipičan je predstavnik tzv. **poopćenih linearnih modela** koji su oblika: $h(\\mathbf{x})=f(\\mathbf{w}^\\intercal\\tilde{\\mathbf{x}})$. Logistička funkcija za funkciju $f$ koristi tzv. **logističku** (sigmoidalnu) funkciju $\\sigma (x) = \\frac{1}{1 + \\textit{exp}(-x)}$."
   ],
   "attachments":{
    
   },
   "metadata":{
    "datalore":{
     "node_id":"75gCp6B3LICOOukodd7yRq",
     "type":"MD",
     "hide_input_from_viewers":false,
     "hide_output_from_viewers":false,
     "report_properties":{
      
     }
    }
   }
  },
  {
   "cell_type":"markdown",
   "source":[
    "### (a)  \n",
    "\n",
    "Definirajte logističku (sigmoidalnu) funkciju $\\mathrm{sigm}(x)=\\frac{1}{1+\\exp(-\\alpha x)}$ i prikažite je za $\\alpha\\in\\{1,2,4\\}$."
   ],
   "attachments":{
    
   },
   "metadata":{
    "datalore":{
     "node_id":"SxitNCSfOu0vRgitdko2qN",
     "type":"MD",
     "hide_input_from_viewers":false,
     "hide_output_from_viewers":false,
     "report_properties":{
      
     }
    }
   }
  },
  {
   "cell_type":"code",
   "source":[
    "def sigm(x, alpha):\n",
    "    return 1 \/ (1 + np.exp(-alpha * x))\n",
    "\n",
    "x = np.linspace(-5,5,100)\n",
    "\n",
    "y_1 = sigm(x, 1)\n",
    "y_2 = sigm(x, 2)\n",
    "y_3 = sigm(x, 4)\n",
    "\n",
    "ax = plt.subplot(3, 1, 1)\n",
    "plt.plot(x,y_1, 'r')\n",
    "ax = plt.subplot(3, 1, 2)\n",
    "plt.plot(x,y_2, 'r')\n",
    "ax = plt.subplot(3, 1, 3)\n",
    "plt.plot(x,y_3, 'r')\n",
    "\n",
    "plt.show()"
   ],
   "execution_count":null,
   "outputs":[
    
   ],
   "metadata":{
    "datalore":{
     "node_id":"6IeTBQRsYoaBWdarbXVzfa",
     "type":"CODE",
     "hide_input_from_viewers":false,
     "hide_output_from_viewers":false,
     "report_properties":{
      
     }
    }
   }
  },
  {
   "cell_type":"markdown",
   "source":[
    "**Q**: Zašto je sigmoidalna funkcija prikladan izbor za aktivacijsku funkciju poopćenoga linearnog modela? \n",
    "<\/br>\n",
    "\n",
    "**Q**: Kakav utjecaj ima faktor $\\alpha$ na oblik sigmoide? Što to znači za model logističke regresije (tj. kako izlaz modela ovisi o normi vektora težina $\\mathbf{w}$)?"
   ],
   "attachments":{
    
   },
   "metadata":{
    "datalore":{
     "node_id":"HBommzjidxevfkycuIAaKJ",
     "type":"MD",
     "hide_input_from_viewers":false,
     "hide_output_from_viewers":false,
     "report_properties":{
      
     }
    }
   }
  },
  {
   "cell_type":"markdown",
   "source":[
    "### (b) \n",
    "\n",
    "Implementirajte funkciju \n",
    "\n",
    "> `lr_train(X, y, eta=0.01, max_iter=2000, alpha=0, epsilon=0.0001, trace=False)` \n",
    "\n",
    "za treniranje modela logističke regresije gradijentnim spustom (*batch* izvedba). Funkcija uzima označeni skup primjera za učenje (matrica primjera `X` i vektor oznaka `y`) te vraća $(n+1)$-dimenzijski vektor težina tipa `ndarray`. Ako je `trace=True`, funkcija dodatno vraća listu (ili matricu) vektora težina $\\mathbf{w}^0,\\mathbf{w}^1,\\dots,\\mathbf{w}^k$ generiranih kroz sve iteracije optimizacije, od 0 do $k$. Optimizaciju treba provoditi dok se ne dosegne `max_iter` iteracija, ili kada razlika u pogrešci unakrsne entropije između dviju iteracija padne ispod vrijednosti `epsilon`. Parametar `alpha` predstavlja faktor L2-regularizacije.\n",
    "\n",
    "Preporučamo definiranje pomoćne funkcije `lr_h(x,w)` koja daje predikciju za primjer `x` uz zadane težine `w`. Također, preporučamo i funkciju `cross_entropy_error(X,y,w)` koja izračunava pogrešku unakrsne entropije modela na označenom skupu `(X,y)` uz te iste težine.\n",
    "\n",
    "**NB:** Obratite pozornost na to da je način kako su definirane oznake ($\\{+1,-1\\}$ ili $\\{1,0\\}$) kompatibilan s izračunom funkcije gubitka u optimizacijskome algoritmu."
   ],
   "attachments":{
    
   },
   "metadata":{
    "datalore":{
     "node_id":"b1XrH9W4DtkX5I6foz9aAp",
     "type":"MD",
     "hide_input_from_viewers":false,
     "hide_output_from_viewers":false,
     "report_properties":{
      
     }
    }
   }
  },
  {
   "cell_type":"code",
   "source":[
    "from numpy import linalg\n",
    "\n",
    "def lr_train(X, y, eta=0.01, max_iter=2000, alpha=0, epsilon=0.0001, trace=False):\n",
    "    \n",
    "    # Vaš kôd ovdje"
   ],
   "execution_count":null,
   "outputs":[
    
   ],
   "metadata":{
    "datalore":{
     "node_id":"U2Kta6s7pqS0rPFILOfeNp",
     "type":"CODE",
     "hide_input_from_viewers":false,
     "hide_output_from_viewers":false,
     "report_properties":{
      
     }
    }
   }
  },
  {
   "cell_type":"markdown",
   "source":[
    "### (c)\n",
    "\n",
    "Koristeći funkciju `lr_train`, trenirajte model logističke regresije na skupu `seven`, prikažite dobivenu granicu između klasa te  izračunajte pogrešku unakrsne entropije. \n",
    "\n",
    "**NB:** Pripazite da modelu date dovoljan broj iteracija."
   ],
   "attachments":{
    
   },
   "metadata":{
    "datalore":{
     "node_id":"m41bIHgJ1vFIbHS5K5Iz8Q",
     "type":"MD",
     "hide_input_from_viewers":false,
     "hide_output_from_viewers":false,
     "report_properties":{
      
     }
    }
   }
  },
  {
   "cell_type":"code",
   "source":[
    "seven_X = np.array([[2,1], [2,3], [1,2], [3,2], [5,2], [5,4], [6,3]])\n",
    "seven_y = np.array([1, 1, 1, 1, 0, 0, 0])"
   ],
   "execution_count":null,
   "outputs":[
    
   ],
   "metadata":{
    "datalore":{
     "node_id":"N0b2s6b6LooKMYXhRbFON8",
     "type":"CODE",
     "hide_input_from_viewers":false,
     "hide_output_from_viewers":false,
     "report_properties":{
      
     }
    }
   }
  },
  {
   "cell_type":"code",
   "source":[
    "# Vaš kôd ovdje"
   ],
   "execution_count":null,
   "outputs":[
    
   ],
   "metadata":{
    "datalore":{
     "node_id":"WYi9wP9nJGF11VgUKu3SjF",
     "type":"CODE",
     "hide_input_from_viewers":false,
     "hide_output_from_viewers":false,
     "report_properties":{
      
     }
    }
   }
  },
  {
   "cell_type":"markdown",
   "source":[
    "**Q:** Koji kriterij zaustavljanja je aktiviran?\n",
    "\n",
    "**Q:** Zašto dobivena pogreška unakrsne entropije nije jednaka nuli?\n",
    "\n",
    "**Q:** Kako biste utvrdili da je optimizacijski postupak doista pronašao hipotezu koja minimizira pogrešku učenja? O čemu to ovisi?\n",
    "\n",
    "**Q:** Na koji način biste preinačili kôd ako biste htjeli da se optimizacija izvodi stohastičkim gradijentnim spustom (*online learning*)?"
   ],
   "attachments":{
    
   },
   "metadata":{
    "datalore":{
     "node_id":"owMoaJ65UA2q76Dq9hfWmM",
     "type":"MD",
     "hide_input_from_viewers":false,
     "hide_output_from_viewers":false,
     "report_properties":{
      
     }
    }
   }
  },
  {
   "cell_type":"markdown",
   "source":[
    "### (d)\n",
    "\n",
    "Prikažite na jednom grafikonu pogrešku unakrsne entropije (očekivanje logističkog gubitka) i pogrešku klasifikacije (očekivanje gubitka 0-1) na skupu `seven` kroz iteracije optimizacijskog postupka. Koristite trag težina funkcije `lr_train` iz zadatka (b) (opcija `trace=True`). Na drugom grafikonu prikažite pogrešku unakrsne entropije kao funkciju broja iteracija za različite stope učenja, $\\eta\\in\\{0.005,0.01,0.05,0.1\\}$."
   ],
   "attachments":{
    
   },
   "metadata":{
    "datalore":{
     "node_id":"41T1oC4GzRZ3ETviomJn9s",
     "type":"MD",
     "hide_input_from_viewers":false,
     "hide_output_from_viewers":false,
     "report_properties":{
      
     }
    }
   }
  },
  {
   "cell_type":"code",
   "source":[
    "from sklearn.metrics import zero_one_loss"
   ],
   "execution_count":null,
   "outputs":[
    
   ],
   "metadata":{
    "datalore":{
     "node_id":"KiqAccJDXbn7fM2VnWRNh6",
     "type":"CODE",
     "hide_input_from_viewers":false,
     "hide_output_from_viewers":false,
     "report_properties":{
      
     }
    }
   }
  },
  {
   "cell_type":"code",
   "source":[
    "# Vaš kôd ovdje"
   ],
   "execution_count":null,
   "outputs":[
    
   ],
   "metadata":{
    "datalore":{
     "node_id":"LXothKoCeIqliPnpxHATHU",
     "type":"CODE",
     "hide_input_from_viewers":false,
     "hide_output_from_viewers":false,
     "report_properties":{
      
     }
    }
   }
  },
  {
   "cell_type":"markdown",
   "source":[
    "\n",
    "**Q:** Zašto je pogreška unakrsne entropije veća od pogreške klasifikacije? Je li to uvijek slučaj kod logističke regresije i zašto?\n",
    "\n",
    "**Q:** Koju stopu učenja $\\eta$ biste odabrali i zašto?"
   ],
   "attachments":{
    
   },
   "metadata":{
    "datalore":{
     "node_id":"MpP8AFWNZUnrM0nHTEPYrz",
     "type":"MD",
     "hide_input_from_viewers":false,
     "hide_output_from_viewers":false,
     "report_properties":{
      
     }
    }
   }
  },
  {
   "cell_type":"markdown",
   "source":[
    "### (e)\n",
    "\n",
    "Upoznajte se s klasom [`linear_model.LogisticRegression`](http:\/\/scikit-learn.org\/stable\/modules\/generated\/sklearn.linear_model.LogisticRegression.html) koja implementira logističku regresiju. Usporedite rezultat modela na skupu `seven` s rezultatom koji dobivate pomoću vlastite implementacije algoritma.\n",
    "\n",
    "**NB:** Kako ugrađena implementacija koristi naprednije verzije optimizacije funkcije, vrlo je vjerojatno da Vam se rješenja neće poklapati, ali generalne performanse modela bi trebale. Ponovno, pripazite na broj iteracija i snagu regularizacije."
   ],
   "attachments":{
    
   },
   "metadata":{
    "datalore":{
     "node_id":"wRAX4rBX3xAP0HKNNO1gZG",
     "type":"MD",
     "hide_input_from_viewers":false,
     "hide_output_from_viewers":false,
     "report_properties":{
      
     }
    }
   }
  },
  {
   "cell_type":"code",
   "source":[
    "from sklearn.linear_model import LogisticRegression\n",
    "\n",
    "# Vaš kôd ovdje"
   ],
   "execution_count":null,
   "outputs":[
    
   ],
   "metadata":{
    "datalore":{
     "node_id":"ka0u3O9oI2ftjnfIGZTeeP",
     "type":"CODE",
     "hide_input_from_viewers":false,
     "hide_output_from_viewers":false,
     "report_properties":{
      
     }
    }
   }
  },
  {
   "cell_type":"markdown",
   "source":[
    "### 4. Analiza logističke regresije"
   ],
   "attachments":{
    
   },
   "metadata":{
    "datalore":{
     "node_id":"1vGKfOXLOvjb39AVhEkTLV",
     "type":"MD",
     "hide_input_from_viewers":false,
     "hide_output_from_viewers":false,
     "report_properties":{
      
     }
    }
   }
  },
  {
   "cell_type":"markdown",
   "source":[
    "### (a)\n",
    "\n",
    "Koristeći ugrađenu implementaciju logističke regresije, provjerite kako se logistička regresija nosi s vrijednostima koje odskaču. Iskoristite skup `outlier`. Prikažite granicu između klasa."
   ],
   "attachments":{
    
   },
   "metadata":{
    "datalore":{
     "node_id":"9HDRcejdsCRdC6wTVtrfQ6",
     "type":"MD",
     "hide_input_from_viewers":false,
     "hide_output_from_viewers":false,
     "report_properties":{
      
     }
    }
   }
  },
  {
   "cell_type":"code",
   "source":[
    "outlier_X = np.append(seven_X, [[12,8]], axis=0)\n",
    "outlier_y = np.append(seven_y, 0)"
   ],
   "execution_count":null,
   "outputs":[
    
   ],
   "metadata":{
    "datalore":{
     "node_id":"nCxFnXlTcdLPyzqzg4J727",
     "type":"CODE",
     "hide_input_from_viewers":false,
     "hide_output_from_viewers":false,
     "report_properties":{
      
     }
    }
   }
  },
  {
   "cell_type":"code",
   "source":[
    "# Vaš kôd ovdje"
   ],
   "execution_count":null,
   "outputs":[
    
   ],
   "metadata":{
    "datalore":{
     "node_id":"bpoCxUSN7QLpaxyfDiogOT",
     "type":"CODE",
     "hide_input_from_viewers":false,
     "hide_output_from_viewers":false,
     "report_properties":{
      
     }
    }
   }
  },
  {
   "cell_type":"markdown",
   "source":[
    "**Q:** Zašto se rezultat razlikuje od onog koji je dobio model klasifikacije linearnom regresijom iz prvog zadatka?"
   ],
   "attachments":{
    
   },
   "metadata":{
    "datalore":{
     "node_id":"ISIzDKqEPrSwcL0sChXz9i",
     "type":"MD",
     "hide_input_from_viewers":false,
     "hide_output_from_viewers":false,
     "report_properties":{
      
     }
    }
   }
  },
  {
   "cell_type":"markdown",
   "source":[
    "### (b)\n",
    "\n",
    "Trenirajte model logističke regresije na skupu `seven` te na dva odvojena grafikona prikažite, kroz iteracije optimizacijskoga algoritma, (1) izlaz modela $h(\\mathbf{x})$ za svih sedam primjera te (2) vrijednosti težina $w_0$, $w_1$, $w_2$."
   ],
   "attachments":{
    
   },
   "metadata":{
    "datalore":{
     "node_id":"Kkk98dwNnKmHl3M0zdyG14",
     "type":"MD",
     "hide_input_from_viewers":false,
     "hide_output_from_viewers":false,
     "report_properties":{
      
     }
    }
   }
  },
  {
   "cell_type":"code",
   "source":[
    "# Vaš kôd ovdje"
   ],
   "execution_count":null,
   "outputs":[
    
   ],
   "metadata":{
    "datalore":{
     "node_id":"kdxZCR9zTTvge2KL0Gg6z4",
     "type":"CODE",
     "hide_input_from_viewers":false,
     "hide_output_from_viewers":false,
     "report_properties":{
      
     }
    }
   }
  },
  {
   "cell_type":"markdown",
   "source":[
    "### (c)\n",
    "\n",
    "Ponovite eksperiment iz podzadatka (b) koristeći linearno neodvojiv skup podataka `unsep`."
   ],
   "attachments":{
    
   },
   "metadata":{
    "datalore":{
     "node_id":"UFiYbqRaPSNnPr0QtIs1dp",
     "type":"MD",
     "hide_input_from_viewers":false,
     "hide_output_from_viewers":false,
     "report_properties":{
      
     }
    }
   }
  },
  {
   "cell_type":"code",
   "source":[
    "unsep_X = np.append(seven_X, [[2,2]], axis=0)\n",
    "unsep_y = np.append(seven_y, 0)"
   ],
   "execution_count":null,
   "outputs":[
    
   ],
   "metadata":{
    "datalore":{
     "node_id":"eztQ9aT7qXx9qMaMmmKadc",
     "type":"CODE",
     "hide_input_from_viewers":false,
     "hide_output_from_viewers":false,
     "report_properties":{
      
     }
    }
   }
  },
  {
   "cell_type":"code",
   "source":[
    "# Vaš kôd ovdje"
   ],
   "execution_count":null,
   "outputs":[
    
   ],
   "metadata":{
    "datalore":{
     "node_id":"uIUueLpbDALgPzTRh4bVHL",
     "type":"CODE",
     "hide_input_from_viewers":false,
     "hide_output_from_viewers":false,
     "report_properties":{
      
     }
    }
   }
  },
  {
   "cell_type":"markdown",
   "source":[
    "**Q:** Usporedite grafikone za slučaj linearno odvojivih i linearno neodvojivih primjera te komentirajte razliku."
   ],
   "attachments":{
    
   },
   "metadata":{
    "datalore":{
     "node_id":"4HHoHG0nEziKfdTBR9YMRx",
     "type":"MD",
     "hide_input_from_viewers":false,
     "hide_output_from_viewers":false,
     "report_properties":{
      
     }
    }
   }
  },
  {
   "cell_type":"markdown",
   "source":[
    "### 5. Regularizirana logistička regresija"
   ],
   "attachments":{
    
   },
   "metadata":{
    "datalore":{
     "node_id":"a18i0DRIT1nakLjtOf5LOV",
     "type":"MD",
     "hide_input_from_viewers":false,
     "hide_output_from_viewers":false,
     "report_properties":{
      
     }
    }
   }
  },
  {
   "cell_type":"markdown",
   "source":[
    "Trenirajte model logističke regresije na skupu `seven` s različitim faktorima L2-regularizacije, $\\alpha\\in\\{0,1,10,100\\}$. Prikažite na dva odvojena grafikona (1) pogrešku unakrsne entropije te (2) L2-normu vektora $\\mathbf{w}$ kroz iteracije optimizacijskog algoritma."
   ],
   "attachments":{
    
   },
   "metadata":{
    "datalore":{
     "node_id":"ko103htL8sKlZlAv6WCtZF",
     "type":"MD",
     "hide_input_from_viewers":false,
     "hide_output_from_viewers":false,
     "report_properties":{
      
     }
    }
   }
  },
  {
   "cell_type":"code",
   "source":[
    "from numpy.linalg import norm"
   ],
   "execution_count":null,
   "outputs":[
    
   ],
   "metadata":{
    "datalore":{
     "node_id":"g3KEAqbwIrZ9B38BYbmcXQ",
     "type":"CODE",
     "hide_input_from_viewers":false,
     "hide_output_from_viewers":false,
     "report_properties":{
      
     }
    }
   }
  },
  {
   "cell_type":"code",
   "source":[
    "# Vaš kôd ovdje"
   ],
   "execution_count":null,
   "outputs":[
    
   ],
   "metadata":{
    "datalore":{
     "node_id":"Rm2lyXIrUZswGHMdy8DFom",
     "type":"CODE",
     "hide_input_from_viewers":false,
     "hide_output_from_viewers":false,
     "report_properties":{
      
     }
    }
   }
  },
  {
   "cell_type":"markdown",
   "source":[
    "**Q:** Jesu li izgledi krivulja očekivani i zašto?\n",
    "\n",
    "**Q:** Koju biste vrijednost za $\\alpha$ odabrali i zašto?"
   ],
   "attachments":{
    
   },
   "metadata":{
    "datalore":{
     "node_id":"3vGnCUA9JSxiq3kHggEVHg",
     "type":"MD",
     "hide_input_from_viewers":false,
     "hide_output_from_viewers":false,
     "report_properties":{
      
     }
    }
   }
  },
  {
   "cell_type":"markdown",
   "source":[
    "### 6. Logistička regresija s funkcijom preslikavanja"
   ],
   "attachments":{
    
   },
   "metadata":{
    "datalore":{
     "node_id":"Sgfz4bJ5Jrf7WB4CMY8SAk",
     "type":"MD",
     "hide_input_from_viewers":false,
     "hide_output_from_viewers":false,
     "report_properties":{
      
     }
    }
   }
  },
  {
   "cell_type":"markdown",
   "source":[
    "Proučite funkciju [`datasets.make_classification`](http:\/\/scikit-learn.org\/stable\/modules\/generated\/sklearn.datasets.make_classification.html). Generirajte i prikažite dvoklasan skup podataka s ukupno $N=100$ dvodimenzijskih ($n=2)$ primjera, i to sa dvije grupe po klasi (`n_clusters_per_class=2`). Malo je izgledno da će tako generiran skup biti linearno odvojiv, međutim to nije problem jer primjere možemo preslikati u višedimenzijski prostor značajki pomoću klase [`preprocessing.PolynomialFeatures`](http:\/\/scikit-learn.org\/stable\/modules\/generated\/sklearn.preprocessing.PolynomialFeatures.html), kao što smo to učinili kod linearne regresije u prvoj laboratorijskoj vježbi. Trenirajte model logističke regresije koristeći za preslikavanje u prostor značajki polinomijalnu funkciju stupnja $d=2$ i stupnja $d=3$. Prikažite dobivene granice između klasa. Možete koristiti svoju implementaciju, ali se radi brzine preporuča koristiti `linear_model.LogisticRegression`. Regularizacijski faktor odaberite po želji.\n",
    "\n",
    "**NB:** Kao i ranije, za prikaz granice između klasa koristite funkciju `plot_2d_clf_problem`. Funkciji kao argumente predajte izvorni skup podataka, a preslikavanje u prostor značajki napravite unutar poziva funkcije `h` koja čini predikciju, na sljedeći način:"
   ],
   "attachments":{
    
   },
   "metadata":{
    "datalore":{
     "node_id":"Y3f8tTGSsgSRK34QZIzfe8",
     "type":"MD",
     "hide_input_from_viewers":false,
     "hide_output_from_viewers":false,
     "report_properties":{
      
     }
    }
   }
  },
  {
   "cell_type":"code",
   "source":[
    "from sklearn.preprocessing import PolynomialFeatures\n",
    "\n",
    "#plot_2d_clf_problem(X, y, lambda x : model.predict(poly.transform(x))"
   ],
   "execution_count":null,
   "outputs":[
    
   ],
   "metadata":{
    "datalore":{
     "node_id":"DwCXckNEDGpoVGfy760XDQ",
     "type":"CODE",
     "hide_input_from_viewers":false,
     "hide_output_from_viewers":false,
     "report_properties":{
      
     }
    }
   }
  },
  {
   "cell_type":"code",
   "source":[
    "from sklearn.datasets import make_classification\n",
    "\n",
    "# Vaš kôd ovdje"
   ],
   "execution_count":null,
   "outputs":[
    
   ],
   "metadata":{
    "datalore":{
     "node_id":"SxUaMy7wyaaQeIcbNJGerY",
     "type":"CODE",
     "hide_input_from_viewers":false,
     "hide_output_from_viewers":false,
     "report_properties":{
      
     }
    }
   }
  },
  {
   "cell_type":"markdown",
   "source":[
    "**Q:** Koji biste stupanj polinoma upotrijebili i zašto? Je li taj odabir povezan s odabirom regularizacijskog faktora $\\alpha$? Zašto?"
   ],
   "attachments":{
    
   },
   "metadata":{
    "datalore":{
     "node_id":"x3oGMpb7NDRSZ4bq1mFlLy",
     "type":"MD",
     "hide_input_from_viewers":false,
     "hide_output_from_viewers":false,
     "report_properties":{
      
     }
    }
   }
  }
 ],
 "metadata":{
  "kernelspec":{
   "display_name":"Python",
   "language":"python",
   "name":"python"
  },
  "datalore":{
   "version":1,
   "computation_mode":"JUPYTER",
   "package_manager":"pip",
   "base_environment":"default",
   "packages":[
    
   ]
  }
 },
 "nbformat":4,
 "nbformat_minor":4
}