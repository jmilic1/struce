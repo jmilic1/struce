{
 "cells":[
  {
   "cell_type":"markdown",
   "source":[
    "Sveučilište u Zagrebu  \n",
    "Fakultet elektrotehnike i računarstva  \n",
    "  \n",
    "## Strojno učenje 1 2022\/2023  \n",
    "http:\/\/www.fer.unizg.hr\/predmet\/struce1"
   ],
   "attachments":{
    
   },
   "metadata":{
    "datalore":{
     "node_id":"hSFm78cjWG8mLU68IhnsT8",
     "type":"MD",
     "hide_input_from_viewers":false,
     "hide_output_from_viewers":false,
     "report_properties":{
      
     }
    }
   }
  },
  {
   "cell_type":"markdown",
   "source":[
    "------------------------------\n",
    "\n",
    "### Prva laboratorijska vježba: Linearna regresija\n",
    "\n",
    "*Verzija: 1.0\n",
    "Zadnji put ažurirano: 1. 10. 2021.*\n",
    "\n",
    "(c) 2015-2022 Jan Šnajder, Domagoj Alagić \n",
    "\n",
    "Rok za predaju: **23. listopada 2022. u 23:59h**\n",
    "\n",
    "------------------------------"
   ],
   "attachments":{
    
   },
   "metadata":{
    "datalore":{
     "node_id":"idoboiXs5ChchdWSyi7tEl",
     "type":"MD",
     "hide_input_from_viewers":false,
     "hide_output_from_viewers":false,
     "report_properties":{
      
     }
    }
   }
  },
  {
   "cell_type":"markdown",
   "source":[
    "### Upute\n",
    "\n",
    "Prva laboratorijska vježba sastoji se od sedam zadataka. U nastavku slijedite upute navedene u ćelijama s tekstom. Rješavanje vježbe svodi se na **dopunjavanje ove bilježnice**: umetanja ćelije ili više njih **ispod** teksta zadatka, pisanja odgovarajućeg kôda te evaluiranja ćelija. \n",
    "\n",
    "Osigurajte da u potpunosti **razumijete** kôd koji ste napisali. Kod predaje vježbe, morate biti u stanju na zahtjev asistenta (ili demonstratora) preinačiti i ponovno evaluirati Vaš kôd. Nadalje, morate razumjeti teorijske osnove onoga što radite, u okvirima onoga što smo obradili na predavanju. Ispod nekih zadataka možete naći i pitanja koja služe kao smjernice za bolje razumijevanje gradiva (**nemojte pisati** odgovore na pitanja u bilježnicu). Stoga se nemojte ograničiti samo na to da riješite zadatak, nego slobodno eksperimentirajte. To upravo i jest svrha ovih vježbi.\n",
    "\n",
    "Vježbe trebate raditi **samostalno**. Možete se konzultirati s drugima o načelnom načinu rješavanja, ali u konačnici morate sami odraditi vježbu. U protivnome vježba nema smisla."
   ],
   "attachments":{
    
   },
   "metadata":{
    "datalore":{
     "node_id":"AEydb0glx67RzZIeX7VCX2",
     "type":"MD",
     "hide_input_from_viewers":false,
     "hide_output_from_viewers":false,
     "report_properties":{
      
     }
    }
   }
  },
  {
   "cell_type":"code",
   "source":[
    "# Učitaj osnovne biblioteke...\n",
    "import numpy as np\n",
    "import sklearn\n",
    "import matplotlib.pyplot as plt\n",
    "%pylab inline"
   ],
   "execution_count":2,
   "outputs":[
    {
     "name":"stdout",
     "text":[
      "Populating the interactive namespace from numpy and matplotlib\n"
     ],
     "output_type":"stream"
    },
    {
     "name":"stderr",
     "text":[
      "\/opt\/python\/envs\/default\/lib\/python3.8\/site-packages\/IPython\/core\/magics\/pylab.py:159: UserWarning: pylab import has clobbered these variables: ['poly']\n",
      "`%matplotlib` prevents importing * from pylab and numpy\n",
      "  warn(\"pylab import has clobbered these variables: %s\"  % clobbered +\n"
     ],
     "output_type":"stream"
    }
   ],
   "metadata":{
    "datalore":{
     "node_id":"12hZ8Of9qmXNMz7N32sgmN",
     "type":"CODE",
     "hide_input_from_viewers":false,
     "hide_output_from_viewers":false,
     "report_properties":{
      
     }
    }
   }
  },
  {
   "cell_type":"markdown",
   "source":[
    "### 1. Jednostavna regresija"
   ],
   "attachments":{
    
   },
   "metadata":{
    "datalore":{
     "node_id":"ROQgRtmXUJzDtnKa8tIiUy",
     "type":"MD",
     "hide_input_from_viewers":false,
     "hide_output_from_viewers":false,
     "report_properties":{
      
     }
    }
   }
  },
  {
   "cell_type":"markdown",
   "source":[
    "Zadan je skup primjera $\\mathcal{D}=\\{(x^{(i)},y^{(i)})\\}_{i=1}^4 = \\{(0,4),(1,1),(2,2),(4,5)\\}$. Primjere predstavite matricom $\\mathbf{X}$ dimenzija $N\\times n$ (u ovom slučaju $4\\times 1$) i vektorom oznaka $\\textbf{y}$, dimenzija $N\\times 1$ (u ovom slučaju $4\\times 1$), na sljedeći način:"
   ],
   "attachments":{
    
   },
   "metadata":{
    "datalore":{
     "node_id":"4YwRnjRfofLFui0iTXYGao",
     "type":"MD",
     "hide_input_from_viewers":false,
     "hide_output_from_viewers":false,
     "report_properties":{
      
     }
    }
   }
  },
  {
   "cell_type":"code",
   "source":[
    "X = np.array([[0],[1],[2],[4]])\n",
    "y = np.array([4,1,2,5])"
   ],
   "execution_count":138,
   "outputs":[
    
   ],
   "metadata":{
    "datalore":{
     "node_id":"gL4BoRqwafB6YVbomIVkYh",
     "type":"CODE",
     "hide_input_from_viewers":false,
     "hide_output_from_viewers":false,
     "report_properties":{
      
     }
    }
   }
  },
  {
   "cell_type":"markdown",
   "source":[
    "### (a)\n",
    "\n",
    "Proučite funkciju [`PolynomialFeatures`](http:\/\/scikit-learn.org\/stable\/modules\/generated\/sklearn.preprocessing.PolynomialFeatures.html) iz biblioteke `sklearn` i upotrijebite je za generiranje matrice dizajna $\\mathbf{\\Phi}$ koja ne koristi preslikavanje u prostor više dimenzije (samo će svakom primjeru biti dodane *dummy* jedinice; $m=n+1$)."
   ],
   "attachments":{
    
   },
   "metadata":{
    "datalore":{
     "node_id":"cKShPHaUFk4tr1Iq21kNjb",
     "type":"MD",
     "hide_input_from_viewers":false,
     "hide_output_from_viewers":false,
     "report_properties":{
      
     }
    }
   }
  },
  {
   "cell_type":"code",
   "source":[
    "from sklearn.preprocessing import PolynomialFeatures\n",
    "\n",
    "poly = PolynomialFeatures(1)\n",
    "phi = poly.fit_transform(X)\n",
    "phi"
   ],
   "execution_count":139,
   "outputs":[
    {
     "data":{
      "text\/html":[
       
      ]
     },
     "metadata":{
      
     },
     "output_type":"display_data"
    }
   ],
   "metadata":{
    "datalore":{
     "node_id":"Mo0Rq4WbuHInfdzXBpOvLz",
     "type":"CODE",
     "hide_input_from_viewers":false,
     "hide_output_from_viewers":false,
     "report_properties":{
      
     }
    }
   }
  },
  {
   "cell_type":"markdown",
   "source":[
    "### (b)"
   ],
   "attachments":{
    
   },
   "metadata":{
    "datalore":{
     "node_id":"IPDv16Dl0T1onI4inW48IY",
     "type":"MD",
     "hide_input_from_viewers":false,
     "hide_output_from_viewers":false,
     "report_properties":{
      
     }
    }
   }
  },
  {
   "cell_type":"markdown",
   "source":[
    "Upoznajte se s modulom [`linalg`](http:\/\/docs.scipy.org\/doc\/numpy\/reference\/routines.linalg.html). Izračunajte težine $\\mathbf{w}$ modela linearne regresije kao $\\mathbf{w}=(\\mathbf{\\Phi}^\\intercal\\mathbf{\\Phi})^{-1}\\mathbf{\\Phi}^\\intercal\\mathbf{y}$. Zatim se uvjerite da isti rezultat možete dobiti izračunom pseudoinverza $\\mathbf{\\Phi}^+$ matrice dizajna, tj. $\\mathbf{w}=\\mathbf{\\Phi}^+\\mathbf{y}$, korištenjem funkcije [`pinv`](http:\/\/docs.scipy.org\/doc\/numpy\/reference\/generated\/numpy.linalg.pinv.html)."
   ],
   "attachments":{
    
   },
   "metadata":{
    "datalore":{
     "node_id":"2b6CCXy2u7HWnVQXtgOafg",
     "type":"MD",
     "hide_input_from_viewers":false,
     "hide_output_from_viewers":false,
     "report_properties":{
      
     }
    }
   }
  },
  {
   "cell_type":"code",
   "source":[
    "from numpy import linalg\n",
    "\n",
    "phiT = np.transpose(phi)\n",
    "dotInverse = linalg.inv(phiT.dot(phi))\n",
    "w = dotInverse.dot(phiT).dot(y)\n",
    "print(w)\n",
    "\n",
    "pinvW = linalg.pinv(phi).dot(y)\n",
    "print(pinvW)"
   ],
   "execution_count":140,
   "outputs":[
    {
     "name":"stdout",
     "text":[
      "[2.2        0.45714286]\n",
      "[2.2        0.45714286]\n"
     ],
     "output_type":"stream"
    }
   ],
   "metadata":{
    "datalore":{
     "node_id":"z8T8nOrd7Pm87fQWitsVGa",
     "type":"CODE",
     "hide_input_from_viewers":false,
     "hide_output_from_viewers":false,
     "report_properties":{
      
     }
    }
   }
  },
  {
   "cell_type":"markdown",
   "source":[
    "Radi jasnoće, u nastavku je vektor $\\mathbf{x}$ s dodanom *dummy* jedinicom $x_0=1$ označen kao $\\tilde{\\mathbf{x}}$."
   ],
   "attachments":{
    
   },
   "metadata":{
    "datalore":{
     "node_id":"0K4PgqzTwKuiG4ukI4uPzT",
     "type":"MD",
     "hide_input_from_viewers":false,
     "hide_output_from_viewers":false,
     "report_properties":{
      
     }
    }
   }
  },
  {
   "cell_type":"markdown",
   "source":[
    "### (c)"
   ],
   "attachments":{
    
   },
   "metadata":{
    "datalore":{
     "node_id":"jWpEGckHjEcY12emDKNHnn",
     "type":"MD",
     "hide_input_from_viewers":false,
     "hide_output_from_viewers":false,
     "report_properties":{
      
     }
    }
   }
  },
  {
   "cell_type":"markdown",
   "source":[
    "Prikažite primjere iz $\\mathcal{D}$ i funkciju $h(\\tilde{\\mathbf{x}})=\\mathbf{w}^\\intercal\\tilde{\\mathbf{x}}$. Izračunajte pogrešku učenja prema izrazu $E(h|\\mathcal{D})=\\frac{1}{2}\\sum_{i=1}^N(\\tilde{\\mathbf{y}}^{(i)} - h(\\tilde{\\mathbf{x}}^{(i)}))^2$. Možete koristiti funkciju srednje kvadratne pogreške [`mean_squared_error`]( http:\/\/scikit-learn.org\/stable\/modules\/generated\/sklearn.metrics.mean_squared_error.html) iz modula [`sklearn.metrics`](http:\/\/scikit-learn.org\/stable\/modules\/classes.html#module-sklearn.metrics).\n",
    "\n",
    "**Q:** Gore definirana funkcija pogreške $E(h|\\mathcal{D})$ i funkcija srednje kvadratne pogreške nisu posve identične. U čemu je razlika? Koja je \"realnija\"?"
   ],
   "attachments":{
    
   },
   "metadata":{
    "datalore":{
     "node_id":"IIrz42tLQ4b9k6IBzU16ca",
     "type":"MD",
     "hide_input_from_viewers":false,
     "hide_output_from_viewers":false,
     "report_properties":{
      
     }
    }
   }
  },
  {
   "cell_type":"code",
   "source":[
    "from sklearn.metrics import mean_squared_error\n",
    "\n",
    "print(\"Primjeri:\", X.transpose())\n",
    "\n",
    "hx = np.transpose(w).dot(phiT)\n",
    "print(\"h(x) =\",hx)\n",
    "\n",
    "error = mean_squared_error(y, hx)\n",
    "print(\"Greška:\", error)"
   ],
   "execution_count":141,
   "outputs":[
    {
     "name":"stdout",
     "text":[
      "Primjeri: [[0 1 2 4]]\n",
      "h(x) = [2.2        2.65714286 3.11428571 4.02857143]\n",
      "Greška: 2.042857142857143\n"
     ],
     "output_type":"stream"
    }
   ],
   "metadata":{
    "datalore":{
     "node_id":"eQcXLm2YS8T9LOIpy7bjqP",
     "type":"CODE",
     "hide_input_from_viewers":false,
     "hide_output_from_viewers":false,
     "report_properties":{
      
     }
    }
   }
  },
  {
   "cell_type":"markdown",
   "source":[
    "### (d)"
   ],
   "attachments":{
    
   },
   "metadata":{
    "datalore":{
     "node_id":"I8t8KR8YgC3lktpJ6HSeJW",
     "type":"MD",
     "hide_input_from_viewers":false,
     "hide_output_from_viewers":false,
     "report_properties":{
      
     }
    }
   }
  },
  {
   "cell_type":"markdown",
   "source":[
    "Uvjerite se da za primjere iz $\\mathcal{D}$ težine $\\mathbf{w}$ ne možemo naći rješavanjem sustava $\\mathbf{w}=\\mathbf{\\Phi}^{-1}\\mathbf{y}$, već da nam doista treba pseudoinverz.\n",
    "\n",
    "**Q:** Zašto je to slučaj? Bi li se problem mogao riješiti preslikavanjem primjera u višu dimenziju? Ako da, bi li to uvijek funkcioniralo, neovisno o skupu primjera $\\mathcal{D}$? Pokažite na primjeru."
   ],
   "attachments":{
    
   },
   "metadata":{
    "datalore":{
     "node_id":"KhcEvBZJTy6ow4EzEvW454",
     "type":"MD",
     "hide_input_from_viewers":false,
     "hide_output_from_viewers":false,
     "report_properties":{
      
     }
    }
   }
  },
  {
   "cell_type":"code",
   "source":[
    "np.dot(np.linalg.inv(phi), y)"
   ],
   "execution_count":142,
   "outputs":[
    {
     "ename":"LinAlgError",
     "evalue":"LinAlgError: Last 2 dimensions of the array must be square",
     "traceback":[
      "\u001b[0;31m---------------------------------------------------------------------------",
      "Traceback (most recent call last)",
      "    at line 1 in <module>",
      "    at line 0 in inv(*args, **kwargs)",
      "    at line 540 in inv(a)",
      "    at line 203 in _assert_stacked_square(*arrays)",
      "LinAlgError: Last 2 dimensions of the array must be square"
     ],
     "output_type":"error"
    }
   ],
   "metadata":{
    "datalore":{
     "node_id":"619BLHThZBcuVk1FmAaFUg",
     "type":"CODE",
     "hide_input_from_viewers":false,
     "hide_output_from_viewers":false,
     "report_properties":{
      
     }
    }
   }
  },
  {
   "cell_type":"markdown",
   "source":[
    "### (e) "
   ],
   "attachments":{
    
   },
   "metadata":{
    "datalore":{
     "node_id":"0VlboltIE8ZUfWUzXyXslq",
     "type":"MD",
     "hide_input_from_viewers":false,
     "hide_output_from_viewers":false,
     "report_properties":{
      
     }
    }
   }
  },
  {
   "cell_type":"markdown",
   "source":[
    "Proučite klasu [`LinearRegression`](http:\/\/scikit-learn.org\/stable\/modules\/generated\/sklearn.linear_model.LinearRegression.html) iz modula [`sklearn.linear_model`](http:\/\/scikit-learn.org\/stable\/modules\/classes.html#module-sklearn.linear_model). Provjerite jesu li težine koje izračunava ta funkcija (dostupne pomoću atributa `coef_` i `intercept_`) jednake onima koje ste izračunali gore. Ako nisu, prilagodite kôd tako da jest.\n",
    "\n",
    "**NB:** Obratite pozornost na to kako klase [`LinearRegression`](http:\/\/scikit-learn.org\/stable\/modules\/generated\/sklearn.linear_model.LinearRegression.html) i [`PolynomialFeatures`](http:\/\/scikit-learn.org\/stable\/modules\/generated\/sklearn.preprocessing.PolynomialFeatures.html) koriste pomak i osigurajte da ga ne dodajete više puta.\n",
    "\n",
    "Izračunajte predikcije modela (metoda `predict`) i uvjerite se da je pogreška učenja identična onoj koju ste ranije izračunali."
   ],
   "attachments":{
    
   },
   "metadata":{
    "datalore":{
     "node_id":"EIQC5rdFZqV1ZepzuegEkE",
     "type":"MD",
     "hide_input_from_viewers":false,
     "hide_output_from_viewers":false,
     "report_properties":{
      
     }
    }
   }
  },
  {
   "cell_type":"code",
   "source":[
    "from sklearn.linear_model import LinearRegression\n",
    "\n",
    "reg = LinearRegression().fit(X, y)\n",
    "\n",
    "w = [reg.intercept_]\n",
    "w.append(*[coef for coef in reg.coef_])\n",
    "print(w)\n",
    "\n",
    "new_error = mean_squared_error(y, reg.predict(X))\n",
    "\n",
    "print(\"new_error:\", new_error)\n",
    "print(\"old_error:\", error)"
   ],
   "execution_count":143,
   "outputs":[
    {
     "name":"stdout",
     "text":[
      "[2.2, 0.45714285714285713]\n",
      "new_error: 2.042857142857143\n",
      "old_error: 2.042857142857143\n"
     ],
     "output_type":"stream"
    }
   ],
   "metadata":{
    "datalore":{
     "node_id":"DjmCBQReoHOBsHXzJbwl6p",
     "type":"CODE",
     "hide_input_from_viewers":false,
     "hide_output_from_viewers":false,
     "report_properties":{
      
     }
    }
   }
  },
  {
   "cell_type":"markdown",
   "source":[
    "### 2. Polinomijalna regresija i utjecaj šuma"
   ],
   "attachments":{
    
   },
   "metadata":{
    "datalore":{
     "node_id":"XwtIkPtn8p8ZGQH09tGOZL",
     "type":"MD",
     "hide_input_from_viewers":false,
     "hide_output_from_viewers":false,
     "report_properties":{
      
     }
    }
   }
  },
  {
   "cell_type":"markdown",
   "source":[
    "### (a)\n",
    "\n",
    "Razmotrimo sada regresiju na većem broju primjera. Definirajte funkciju `make_labels(X, f, noise=0)` koja uzima matricu neoznačenih primjera $\\mathbf{X}_{N\\times n}$ te generira vektor njihovih oznaka $\\mathbf{y}_{N\\times 1}$. Oznake se generiraju kao $y^{(i)} = f(x^{(i)})+\\mathcal{N}(0,\\sigma^2)$, gdje je $f:\\mathbb{R}^n\\to\\mathbb{R}$ stvarna funkcija koja je generirala podatke (koja nam je u stvarnosti nepoznata), a $\\sigma$ je standardna devijacija Gaussovog šuma, definirana parametrom `noise`. Za generiranje šuma možete koristiti funkciju [`numpy.random.normal`](https:\/\/numpy.org\/doc\/stable\/reference\/random\/generated\/numpy.random.normal.html). \n",
    "\n",
    "Generirajte skup za učenje od $N=50$ primjera uniformno distribuiranih u intervalu $[-5,5]$ pomoću funkcije $f(x) = 5 + x -2 x^2 -5 x^3$ uz šum  $\\sigma=200$:"
   ],
   "attachments":{
    
   },
   "metadata":{
    "datalore":{
     "node_id":"lwm81zvKXjfJKVc72JgzyZ",
     "type":"MD",
     "hide_input_from_viewers":false,
     "hide_output_from_viewers":false,
     "report_properties":{
      
     }
    }
   }
  },
  {
   "cell_type":"code",
   "source":[
    "from numpy.random import normal\n",
    "def make_labels(X, f, noise=0):\n",
    "    return f(X) + normal(0, noise, size(X))"
   ],
   "execution_count":186,
   "outputs":[
    
   ],
   "metadata":{
    "datalore":{
     "node_id":"yGerzkWDyiIDZdGYmz5vyM",
     "type":"CODE",
     "hide_input_from_viewers":false,
     "hide_output_from_viewers":false,
     "report_properties":{
      
     }
    }
   }
  },
  {
   "cell_type":"code",
   "source":[
    "def make_instances(x1, x2, N) :\n",
    "    return np.array([np.array([x]) for x in np.linspace(x1,x2,N)])"
   ],
   "execution_count":187,
   "outputs":[
    
   ],
   "metadata":{
    "datalore":{
     "node_id":"Bu13YwnMPJqj2wiXRpfx1V",
     "type":"CODE",
     "hide_input_from_viewers":false,
     "hide_output_from_viewers":false,
     "report_properties":{
      
     }
    }
   }
  },
  {
   "cell_type":"code",
   "source":[
    "def function(x):\n",
    "  return 5 + x - 2*x**2 - 5*x**3\n",
    "\n",
    "X_second = np.ravel(make_instances(-5, 5, 50))\n",
    "y_second = make_labels(X_second, function, 200).reshape(50,1)\n",
    "\n",
    "X_second = X_second.reshape(50,1)"
   ],
   "execution_count":190,
   "outputs":[
    
   ],
   "metadata":{
    "datalore":{
     "node_id":"l4uI3N45RI4QWv3ZoE4cuI",
     "type":"CODE",
     "hide_input_from_viewers":false,
     "hide_output_from_viewers":false,
     "report_properties":{
      
     }
    }
   }
  },
  {
   "cell_type":"markdown",
   "source":[
    "Prikažite taj skup funkcijom [`scatter`](http:\/\/matplotlib.org\/api\/pyplot_api.html#matplotlib.pyplot.scatter)."
   ],
   "attachments":{
    
   },
   "metadata":{
    "datalore":{
     "node_id":"tUIeh8ujiW3vERfbuAIeFr",
     "type":"MD",
     "hide_input_from_viewers":false,
     "hide_output_from_viewers":false,
     "report_properties":{
      
     }
    }
   }
  },
  {
   "cell_type":"code",
   "source":[
    "plt.scatter(X_second, y_second)"
   ],
   "execution_count":191,
   "outputs":[
    {
     "data":{
      "text\/plain":[
       "<matplotlib.collections.PathCollection at 0x7fc65ee47580>"
      ]
     },
     "metadata":{
      
     },
     "output_type":"display_data"
    },
    {
     "data":{
      "image\/png":"[encoded data removed]"
     },
     "metadata":{
      "image\/png":{
       
      }
     },
     "output_type":"display_data"
    }
   ],
   "metadata":{
    "datalore":{
     "node_id":"K1AhsRuCytRMqiKtFBIPlf",
     "type":"CODE",
     "hide_input_from_viewers":false,
     "hide_output_from_viewers":false,
     "report_properties":{
      
     }
    }
   }
  },
  {
   "cell_type":"markdown",
   "source":[
    "### (b)"
   ],
   "attachments":{
    
   },
   "metadata":{
    "datalore":{
     "node_id":"TVNM8q3QfwNvbbwS0nmDKS",
     "type":"MD",
     "hide_input_from_viewers":false,
     "hide_output_from_viewers":false,
     "report_properties":{
      
     }
    }
   }
  },
  {
   "cell_type":"markdown",
   "source":[
    "Trenirajte model polinomijalne regresije stupnja $d=3$. Na istom grafikonu prikažite naučeni model $h(\\mathbf{x})=\\mathbf{w}^\\intercal\\tilde{\\mathbf{x}}$ i primjere za učenje. Izračunajte pogrešku učenja modela."
   ],
   "attachments":{
    
   },
   "metadata":{
    "datalore":{
     "node_id":"HfQvbvdrwFN00I3zEPYhAy",
     "type":"MD",
     "hide_input_from_viewers":false,
     "hide_output_from_viewers":false,
     "report_properties":{
      
     }
    }
   }
  },
  {
   "cell_type":"code",
   "source":[
    "phi = PolynomialFeatures(3).fit_transform(X_second)\n",
    "phiT = phi.transpose()\n",
    "\n",
    "phiPlus = linalg.pinv(phi)\n",
    "w = np.dot(phiPlus, y_second)\n",
    "wT = w.transpose()\n",
    "\n",
    "hx = wT.dot(phiT).reshape(50,1)\n",
    "error = mean_squared_error(y_second, hx)\n",
    "\n",
    "print(\"Error:\", error)\n",
    "plt.scatter(X_second, y_second)\n",
    "plt.plot(X_second, hx)"
   ],
   "execution_count":192,
   "outputs":[
    {
     "name":"stdout",
     "text":[
      "Error: 45706.81604875382\n"
     ],
     "output_type":"stream"
    },
    {
     "data":{
      "text\/plain":[
       "[<matplotlib.lines.Line2D at 0x7fc65ec5ebe0>]"
      ]
     },
     "metadata":{
      
     },
     "output_type":"display_data"
    },
    {
     "data":{
      "image\/png":"[encoded data removed]"
     },
     "metadata":{
      "image\/png":{
       
      }
     },
     "output_type":"display_data"
    }
   ],
   "metadata":{
    "datalore":{
     "node_id":"qTf7TC7UNJJosPt9n9sQZW",
     "type":"CODE",
     "hide_input_from_viewers":false,
     "hide_output_from_viewers":false,
     "report_properties":{
      
     }
    }
   }
  },
  {
   "cell_type":"markdown",
   "source":[
    "### 3. Odabir modela"
   ],
   "attachments":{
    
   },
   "metadata":{
    "datalore":{
     "node_id":"ovqBbfjMixw4J8vVsmTzYm",
     "type":"MD",
     "hide_input_from_viewers":false,
     "hide_output_from_viewers":false,
     "report_properties":{
      
     }
    }
   }
  },
  {
   "cell_type":"markdown",
   "source":[
    "### (a)\n",
    "\n",
    "Na skupu podataka iz zadatka 2 trenirajte pet modela linearne regresije $\\mathcal{H}_d$ različite složenosti, gdje je $d$ stupanj polinoma, $d\\in\\{1,3,5,10,20\\}$. Prikažite na istome grafikonu skup za učenje i funkcije $h_d(\\mathbf{x})$ za svih pet modela (preporučujemo koristiti `plot` unutar `for` petlje). Izračunajte pogrešku učenja svakog od modela.\n",
    "\n",
    "**Q:** Koji model ima najmanju pogrešku učenja i zašto?"
   ],
   "attachments":{
    
   },
   "metadata":{
    "datalore":{
     "node_id":"uPYTWdTx8OFtbhMxkvmDlV",
     "type":"MD",
     "hide_input_from_viewers":false,
     "hide_output_from_viewers":false,
     "report_properties":{
      
     }
    }
   }
  },
  {
   "cell_type":"code",
   "source":[
    "elements = [1, 3, 5, 10, 20]\n",
    "\n",
    "for d in elements:\n",
    "  phi = PolynomialFeatures(d).fit_transform(X_second)\n",
    "  phiT = phi.transpose()\n",
    "\n",
    "  phiPlus = linalg.pinv(phi)\n",
    "  w = np.dot(phiPlus, y_second)\n",
    "  wT = w.transpose()\n",
    "\n",
    "  hx = wT.dot(phiT).reshape(50,1)\n",
    "  error = mean_squared_error(y_second, hx)\n",
    "\n",
    "  plt.figure()\n",
    "  plt.scatter(X_second, y_second)\n",
    "  plt.plot(X_second, hx)\n",
    "  plt.title(f'Degree: {d}, Error: {error}')\n",
    "plt.show()"
   ],
   "execution_count":195,
   "outputs":[
    {
     "data":{
      "image\/png":"[encoded data removed]"
     },
     "metadata":{
      "image\/png":{
       
      }
     },
     "output_type":"display_data"
    },
    {
     "data":{
      "image\/png":"[encoded data removed]"
     },
     "metadata":{
      "image\/png":{
       
      }
     },
     "output_type":"display_data"
    },
    {
     "data":{
      "image\/png":"[encoded data removed]"
     },
     "metadata":{
      "image\/png":{
       
      }
     },
     "output_type":"display_data"
    },
    {
     "data":{
      "image\/png":"[encoded data removed]"
     },
     "metadata":{
      "image\/png":{
       
      }
     },
     "output_type":"display_data"
    },
    {
     "data":{
      "image\/png":"[encoded data removed]"
     },
     "metadata":{
      "image\/png":{
       
      }
     },
     "output_type":"display_data"
    }
   ],
   "metadata":{
    "datalore":{
     "node_id":"m68r0EgpUaIAN0wfEPep7m",
     "type":"CODE",
     "hide_input_from_viewers":false,
     "hide_output_from_viewers":false,
     "report_properties":{
      
     }
    }
   }
  },
  {
   "cell_type":"markdown",
   "source":[
    "### (b)"
   ],
   "attachments":{
    
   },
   "metadata":{
    "datalore":{
     "node_id":"DzaMTLZWwy5UAjYoA3bC0K",
     "type":"MD",
     "hide_input_from_viewers":false,
     "hide_output_from_viewers":false,
     "report_properties":{
      
     }
    }
   }
  },
  {
   "cell_type":"markdown",
   "source":[
    "Razdvojite skup primjera iz zadatka 2 pomoću funkcije [`model_selection.train_test_split`](https:\/\/scikit-learn.org\/stable\/modules\/generated\/sklearn.model_selection.train_test_split.html) na skup za učenja i skup za ispitivanje u omjeru 1:1. Prikažite na jednom grafikonu pogrešku učenja i ispitnu pogrešku za modele polinomijalne regresije $\\mathcal{H}_d$, sa stupnjem polinoma $d$ u rasponu $d\\in [1,2,\\ldots,20]$. Budući da kvadratna pogreška brzo raste za veće stupnjeve polinoma, umjesto da iscrtate izravno iznose pogrešaka, iscrtajte njihove logaritme.\n",
    "\n",
    "**NB:** Podjela na skupa za učenje i skup za ispitivanje mora za svih dvadeset modela biti identična.\n",
    "\n",
    "**Q:** Je li rezultat u skladu s očekivanjima? Koji biste model odabrali i zašto?\n",
    "\n",
    "**Q:** Pokrenite iscrtavanje više puta. U čemu je problem? Bi li problem bio jednako izražen kad bismo imali više primjera? Zašto?"
   ],
   "attachments":{
    
   },
   "metadata":{
    "datalore":{
     "node_id":"rBxiVMi1cnpos8vCiiErdr",
     "type":"MD",
     "hide_input_from_viewers":false,
     "hide_output_from_viewers":false,
     "report_properties":{
      
     }
    }
   }
  },
  {
   "cell_type":"code",
   "source":[
    "from sklearn.model_selection import train_test_split\n",
    "\n",
    "X_train_3b, X_test_3b, y_train_3b, y_test_3b = train_test_split(X_second, y_second, test_size=0.5)\n",
    "\n",
    "error_train = []\n",
    "error_test = []\n",
    "\n",
    "for d in range(1, 21):\n",
    "  poly = PolynomialFeatures(d)\n",
    "  phi_train = poly.fit_transform(X_train_3b)\n",
    "  phi_test = poly.fit_transform(X_test_3b)\n",
    "    \n",
    "  phi_trainT = phi_train.transpose()\n",
    "  phi_testT = phi_test.transpose()\n",
    "\n",
    "  phiPlus = linalg.pinv(phi_train)\n",
    "  w = np.dot(phiPlus, y_train_3b)\n",
    "  wT = w.transpose()\n",
    "\n",
    "  h_train = wT.dot(phi_trainT).flatten()\n",
    "  h_test = wT.dot(phi_testT).flatten()\n",
    "\n",
    "  error_train.append(log(mean_squared_error(y_train_3b, h_train)))\n",
    "  error_test.append(log(mean_squared_error(y_test_3b, h_test)))\n",
    "\n",
    "plt.scatter(range(1,21), error_train, label=\"error_train\")\n",
    "plt.scatter(range(1,21), error_test, label=\"error_test\")\n",
    "plt.legend()"
   ],
   "execution_count":214,
   "outputs":[
    {
     "data":{
      "text\/plain":[
       "<matplotlib.legend.Legend at 0x7fc65f272790>"
      ]
     },
     "metadata":{
      
     },
     "output_type":"display_data"
    },
    {
     "data":{
      "image\/png":"[encoded data removed]"
     },
     "metadata":{
      "image\/png":{
       
      }
     },
     "output_type":"display_data"
    }
   ],
   "metadata":{
    "datalore":{
     "node_id":"tuvbYvu6pIKyfJBma3rq8M",
     "type":"CODE",
     "hide_input_from_viewers":false,
     "hide_output_from_viewers":false,
     "report_properties":{
      
     }
    }
   }
  },
  {
   "cell_type":"markdown",
   "source":[
    "### (c)"
   ],
   "attachments":{
    
   },
   "metadata":{
    "datalore":{
     "node_id":"uwUKDME88f3Anc89fAC6zx",
     "type":"MD",
     "hide_input_from_viewers":false,
     "hide_output_from_viewers":false,
     "report_properties":{
      
     }
    }
   }
  },
  {
   "cell_type":"markdown",
   "source":[
    "Točnost modela ovisi o (1) njegovoj složenosti (stupanj $d$ polinoma), (2) broju primjera $N$, i (3) količini šuma. Kako biste to analizirali, nacrtajte grafikone pogrešaka kao u 3b, ali za različit $N\\in$ (trećina, dvije trećine, sve) i količine šuma $\\sigma\\in\\{100,200,500\\}$ (ukupno 9 grafikona). Upotrijebite funkciju [`subplots`](http:\/\/matplotlib.org\/examples\/pylab_examples\/subplots_demo.html) kako biste pregledno posložili grafikone u tablicu $3\\times 3$. Podatci se generiraju na isti način kao u zadatku 2.\n",
    "\n",
    "**NB:** Pobrinite se da svi grafikoni budu generirani nad usporedivim skupovima podataka, na sljedeći način. Generirajte najprije svih 1000 primjera, podijelite ih na skupove za učenje i skupove za ispitivanje (dva skupa od po 500 primjera). Zatim i od skupa za učenje i od skupa za ispitivanje načinite tri različite verzije, svaka s drugačijom količinom šuma (ukupno 2x3=6 verzija podataka). Kako bi simulirali veličinu skupa podataka, od tih dobivenih 6 skupova podataka uzorkujte trećinu, dvije trećine i sve podatke. Time ste dobili 18 skupova podataka -- skup za učenje i za testiranje za svaki od devet grafova."
   ],
   "attachments":{
    
   },
   "metadata":{
    "datalore":{
     "node_id":"8W0B3n8Nko517IclJe8UMJ",
     "type":"MD",
     "hide_input_from_viewers":false,
     "hide_output_from_viewers":false,
     "report_properties":{
      
     }
    }
   }
  },
  {
   "cell_type":"code",
   "source":[
    "f, axxr = plt.subplots(3, 3)\n",
    "\n",
    "X = np.ravel(make_instances(-5, 5, 1000))\n",
    "X_train, X_test = train_test_split(X, test_size = 0.5)\n",
    "\n",
    "i = 0\n",
    "for N in [1\/3, 2\/3, 1]:\n",
    "  j = 0\n",
    "  for sigma in [100, 200, 500]:\n",
    "    inner_X_train = X_train if N==1 else train_test_split(X, test_size = N, shuffle = False)[0]\n",
    "    inner_X_test = X_test if N==1 else train_test_split(X, test_size=N, shuffle=False)[0]\n",
    "\n",
    "    inner_y_train = make_labels(inner_X_train, function, sigma)\n",
    "    inner_y_test = make_labels(inner_X_test, function, sigma)\n",
    "\n",
    "    inner_X_train = inner_X_train.reshape(-1, 1)\n",
    "    inner_X_test = inner_X_test.reshape(-1, 1)\n",
    "\n",
    "    error_train = []\n",
    "    error_test = []\n",
    "    for degree in range(1, 21):\n",
    "      poly = PolynomialFeatures(degree)\n",
    "      phi_train = poly.fit_transform(inner_X_train)\n",
    "      phi_test = poly.fit_transform(inner_X_test)\n",
    "        \n",
    "      phi_trainT = phi_train.transpose()\n",
    "      phi_testT = phi_test.transpose()\n",
    "\n",
    "      phiPlus = linalg.pinv(phi_train)\n",
    "      w = phiPlus.dot(inner_y_train)\n",
    "      wT = w.transpose()\n",
    "\n",
    "      h_train = wT.dot(phi_trainT).flatten()\n",
    "      h_test = wT.dot(phi_testT).flatten()\n",
    "\n",
    "      error_train.append(log(mean_squared_error(inner_y_train, h_train)))\n",
    "      error_test.append(log(mean_squared_error(inner_y_test, h_test)))\n",
    "    \n",
    "    axxr[i, j].plot(range(1, 21), error_train, label=\"error_train\")\n",
    "    axxr[i, j].plot(range(1, 21), error_test, label=\"error_test\")\n",
    "    j = j+1\n",
    "  i = i + 1\n",
    "plt.legend()\n",
    "plt.show()"
   ],
   "execution_count":198,
   "outputs":[
    {
     "data":{
      "image\/png":"[encoded data removed]"
     },
     "metadata":{
      "image\/png":{
       
      }
     },
     "output_type":"display_data"
    }
   ],
   "metadata":{
    "datalore":{
     "node_id":"7ddUipOZapQahcA0W4jyRD",
     "type":"CODE",
     "hide_input_from_viewers":false,
     "hide_output_from_viewers":false,
     "report_properties":{
      
     }
    }
   }
  },
  {
   "cell_type":"markdown",
   "source":[
    "***Q:*** Jesu li rezultati očekivani? Obrazložite."
   ],
   "attachments":{
    
   },
   "metadata":{
    "datalore":{
     "node_id":"gpUJ9h7nxVnceRPHHfQezv",
     "type":"MD",
     "hide_input_from_viewers":false,
     "hide_output_from_viewers":false,
     "report_properties":{
      
     }
    }
   }
  },
  {
   "cell_type":"markdown",
   "source":[
    "### 4. Regularizirana regresija"
   ],
   "attachments":{
    
   },
   "metadata":{
    "datalore":{
     "node_id":"r4hrs1XXf5S8a8NYjGgKWr",
     "type":"MD",
     "hide_input_from_viewers":false,
     "hide_output_from_viewers":false,
     "report_properties":{
      
     }
    }
   }
  },
  {
   "cell_type":"markdown",
   "source":[
    "### (a)\n",
    "\n",
    "U gornjim eksperimentima nismo koristili **regularizaciju**. Vratimo se najprije na primjer iz zadatka 1. Na primjerima iz tog zadatka izračunajte težine $\\mathbf{w}$ za polinomijalni regresijski model stupnja $d=3$ uz L2-regularizaciju (tzv. *ridge regression*), prema izrazu $\\mathbf{w}=(\\mathbf{\\Phi}^\\intercal\\mathbf{\\Phi}+\\lambda\\mathbf{I})^{-1}\\mathbf{\\Phi}^\\intercal\\mathbf{y}$. Napravite izračun težina za regularizacijske faktore $\\lambda=0$, $\\lambda=1$ i $\\lambda=10$ te usporedite dobivene težine.\n",
    "\n",
    "**Q:** Kojih je dimenzija matrica koju treba invertirati?\n",
    "\n",
    "**Q:** Po čemu se razlikuju dobivene težine i je li ta razlika očekivana? Obrazložite."
   ],
   "attachments":{
    
   },
   "metadata":{
    "datalore":{
     "node_id":"IWhyF8DTKvHYEb5rDYfsYX",
     "type":"MD",
     "hide_input_from_viewers":false,
     "hide_output_from_viewers":false,
     "report_properties":{
      
     }
    }
   }
  },
  {
   "cell_type":"code",
   "source":[
    "X_reg = np.array([0,1,2,4]).reshape(4,1)\n",
    "y_reg = np.array([4,1,2,5])\n",
    "\n",
    "for lamb in [0, 1, 10]:\n",
    "  poly = PolynomialFeatures(3)\n",
    "  phi = poly.fit_transform(X_reg)\n",
    "  phiT = np.transpose(phi)\n",
    "  \n",
    "  lamb_diag = lamb * np.identity(4)\n",
    "  lamb_diag[0][0] = 0\n",
    "\n",
    "  first = linalg.inv(phiT.dot(phi) + lamb_diag).dot(phiT)\n",
    "  w = first.dot(y_reg)\n",
    "  print(\"lamda =\", lamb, \":\", w)"
   ],
   "execution_count":199,
   "outputs":[
    {
     "name":"stdout",
     "text":[
      "lamda = 0 : [ 4.         -5.91666667  3.375      -0.45833333]\n",
      "lamda = 1 : [ 3.05696145 -0.69079365 -0.2831746   0.1445805 ]\n",
      "lamda = 10 : [ 2.49444184 -0.15897295 -0.13423067  0.0815601 ]\n"
     ],
     "output_type":"stream"
    }
   ],
   "metadata":{
    "datalore":{
     "node_id":"3M9nONsTfdbzaUHIc7IXjB",
     "type":"CODE",
     "hide_input_from_viewers":false,
     "hide_output_from_viewers":false,
     "report_properties":{
      
     }
    }
   }
  },
  {
   "cell_type":"markdown",
   "source":[
    "### (b)"
   ],
   "attachments":{
    
   },
   "metadata":{
    "datalore":{
     "node_id":"oXJFY8TaPDDv4xzYs8GV99",
     "type":"MD",
     "hide_input_from_viewers":false,
     "hide_output_from_viewers":false,
     "report_properties":{
      
     }
    }
   }
  },
  {
   "cell_type":"markdown",
   "source":[
    "Proučite klasu [`Ridge`](http:\/\/scikit-learn.org\/stable\/modules\/generated\/sklearn.linear_model.Ridge.html#sklearn.linear_model.Ridge) iz modula [`sklearn.linear_model`](http:\/\/scikit-learn.org\/stable\/modules\/classes.html#module-sklearn.linear_model), koja implementira L2-regularizirani regresijski model. Parametar $\\alpha$ odgovara parametru $\\lambda$. Primijenite model na istim primjerima kao u prethodnom zadatku i ispišite težine $\\mathbf{w}$ (atributi `coef_` i `intercept_`). Ponovno, pripazite na pomak.\n",
    "\n",
    "**Q:** Jesu li težine identične onima iz zadatka 4a? Ako nisu, objasnite zašto je to tako i kako biste to popravili."
   ],
   "attachments":{
    
   },
   "metadata":{
    "datalore":{
     "node_id":"l0dGTtpEjnRuwXKzvFcerx",
     "type":"MD",
     "hide_input_from_viewers":false,
     "hide_output_from_viewers":false,
     "report_properties":{
      
     }
    }
   }
  },
  {
   "cell_type":"code",
   "source":[
    "from sklearn.linear_model import Ridge\n",
    "\n",
    "for lamb in [0, 1, 10]:\n",
    "  poly = PolynomialFeatures(3)\n",
    "  phi = poly.fit_transform(X_reg)\n",
    "\n",
    "  clf = Ridge(alpha=lamb)\n",
    "  clf.fit(phi, y_reg)\n",
    "  print(\"lamda =\", lamb)\n",
    "  w = [clf.intercept_]\n",
    "  w.extend([coef for coef in clf.coef_[1:]])\n",
    "  print(w)"
   ],
   "execution_count":201,
   "outputs":[
    {
     "name":"stdout",
     "text":[
      "lamda = 0\n",
      "[4.000000000000028, -5.916666666666732, 3.375000000000027, -0.4583333333333364]\n",
      "lamda = 1\n",
      "[3.0569614512471652, -0.6907936507936514, -0.283174603174602, 0.1445804988662129]\n",
      "lamda = 10\n",
      "[2.4944418431229725, -0.1589729487341473, -0.13423066536848305, 0.08156009919705869]\n"
     ],
     "output_type":"stream"
    }
   ],
   "metadata":{
    "datalore":{
     "node_id":"VuUZVOjbAW0uGgJXd9x4Jj",
     "type":"CODE",
     "hide_input_from_viewers":false,
     "hide_output_from_viewers":false,
     "report_properties":{
      
     }
    }
   }
  },
  {
   "cell_type":"markdown",
   "source":[
    "### (c)\n",
    "\n",
    "Vratimo se na slučaj $N=50$ slučajno generiranih primjera iz zadatka 2. Trenirajte modele polinomijalne regresije $\\mathcal{H}_{\\lambda,d}$ za $\\lambda\\in\\{0,100\\}$ i $d\\in\\{2,10\\}$ (ukupno četiri modela). Skicirajte pripadne funkcije $h(\\mathbf{x})$ i primjere (na jednom grafikonu; preporučujemo koristiti `plot` unutar `for` petlje).\n",
    "\n",
    "**Q:** Jesu li rezultati očekivani? Obrazložite."
   ],
   "attachments":{
    
   },
   "metadata":{
    "datalore":{
     "node_id":"hSwJbWeVQTEpttdOWE4jKD",
     "type":"MD",
     "hide_input_from_viewers":false,
     "hide_output_from_viewers":false,
     "report_properties":{
      
     }
    }
   }
  },
  {
   "cell_type":"code",
   "source":[
    "i = 0\n",
    "for lamb in [0, 100]:\n",
    "  j = 0\n",
    "  for degree in [2, 10]:\n",
    "    phi = PolynomialFeatures(degree).fit_transform(X_second)\n",
    "\n",
    "    clf = Ridge(alpha=lamb)\n",
    "    clf.fit(phi, y_second)\n",
    "\n",
    "    h_X_line = clf.predict(phi)\n",
    "\n",
    "    plt.plot(X_second, h_X_line, label=f'lamb: {lamb}, degree: {degree}')\n",
    "    j = j+1\n",
    "  i = i+1\n",
    "\n",
    "plt.scatter(X_second, y_second)\n",
    "plt.legend()\n",
    "plt.show()"
   ],
   "execution_count":205,
   "outputs":[
    {
     "data":{
      "image\/png":"[encoded data removed]"
     },
     "metadata":{
      "image\/png":{
       
      }
     },
     "output_type":"display_data"
    }
   ],
   "metadata":{
    "datalore":{
     "node_id":"qaQzxQ5p1cDXYqwQH6eOS1",
     "type":"CODE",
     "hide_input_from_viewers":false,
     "hide_output_from_viewers":false,
     "report_properties":{
      
     }
    }
   }
  },
  {
   "cell_type":"markdown",
   "source":[
    "### (d)\n",
    "\n",
    "Kao u zadataku 3b, razdvojite primjere na skup za učenje i skup za ispitivanje u omjeru 1:1. Prikažite krivulje logaritama pogreške učenja i ispitne pogreške u ovisnosti za model $\\mathcal{H}_{d=10,\\lambda}$, podešavajući faktor regularizacije $\\lambda$ u rasponu $\\lambda\\in\\{0,1,\\dots,50\\}$.\n",
    "\n",
    "**Q:** Kojoj strani na grafikonu odgovara područje prenaučenosti, a kojoj podnaučenosti? Zašto?\n",
    "\n",
    "**Q:** Koju biste vrijednosti za $\\lambda$ izabrali na temelju ovih grafikona i zašto?"
   ],
   "attachments":{
    
   },
   "metadata":{
    "datalore":{
     "node_id":"FghjxhKUtF4cG9ZMNVpdkv",
     "type":"MD",
     "hide_input_from_viewers":false,
     "hide_output_from_viewers":false,
     "report_properties":{
      
     }
    }
   }
  },
  {
   "cell_type":"code",
   "source":[
    "from sklearn.model_selection import train_test_split\n",
    "X_train, X_test, y_train, y_test = train_test_split(X_second, y_second, test_size=0.5)\n",
    "\n",
    "error_train = []\n",
    "error_test = []\n",
    "\n",
    "for lamb in range(0, 51):\n",
    "  poly = PolynomialFeatures(10)\n",
    "  phi_train = poly.fit_transform(X_train)\n",
    "  phi_test = poly.fit_transform(X_test)\n",
    "\n",
    "  clf = Ridge(alpha=lamb)\n",
    "  clf.fit(phi_train, y_train)\n",
    "\n",
    "  h_train = clf.predict(phi_train)\n",
    "  h_test = clf.predict(phi_test)\n",
    "\n",
    "  error_train.append(log(mean_squared_error(y_train, h_train)))\n",
    "  error_test.append(log(mean_squared_error(y_test, h_test)))\n",
    "\n",
    "plt.plot(range(0,51), error_train, label=\"error_train\")\n",
    "plt.plot(range(0,51), error_test, label=\"error_test\")\n",
    "plt.legend()\n",
    "plt.show()"
   ],
   "execution_count":208,
   "outputs":[
    {
     "data":{
      "image\/png":"[encoded data removed]"
     },
     "metadata":{
      "image\/png":{
       
      }
     },
     "output_type":"display_data"
    }
   ],
   "metadata":{
    "datalore":{
     "node_id":"HGjBOE9zDG4Ks5TMncAswx",
     "type":"CODE",
     "hide_input_from_viewers":false,
     "hide_output_from_viewers":false,
     "report_properties":{
      
     }
    }
   }
  },
  {
   "cell_type":"markdown",
   "source":[
    "### 5. L1-regularizacija i L2-regularizacija"
   ],
   "attachments":{
    
   },
   "metadata":{
    "datalore":{
     "node_id":"iVwBV2CvjYAcWbb2ifD7xB",
     "type":"MD",
     "hide_input_from_viewers":false,
     "hide_output_from_viewers":false,
     "report_properties":{
      
     }
    }
   }
  },
  {
   "cell_type":"markdown",
   "source":[
    "Svrha regularizacije jest potiskivanje težina modela $\\mathbf{w}$ prema nuli, kako bi model bio što jednostavniji. Složenost modela može se okarakterizirati normom pripadnog vektora težina $\\mathbf{w}$, i to tipično L2-normom ili L1-normom. Za jednom trenirani model možemo izračunati i broj ne-nul značajki, ili L0-normu, pomoću sljedeće funkcije koja prima vektor težina $\\mathbf{w}$:"
   ],
   "attachments":{
    
   },
   "metadata":{
    "datalore":{
     "node_id":"anKEOaTrNCsm12Fb1HbwEO",
     "type":"MD",
     "hide_input_from_viewers":false,
     "hide_output_from_viewers":false,
     "report_properties":{
      
     }
    }
   }
  },
  {
   "cell_type":"code",
   "source":[
    "def nonzeroes(coef, tol=1e-6): \n",
    "    return len(coef) - len(coef[np.isclose(0, coef, atol=tol)])"
   ],
   "execution_count":215,
   "outputs":[
    
   ],
   "metadata":{
    "datalore":{
     "node_id":"K3yyCc0ENYTxu0W726cOCR",
     "type":"CODE",
     "hide_input_from_viewers":false,
     "hide_output_from_viewers":false,
     "report_properties":{
      
     }
    }
   }
  },
  {
   "cell_type":"markdown",
   "source":[
    "### (a)\n",
    "\n",
    "Za ovaj zadatak upotrijebite skup za učenje i skup za testiranje iz zadatka 3b. Trenirajte modele **L2-regularizirane** polinomijalne regresije stupnja $d=5$, mijenjajući hiperparametar $\\lambda$ u rasponu $\\{1,2,\\dots,100\\}$. Za svaki od treniranih modela izračunajte L{0,1,2}-norme vektora težina $\\mathbf{w}$ te ih prikažite kao funkciju od $\\lambda$. Pripazite što točno šaljete u funkciju za izračun normi.\n",
    "\n",
    "**Q:** Objasnite oblik obiju krivulja. Hoće li krivulja za $\\|\\mathbf{w}\\|_2$ doseći nulu? Zašto? Je li to problem? Zašto?\n",
    "\n",
    "**Q:** Za $\\lambda=100$, koliki je postotak težina modela jednak nuli, odnosno koliko je model rijedak?"
   ],
   "attachments":{
    
   },
   "metadata":{
    "datalore":{
     "node_id":"uBpWhIe8dUhmkiDNFId98p",
     "type":"MD",
     "hide_input_from_viewers":false,
     "hide_output_from_viewers":false,
     "report_properties":{
      
     }
    }
   }
  },
  {
   "cell_type":"code",
   "source":[
    "from sklearn.linear_model import Ridge\n",
    "\n",
    "d = 5\n",
    "L0 = []\n",
    "L1 = []\n",
    "L2 = []\n",
    "for lamb in range(1, 101):\n",
    "  poly = PolynomialFeatures(d)\n",
    "  phi_train = poly.fit_transform(X_train_3b)\n",
    "    \n",
    "  clf = Ridge(alpha=lamb)\n",
    "  clf.fit(phi_train, y_train_3b)\n",
    "\n",
    "  L0.append(nonzeroes(clf.coef_))\n",
    "  L1.append(np.absolute(clf.coef_).sum())\n",
    "  L2.append(sqrt(clf.coef_.dot(clf.coef_.transpose())))\n",
    "    \n",
    "plt.scatter(range(1, 101), L0, label=\"L0\")\n",
    "plt.scatter(range(1, 101), L1, label=\"L1\")\n",
    "plt.scatter(range(1, 101), L2, label=\"L1\")\n",
    "plt.legend()\n",
    "plt.show()"
   ],
   "execution_count":229,
   "outputs":[
    {
     "data":{
      "image\/png":"[encoded data removed]"
     },
     "metadata":{
      "image\/png":{
       
      }
     },
     "output_type":"display_data"
    }
   ],
   "metadata":{
    "datalore":{
     "node_id":"bIJeqseChBf3YikPAu1kWO",
     "type":"CODE",
     "hide_input_from_viewers":false,
     "hide_output_from_viewers":false,
     "report_properties":{
      
     }
    }
   }
  },
  {
   "cell_type":"markdown",
   "source":[
    "### (b)"
   ],
   "attachments":{
    
   },
   "metadata":{
    "datalore":{
     "node_id":"49kbAlEFWj60fOLTqUkdmH",
     "type":"MD",
     "hide_input_from_viewers":false,
     "hide_output_from_viewers":false,
     "report_properties":{
      
     }
    }
   }
  },
  {
   "cell_type":"markdown",
   "source":[
    "Glavna prednost L1-regularizirane regresije (ili *LASSO regression*) nad L2-regulariziranom regresijom jest u tome što L1-regularizirana regresija rezultira **rijetkim modelima** (engl. *sparse models*), odnosno modelima kod kojih su mnoge težine pritegnute na nulu. Pokažite da je to doista tako, ponovivši gornji eksperiment s **L1-regulariziranom** regresijom, implementiranom u klasi  [`Lasso`](http:\/\/scikit-learn.org\/stable\/modules\/generated\/sklearn.linear_model.Lasso.html) u modulu [`sklearn.linear_model`](http:\/\/scikit-learn.org\/stable\/modules\/classes.html#module-sklearn.linear_model)."
   ],
   "attachments":{
    
   },
   "metadata":{
    "datalore":{
     "node_id":"maI5GMvUGK2iI9qFZwaeFD",
     "type":"MD",
     "hide_input_from_viewers":false,
     "hide_output_from_viewers":false,
     "report_properties":{
      
     }
    }
   }
  },
  {
   "cell_type":"code",
   "source":[
    "from sklearn.linear_model import Lasso\n",
    "\n",
    "d = 5\n",
    "for lamb in range(1, 101):\n",
    "  poly = PolynomialFeatures(d)\n",
    "  phi_train = poly.fit_transform(X_train_3b)\n",
    "    \n",
    "  clf = Lasso(alpha=lamb)\n",
    "  clf.fit(phi_train, y_train_3b)\n",
    "\n",
    "  print(f\"lambda: {lamb}, coefs: {clf.coef_}\")"
   ],
   "execution_count":230,
   "outputs":[
    {
     "name":"stdout",
     "text":[
      "lambda: 1, coefs: [  0.         -68.83056203  -3.82937027   2.15057067   0.24636651\n",
      "  -0.11096196]\n",
      "lambda: 2, coefs: [  0.         -65.75322777  -3.80161559   1.74209996   0.24563634\n",
      "  -0.09908929]\n",
      "lambda: 3, coefs: [  0.         -62.67028199  -3.77431865   1.33282249   0.24492481\n",
      "  -0.08719215]\n",
      "lambda: 4, coefs: [  0.         -59.58835636  -3.7469385    0.92369168   0.24420989\n",
      "  -0.07529945]\n",
      "lambda: 5, coefs: [  0.         -56.50686283  -3.71952311   0.514623     0.24349354\n",
      "  -0.06340864]\n",
      "lambda: 6, coefs: [ 0.00000000e+00 -5.34259238e+01 -3.69206248e+00  1.05634036e-01\n",
      "  2.42775341e-01 -5.15202428e-02]\n",
      "lambda: 7, coefs: [ 0.00000000e+00 -5.23630254e+01 -3.59526397e+00  0.00000000e+00\n",
      "  2.39354314e-01 -4.90243804e-02]\n",
      "lambda: 8, coefs: [ 0.00000000e+00 -5.20121719e+01 -3.44610554e+00 -0.00000000e+00\n",
      "  2.33869453e-01 -4.97795390e-02]\n",
      "lambda: 9, coefs: [ 0.00000000e+00 -5.01770739e+01 -3.37205442e+00 -2.19279376e-01\n",
      "  2.31399443e-01 -4.37975480e-02]\n",
      "lambda: 10, coefs: [ 0.00000000e+00 -4.78729649e+01 -3.30914985e+00 -5.12105703e-01\n",
      "  2.29288572e-01 -3.54973072e-02]\n",
      "lambda: 11, coefs: [ 0.00000000e+00 -4.55624324e+01 -3.24676772e+00 -8.05855664e-01\n",
      "  2.27198972e-01 -2.71690428e-02]\n",
      "lambda: 12, coefs: [ 0.00000000e+00 -4.29796537e+01 -3.16668830e+00 -1.14183789e+00\n",
      "  2.24403193e-01 -1.75146108e-02]\n",
      "lambda: 13, coefs: [ 0.00000000e+00 -4.15728565e+01 -3.07049572e+00 -1.30256658e+00\n",
      "  2.20922749e-01 -1.32669462e-02]\n",
      "lambda: 14, coefs: [ 0.00000000e+00 -3.92375545e+01 -3.01013619e+00 -1.59987747e+00\n",
      "  2.18915493e-01 -4.83064993e-03]\n",
      "lambda: 15, coefs: [ 0.00000000e+00 -3.72171819e+01 -2.93834852e+00 -1.84604366e+00\n",
      "  2.16459352e-01  1.94618718e-03]\n",
      "lambda: 16, coefs: [ 0.00000000e+00 -3.49032552e+01 -2.87719566e+00 -2.13989031e+00\n",
      "  2.14420890e-01  1.02701970e-02]\n",
      "lambda: 17, coefs: [ 0.00000000e+00 -3.25896462e+01 -2.81601688e+00 -2.43369127e+00\n",
      "  2.12381373e-01  1.85928208e-02]\n",
      "lambda: 18, coefs: [ 0.00000000e+00 -3.02764258e+01 -2.75480640e+00 -2.72743637e+00\n",
      "  2.10340565e-01  2.69137496e-02]\n",
      "lambda: 19, coefs: [  0.         -27.96380234  -2.69354723  -3.02109565   0.20829778\n",
      "   0.03523208]\n",
      "lambda: 20, coefs: [  0.         -25.65206972  -2.6322154   -3.31462685   0.20625203\n",
      "   0.04354651]\n",
      "lambda: 21, coefs: [  0.         -23.34081083  -2.57084491  -3.60808994   0.2042047\n",
      "   0.05185889]\n",
      "lambda: 22, coefs: [  0.         -21.02986546  -2.50944886  -3.90150796   0.20215634\n",
      "   0.06016989]\n",
      "lambda: 23, coefs: [  0.         -18.72059002  -2.44791658  -4.1946859    0.20010243\n",
      "   0.06847362]\n",
      "lambda: 24, coefs: [  0.         -16.41257588  -2.38628141  -4.4876825    0.19804434\n",
      "   0.07677184]\n",
      "lambda: 25, coefs: [  0.         -14.10635838  -2.32449969  -4.7804208    0.19598027\n",
      "   0.08506222]\n",
      "lambda: 26, coefs: [  0.         -11.80130637  -2.2626229   -5.07299153   0.19391234\n",
      "   0.09334752]\n",
      "lambda: 27, coefs: [ 0.         -9.45153788 -2.20439374 -5.37199112  0.19199291  0.10182786]\n",
      "lambda: 28, coefs: [ 0.         -7.10068435 -2.14625309 -5.6711467   0.19007708  0.11031294]\n",
      "lambda: 29, coefs: [ 0.         -4.76651732 -2.08675128 -5.96790328  0.18810584  0.11872523]\n",
      "lambda: 30, coefs: [ 0.         -2.45182562 -2.02566082 -6.26185991  0.18606991  0.12705258]\n",
      "lambda: 31, coefs: [ 0.         -0.13700197 -1.96458113 -6.55583551  0.18403443  0.1353805 ]\n",
      "lambda: 32, coefs: [ 0.         -0.         -1.7764251  -6.56730326  0.1766202   0.13559877]\n",
      "lambda: 33, coefs: [ 0.         -0.         -1.58383438 -6.56403723  0.16899403  0.13544483]\n",
      "lambda: 34, coefs: [ 0.         -0.         -1.39115899 -6.56081771  0.16136424  0.13529301]\n",
      "lambda: 35, coefs: [ 0.         -0.         -1.19830765 -6.55749107  0.15372798  0.13513631]\n",
      "lambda: 36, coefs: [ 0.         -0.         -1.00536735 -6.55410318  0.14608849  0.13497684]\n",
      "lambda: 37, coefs: [ 0.         -0.         -0.81253577 -6.55080482  0.13845287  0.13482143]\n",
      "lambda: 38, coefs: [ 0.         -0.         -0.61995715 -6.5476938   0.13082637  0.13467452]\n",
      "lambda: 39, coefs: [ 0.         -0.         -0.42705845 -6.54418807  0.12318916  0.1345097 ]\n",
      "lambda: 40, coefs: [ 0.         -0.         -0.2347246  -6.54097046  0.115573    0.13435798]\n",
      "lambda: 41, coefs: [ 0.         -0.         -0.04227386 -6.53757215  0.10795313  0.13419805]\n",
      "lambda: 42, coefs: [ 0.         -0.         -0.         -6.53003053  0.10631585  0.1338542 ]\n",
      "lambda: 43, coefs: [ 0.         -0.         -0.         -6.52189248  0.10635862  0.13348439]\n",
      "lambda: 44, coefs: [ 0.         -0.         -0.         -6.51354206  0.1064025   0.13310495]\n",
      "lambda: 45, coefs: [ 0.         -0.         -0.         -6.50530338  0.10644579  0.13273057]\n",
      "lambda: 46, coefs: [ 0.         -0.         -0.         -6.49721038  0.10648833  0.13236281]\n",
      "lambda: 47, coefs: [ 0.         -0.         -0.         -6.48898463  0.10653156  0.13198902]\n",
      "lambda: 48, coefs: [ 0.         -0.         -0.         -6.48064786  0.10657536  0.13161019]\n",
      "lambda: 49, coefs: [ 0.         -0.         -0.         -6.4725238   0.10661806  0.13124102]\n",
      "lambda: 50, coefs: [ 0.         -0.         -0.         -6.46430893  0.10666123  0.13086772]\n",
      "lambda: 51, coefs: [ 0.         -0.         -0.         -6.45601337  0.10670482  0.13049077]\n",
      "lambda: 52, coefs: [ 0.         -0.         -0.         -6.44764535  0.10674879  0.13011053]\n",
      "lambda: 53, coefs: [ 0.         -0.         -0.         -6.43955231  0.10679133  0.12974276]\n",
      "lambda: 54, coefs: [ 0.         -0.         -0.         -6.43139712  0.10683419  0.12937217]\n",
      "lambda: 55, coefs: [ 0.         -0.         -0.         -6.42319442  0.1068773   0.12899943]\n",
      "lambda: 56, coefs: [ 0.         -0.         -0.         -6.41494617  0.10692064  0.12862462]\n",
      "lambda: 57, coefs: [ 0.         -0.         -0.         -6.40664862  0.10696424  0.12824757]\n",
      "lambda: 58, coefs: [ 0.         -0.         -0.         -6.39830664  0.10700807  0.12786851]\n",
      "lambda: 59, coefs: [ 0.         -0.         -0.         -6.3902998   0.10705016  0.12750465]\n",
      "lambda: 60, coefs: [ 0.         -0.         -0.         -6.38188079  0.10709439  0.1271221 ]\n",
      "lambda: 61, coefs: [ 0.         -0.         -0.         -6.37381824  0.10713677  0.12675571]\n",
      "lambda: 62, coefs: [ 0.         -0.         -0.         -6.36572839  0.1071793   0.12638809]\n",
      "lambda: 63, coefs: [ 0.         -0.         -0.         -6.35720833  0.10722405  0.12600095]\n",
      "lambda: 64, coefs: [ 0.         -0.         -0.         -6.34906441  0.10726685  0.12563087]\n",
      "lambda: 65, coefs: [ 0.         -0.         -0.         -6.34089282  0.1073098   0.12525954]\n",
      "lambda: 66, coefs: [ 0.         -0.         -0.         -6.33270333  0.10735284  0.1248874 ]\n",
      "lambda: 67, coefs: [ 0.         -0.         -0.         -6.32449419  0.10739598  0.12451436]\n",
      "lambda: 68, coefs: [ 0.         -0.         -0.         -6.31626607  0.10743922  0.12414047]\n",
      "lambda: 69, coefs: [ 0.         -0.         -0.         -6.30801599  0.10748257  0.12376557]\n",
      "lambda: 70, coefs: [ 0.         -0.         -0.         -6.29974718  0.10752602  0.12338983]\n",
      "lambda: 71, coefs: [ 0.         -0.         -0.         -6.29146002  0.10756957  0.12301326]\n",
      "lambda: 72, coefs: [ 0.         -0.         -0.         -6.28314782  0.10761324  0.12263555]\n",
      "lambda: 73, coefs: [ 0.         -0.         -0.         -6.27529663  0.10765453  0.12227875]\n",
      "lambda: 74, coefs: [ 0.         -0.         -0.         -6.26696582  0.10769831  0.12190019]\n",
      "lambda: 75, coefs: [ 0.         -0.         -0.         -6.25861805  0.10774216  0.12152087]\n",
      "lambda: 76, coefs: [ 0.         -0.         -0.         -6.25025374  0.10778611  0.1211408 ]\n",
      "lambda: 77, coefs: [ 0.         -0.         -0.         -6.24237029  0.10782756  0.12078254]\n",
      "lambda: 78, coefs: [ 0.         -0.         -0.         -6.23398211  0.10787163  0.12040138]\n",
      "lambda: 79, coefs: [ 0.         -0.         -0.         -6.22557878  0.10791578  0.12001953]\n",
      "lambda: 80, coefs: [ 0.         -0.         -0.         -6.21767942  0.10795732  0.11966055]\n",
      "lambda: 81, coefs: [ 0.         -0.         -0.         -6.20925285  0.10800158  0.11927765]\n",
      "lambda: 82, coefs: [ 0.         -0.         -0.         -6.20133682  0.10804321  0.11891792]\n",
      "lambda: 83, coefs: [ 0.         -0.         -0.         -6.19289095  0.10808758  0.11853414]\n",
      "lambda: 84, coefs: [ 0.         -0.         -0.         -6.18443362  0.108132    0.11814985]\n",
      "lambda: 85, coefs: [ 0.         -0.         -0.         -6.17651017  0.10817366  0.11778977]\n",
      "lambda: 86, coefs: [ 0.         -0.         -0.         -6.16803609  0.10821818  0.11740472]\n",
      "lambda: 87, coefs: [ 0.         -0.         -0.         -6.16010494  0.10825988  0.11704429]\n",
      "lambda: 88, coefs: [ 0.         -0.         -0.         -6.15161118  0.10830449  0.11665835]\n",
      "lambda: 89, coefs: [ 0.         -0.         -0.         -6.14367843  0.10834621  0.11629785]\n",
      "lambda: 90, coefs: [ 0.         -0.         -0.         -6.13516415  0.10839093  0.11591097]\n",
      "lambda: 91, coefs: [ 0.         -0.         -0.         -6.12723005  0.10843264  0.11555041]\n",
      "lambda: 92, coefs: [ 0.         -0.         -0.         -6.11928755  0.10847441  0.11518948]\n",
      "lambda: 93, coefs: [ 0.         -0.         -0.         -6.11075703  0.10851921  0.11480186]\n",
      "lambda: 94, coefs: [ 0.         -0.         -0.         -6.10280212  0.10856104  0.11444036]\n",
      "lambda: 95, coefs: [ 0.         -0.         -0.         -6.09485651  0.10860281  0.11407928]\n",
      "lambda: 96, coefs: [ 0.         -0.         -0.         -6.08690133  0.10864464  0.11371776]\n",
      "lambda: 97, coefs: [ 0.         -0.         -0.         -6.07894615  0.10868647  0.11335625]\n",
      "lambda: 98, coefs: [ 0.         -0.         -0.         -6.07099097  0.1087283   0.11299474]\n",
      "lambda: 99, coefs: [ 0.         -0.         -0.         -6.06245427  0.10877313  0.11260684]\n",
      "lambda: 100, coefs: [ 0.         -0.         -0.         -6.05449142  0.108815    0.11224498]\n"
     ],
     "output_type":"stream"
    },
    {
     "name":"stderr",
     "text":[
      "\/opt\/python\/envs\/default\/lib\/python3.8\/site-packages\/sklearn\/linear_model\/_coordinate_descent.py:647: ConvergenceWarning: Objective did not converge. You might want to increase the number of iterations, check the scale of the features or consider increasing regularisation. Duality gap: 5.517e+02, tolerance: 2.182e+02\n",
      "  model = cd_fast.enet_coordinate_descent(\n"
     ],
     "output_type":"stream"
    }
   ],
   "metadata":{
    "datalore":{
     "node_id":"DcYY9QedspzsMcjK4c0L7l",
     "type":"CODE",
     "hide_input_from_viewers":false,
     "hide_output_from_viewers":false,
     "report_properties":{
      
     }
    }
   }
  },
  {
   "cell_type":"markdown",
   "source":[
    "### 6. Značajke različitih skala"
   ],
   "attachments":{
    
   },
   "metadata":{
    "datalore":{
     "node_id":"EoQu6gzUr6hi3V1tmrR1e1",
     "type":"MD",
     "hide_input_from_viewers":false,
     "hide_output_from_viewers":false,
     "report_properties":{
      
     }
    }
   }
  },
  {
   "cell_type":"markdown",
   "source":[
    "Često se u praksi možemo susreti sa podatcima u kojima sve značajke nisu jednakih magnituda. Primjer jednog takvog skupa je regresijski skup podataka `grades` u kojem se predviđa prosjek ocjena studenta na studiju (1--5) na temelju dvije značajke: bodova na prijamnom ispitu (1--3000) i prosjeka ocjena u srednjoj školi. Prosjek ocjena na studiju izračunat je kao težinska suma ove dvije značajke uz dodani šum.\n",
    "\n",
    "Koristite sljedeći kôd kako biste generirali ovaj skup podataka."
   ],
   "attachments":{
    
   },
   "metadata":{
    "datalore":{
     "node_id":"YG20LxfTx1dCGhOoqPp3GD",
     "type":"MD",
     "hide_input_from_viewers":false,
     "hide_output_from_viewers":false,
     "report_properties":{
      
     }
    }
   }
  },
  {
   "cell_type":"code",
   "source":[
    "n_data_points = 500\n",
    "np.random.seed(69)\n",
    "\n",
    "# Generiraj podatke o bodovima na prijamnom ispitu koristeći normalnu razdiobu i ograniči ih na interval [1, 3000].\n",
    "exam_score = np.random.normal(loc=1500.0, scale = 500.0, size = n_data_points) \n",
    "exam_score = np.round(exam_score)\n",
    "exam_score[exam_score > 3000] = 3000\n",
    "exam_score[exam_score < 0] = 0\n",
    "\n",
    "# Generiraj podatke o ocjenama iz srednje škole koristeći normalnu razdiobu i ograniči ih na interval [1, 5].\n",
    "grade_in_highschool = np.random.normal(loc=3, scale = 2.0, size = n_data_points)\n",
    "grade_in_highschool[grade_in_highschool > 5] = 5\n",
    "grade_in_highschool[grade_in_highschool < 1] = 1\n",
    "\n",
    "# Matrica dizajna.\n",
    "grades_X = np.array([exam_score,grade_in_highschool]).T\n",
    "\n",
    "# Završno, generiraj izlazne vrijednosti.\n",
    "rand_noise = np.random.normal(loc=0.0, scale = 0.5, size = n_data_points)\n",
    "exam_influence = 0.9\n",
    "grades_y = ((exam_score \/ 3000.0) * (exam_influence) + (grade_in_highschool \/ 5.0) \\\n",
    "            * (1.0 - exam_influence)) * 5.0 + rand_noise\n",
    "grades_y[grades_y < 1] = 1\n",
    "grades_y[grades_y > 5] = 5"
   ],
   "execution_count":231,
   "outputs":[
    
   ],
   "metadata":{
    "datalore":{
     "node_id":"p5emqFdt1yNkOF7Nl1IMQS",
     "type":"CODE",
     "hide_input_from_viewers":false,
     "hide_output_from_viewers":false,
     "report_properties":{
      
     }
    }
   }
  },
  {
   "cell_type":"markdown",
   "source":[
    "### a)"
   ],
   "attachments":{
    
   },
   "metadata":{
    "datalore":{
     "node_id":"GebFyJNMcFeVBmuJSDIuF9",
     "type":"MD",
     "hide_input_from_viewers":false,
     "hide_output_from_viewers":false,
     "report_properties":{
      
     }
    }
   }
  },
  {
   "cell_type":"markdown",
   "source":[
    "Iscrtajte ovisnost ciljne vrijednosti (y-os) o prvoj i o drugoj značajki (x-os). Iscrtajte dva odvojena grafa."
   ],
   "attachments":{
    
   },
   "metadata":{
    "datalore":{
     "node_id":"01NccgfSX5ffCDmIgGmnQH",
     "type":"MD",
     "hide_input_from_viewers":false,
     "hide_output_from_viewers":false,
     "report_properties":{
      
     }
    }
   }
  },
  {
   "cell_type":"code",
   "source":[
    "plt.scatter(exam_score, grades_y)\n",
    "plt.title(\"Exam score vs final grade\")\n",
    "plt.show()\n",
    "plt.scatter(grade_in_highschool, grades_y)\n",
    "plt.title(\"Grade in highschool vs final grade\")\n",
    "plt.show()"
   ],
   "execution_count":239,
   "outputs":[
    {
     "data":{
      "image\/png":"[encoded data removed]"
     },
     "metadata":{
      "image\/png":{
       
      }
     },
     "output_type":"display_data"
    },
    {
     "data":{
      "image\/png":"[encoded data removed]"
     },
     "metadata":{
      "image\/png":{
       
      }
     },
     "output_type":"display_data"
    }
   ],
   "metadata":{
    "datalore":{
     "node_id":"S8WWdTzHzle0fdmsYhsmu2",
     "type":"CODE",
     "hide_input_from_viewers":false,
     "hide_output_from_viewers":false,
     "report_properties":{
      
     }
    }
   }
  },
  {
   "cell_type":"markdown",
   "source":[
    "### b)"
   ],
   "attachments":{
    
   },
   "metadata":{
    "datalore":{
     "node_id":"ewx35YFNTBNipmbH6pcPXa",
     "type":"MD",
     "hide_input_from_viewers":false,
     "hide_output_from_viewers":false,
     "report_properties":{
      
     }
    }
   }
  },
  {
   "cell_type":"markdown",
   "source":[
    "Naučite model L2-regularizirane regresije ($\\lambda = 0.01$), na podacima `grades_X` i `grades_y`:"
   ],
   "attachments":{
    
   },
   "metadata":{
    "datalore":{
     "node_id":"DvyyfS3uly7OTu7FWE7U8A",
     "type":"MD",
     "hide_input_from_viewers":false,
     "hide_output_from_viewers":false,
     "report_properties":{
      
     }
    }
   }
  },
  {
   "cell_type":"code",
   "source":[
    "from sklearn.linear_model import Ridge\n",
    "\n",
    "lamb = 0.01\n",
    "\n",
    "clf = Ridge(alpha=lamb)\n",
    "clf.fit(grades_X, grades_y)\n",
    "w = [clf.intercept_]\n",
    "w.extend([coef for coef in clf.coef_])\n",
    "\n",
    "print(w)"
   ],
   "execution_count":249,
   "outputs":[
    {
     "name":"stdout",
     "text":[
      "[0.15061179575776018, 0.0014149686631874095, 0.09477275879174099]\n"
     ],
     "output_type":"stream"
    }
   ],
   "metadata":{
    "datalore":{
     "node_id":"qTDf4J0L9iCidgRhSYV4ev",
     "type":"CODE",
     "hide_input_from_viewers":false,
     "hide_output_from_viewers":false,
     "report_properties":{
      
     }
    }
   }
  },
  {
   "cell_type":"markdown",
   "source":[
    "Sada ponovite gornji eksperiment, ali prvo skalirajte podatke `grades_X` i `grades_y` i spremite ih u varijable `grades_X_fixed` i `grades_y_fixed`. Za tu svrhu, koristite [`StandardScaler`](http:\/\/scikit-learn.org\/stable\/modules\/generated\/sklearn.preprocessing.StandardScaler.html)."
   ],
   "attachments":{
    
   },
   "metadata":{
    "datalore":{
     "node_id":"UKcOP0PERkGIrHqXuy5ABw",
     "type":"MD",
     "hide_input_from_viewers":false,
     "hide_output_from_viewers":false,
     "report_properties":{
      
     }
    }
   }
  },
  {
   "cell_type":"code",
   "source":[
    "from sklearn.preprocessing import StandardScaler\n",
    "\n",
    "lamb = 0.01\n",
    "\n",
    "scaler = StandardScaler()\n",
    "grades_X_fixed = scaler.fit(grades_X).transform(grades_X)\n",
    "grades_y_fixed = scaler.fit(grades_y.reshape(-1,1)).transform(grades_y.reshape(-1,1))\n",
    "\n",
    "clf = Ridge(alpha=lamb)\n",
    "clf.fit(grades_X_fixed, grades_y_fixed)\n",
    "w = [clf.intercept_]\n",
    "w.extend(*[coef for coef in clf.coef_])\n",
    "\n",
    "print(w)"
   ],
   "execution_count":256,
   "outputs":[
    {
     "name":"stdout",
     "text":[
      "[array([8.62551331e-17]), 0.8163037502836593, 0.15167761205975833]\n"
     ],
     "output_type":"stream"
    }
   ],
   "metadata":{
    "datalore":{
     "node_id":"r8pRgxYubdY7Ahl1WKwZar",
     "type":"CODE",
     "hide_input_from_viewers":false,
     "hide_output_from_viewers":false,
     "report_properties":{
      
     }
    }
   }
  },
  {
   "cell_type":"markdown",
   "source":[
    "**Q:** Gledajući grafikone iz podzadatka (a), koja značajka bi trebala imati veću magnitudu, odnosno važnost pri predikciji prosjeka na studiju? Odgovaraju li težine Vašoj intuiciji? Objasnite.  "
   ],
   "attachments":{
    
   },
   "metadata":{
    "datalore":{
     "node_id":"mSTRegr4UzMfymcSMOViIg",
     "type":"MD",
     "hide_input_from_viewers":false,
     "hide_output_from_viewers":false,
     "report_properties":{
      
     }
    }
   }
  },
  {
   "cell_type":"markdown",
   "source":[
    "### 7. Multikolinearnost"
   ],
   "attachments":{
    
   },
   "metadata":{
    "datalore":{
     "node_id":"LVEO79OcUHBYo1p94ZBrdU",
     "type":"MD",
     "hide_input_from_viewers":false,
     "hide_output_from_viewers":false,
     "report_properties":{
      
     }
    }
   }
  },
  {
   "cell_type":"markdown",
   "source":[
    "### a)"
   ],
   "attachments":{
    
   },
   "metadata":{
    "datalore":{
     "node_id":"oUGj8MfmAQQo8aLRZ5a0CZ",
     "type":"MD",
     "hide_input_from_viewers":false,
     "hide_output_from_viewers":false,
     "report_properties":{
      
     }
    }
   }
  },
  {
   "cell_type":"markdown",
   "source":[
    "Izradite skup podataka `grades_X_fixed_colinear` tako što ćete u skupu `grades_X_fixed` iz\n",
    "zadatka *7b* duplicirati zadnji stupac (ocjenu iz srednje škole). Time smo efektivno uveli savršenu multikolinearnost."
   ],
   "attachments":{
    
   },
   "metadata":{
    "datalore":{
     "node_id":"girJikChVjqycbixHHak6G",
     "type":"MD",
     "hide_input_from_viewers":false,
     "hide_output_from_viewers":false,
     "report_properties":{
      
     }
    }
   }
  },
  {
   "cell_type":"code",
   "source":[
    "grades_X_fixed_colinear = np.hstack((grades_X_fixed, np.tile(grades_X_fixed[:, [-1]], 1)))\n",
    "print(grades_X_fixed_colinear)"
   ],
   "execution_count":259,
   "outputs":[
    {
     "name":"stdout",
     "text":[
      "[[ 0.95063817 -0.78607869 -0.78607869]\n",
      " [-0.50343434 -0.50193004 -0.50193004]\n",
      " [ 1.18596832 -0.52213172 -0.52213172]\n",
      " ...\n",
      " [-0.31593552  0.80074234  0.80074234]\n",
      " [ 0.81288393  1.24783236  1.24783236]\n",
      " [-0.01938126  1.21729714  1.21729714]]\n"
     ],
     "output_type":"stream"
    }
   ],
   "metadata":{
    "datalore":{
     "node_id":"R2w7ZczktXWbM6mrfwl5T8",
     "type":"CODE",
     "hide_input_from_viewers":false,
     "hide_output_from_viewers":false,
     "report_properties":{
      
     }
    }
   }
  },
  {
   "cell_type":"markdown",
   "source":[
    "Ponovno, naučite na ovom skupu L2-regularizirani model regresije ($\\lambda = 0.01$)."
   ],
   "attachments":{
    
   },
   "metadata":{
    "datalore":{
     "node_id":"LyDo2e2gAeLmYvaK36Kcvd",
     "type":"MD",
     "hide_input_from_viewers":false,
     "hide_output_from_viewers":false,
     "report_properties":{
      
     }
    }
   }
  },
  {
   "cell_type":"code",
   "source":[
    "from sklearn.preprocessing import StandardScaler\n",
    "\n",
    "lamb = 0.01\n",
    "\n",
    "clf = Ridge(alpha=lamb)\n",
    "clf.fit(grades_X_fixed_colinear, grades_y_fixed)\n",
    "w = [clf.intercept_]\n",
    "w.extend(*[coef for coef in clf.coef_])\n",
    "\n",
    "print(w)"
   ],
   "execution_count":261,
   "outputs":[
    {
     "name":"stdout",
     "text":[
      "[array([8.6255971e-17]), 0.8163036374131403, 0.07583956858529717, 0.07583956858880847]\n"
     ],
     "output_type":"stream"
    }
   ],
   "metadata":{
    "datalore":{
     "node_id":"LzEgSJp2KiUzyRZ472zwGi",
     "type":"CODE",
     "hide_input_from_viewers":false,
     "hide_output_from_viewers":false,
     "report_properties":{
      
     }
    }
   }
  },
  {
   "cell_type":"markdown",
   "source":[
    "**Q:** Usporedite iznose težina s onima koje ste dobili u zadatku *7b*. Što se dogodilo?"
   ],
   "attachments":{
    
   },
   "metadata":{
    "datalore":{
     "node_id":"fqlBrEbDqUCC3moXoChN2j",
     "type":"MD",
     "hide_input_from_viewers":false,
     "hide_output_from_viewers":false,
     "report_properties":{
      
     }
    }
   }
  },
  {
   "cell_type":"markdown",
   "source":[
    "### b)"
   ],
   "attachments":{
    
   },
   "metadata":{
    "datalore":{
     "node_id":"wJBLCxdFCl61d5HyoubBCn",
     "type":"MD",
     "hide_input_from_viewers":false,
     "hide_output_from_viewers":false,
     "report_properties":{
      
     }
    }
   }
  },
  {
   "cell_type":"markdown",
   "source":[
    "Slučajno uzorkujte 50% elemenata iz skupa `grades_X_fixed_colinear` i naučite dva modela L2-regularizirane regresije, jedan s $\\lambda=0.01$ i jedan s $\\lambda=1000$). Ponovite ovaj pokus 10 puta (svaki put s drugim podskupom od 50% elemenata).  Za svaki model, ispišite dobiveni vektor težina u svih 10 ponavljanja te ispišite standardnu devijaciju vrijednosti svake od težina (ukupno šest standardnih devijacija, svaka dobivena nad 10 vrijednosti)."
   ],
   "attachments":{
    
   },
   "metadata":{
    "datalore":{
     "node_id":"80B2rvAkVqv37hwYbOWxDP",
     "type":"MD",
     "hide_input_from_viewers":false,
     "hide_output_from_viewers":false,
     "report_properties":{
      
     }
    }
   }
  },
  {
   "cell_type":"code",
   "source":[
    "coefs = [[], [], []]\n",
    "for i in range(1,11):\n",
    "    X_train, X_test, y_train, y_test = train_test_split(grades_X_fixed_colinear, grades_y_fixed, test_size=0.5)\n",
    "\n",
    "    for lamb in [0.01, 1000]:\n",
    "        clf = Ridge(alpha=lamb)\n",
    "        clf.fit(grades_X_fixed_colinear, grades_y_fixed)\n",
    "        for i in range(0,3):\n",
    "            coefs[i].append(clf.coef_[0][i])\n",
    "\n",
    "print(np.std(coefs[0]))\n",
    "print(np.std(coefs[1]))\n",
    "print(np.std(coefs[2]))"
   ],
   "execution_count":264,
   "outputs":[
    {
     "name":"stdout",
     "text":[
      "0.2714107979255769\n",
      "0.013937965918900508\n",
      "0.013937965920656149\n"
     ],
     "output_type":"stream"
    }
   ],
   "metadata":{
    "datalore":{
     "node_id":"eeFJdsbaZOd7ZWiCUXUKx4",
     "type":"CODE",
     "hide_input_from_viewers":false,
     "hide_output_from_viewers":false,
     "report_properties":{
      
     }
    }
   }
  },
  {
   "cell_type":"markdown",
   "source":[
    "**Q:** Kako regularizacija utječe na stabilnost težina?  \n",
    "**Q:** Jesu li koeficijenti jednakih magnituda kao u prethodnom pokusu? Objasnite zašto."
   ],
   "attachments":{
    
   },
   "metadata":{
    "datalore":{
     "node_id":"KPoUSt7kglE0U6jjOxaZTL",
     "type":"MD",
     "hide_input_from_viewers":false,
     "hide_output_from_viewers":false,
     "report_properties":{
      
     }
    }
   }
  }
 ],
 "metadata":{
  "kernelspec":{
   "display_name":"Python",
   "language":"python",
   "name":"python"
  },
  "datalore":{
   "version":1,
   "computation_mode":"JUPYTER",
   "package_manager":"pip",
   "base_environment":"default",
   "packages":[
    
   ]
  }
 },
 "nbformat":4,
 "nbformat_minor":4
}